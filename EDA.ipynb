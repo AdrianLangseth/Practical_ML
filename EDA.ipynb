{
 "cells": [
  {
   "cell_type": "markdown",
   "source": [
    "## Imports"
   ],
   "metadata": {}
  },
  {
   "cell_type": "code",
   "execution_count": 2,
   "source": [
    "import pandas as pd\r\n",
    "import numpy as np\r\n",
    "from itertools import combinations\r\n",
    "import seaborn as sn\r\n",
    "import matplotlib.pyplot as plt"
   ],
   "outputs": [],
   "metadata": {}
  },
  {
   "cell_type": "markdown",
   "source": [
    "# Exploratory Data Analysis (EDA)"
   ],
   "metadata": {}
  },
  {
   "cell_type": "markdown",
   "source": [
    "Before we perform any feature engineering and start training models, we need to explore properties of the data."
   ],
   "metadata": {}
  },
  {
   "cell_type": "code",
   "execution_count": 3,
   "source": [
    "data_file = '../tdt05-2021-challenge-2/challenge2_train.csv'\r\n",
    "df = pd.read_csv(data_file)\r\n",
    "df"
   ],
   "outputs": [
    {
     "output_type": "execute_result",
     "data": {
      "text/html": [
       "<div>\n",
       "<style scoped>\n",
       "    .dataframe tbody tr th:only-of-type {\n",
       "        vertical-align: middle;\n",
       "    }\n",
       "\n",
       "    .dataframe tbody tr th {\n",
       "        vertical-align: top;\n",
       "    }\n",
       "\n",
       "    .dataframe thead th {\n",
       "        text-align: right;\n",
       "    }\n",
       "</style>\n",
       "<table border=\"1\" class=\"dataframe\">\n",
       "  <thead>\n",
       "    <tr style=\"text-align: right;\">\n",
       "      <th></th>\n",
       "      <th>id</th>\n",
       "      <th>target</th>\n",
       "      <th>f0</th>\n",
       "      <th>f1</th>\n",
       "      <th>f2</th>\n",
       "      <th>f3</th>\n",
       "      <th>f4</th>\n",
       "      <th>f5</th>\n",
       "      <th>f6</th>\n",
       "      <th>f7</th>\n",
       "      <th>...</th>\n",
       "      <th>f19</th>\n",
       "      <th>f20</th>\n",
       "      <th>f21</th>\n",
       "      <th>f22</th>\n",
       "      <th>f23</th>\n",
       "      <th>f24</th>\n",
       "      <th>f25</th>\n",
       "      <th>f26</th>\n",
       "      <th>f27</th>\n",
       "      <th>f28</th>\n",
       "    </tr>\n",
       "  </thead>\n",
       "  <tbody>\n",
       "    <tr>\n",
       "      <th>0</th>\n",
       "      <td>0</td>\n",
       "      <td>0</td>\n",
       "      <td>1.0</td>\n",
       "      <td>gL</td>\n",
       "      <td>e</td>\n",
       "      <td>3.0</td>\n",
       "      <td>A</td>\n",
       "      <td>NaN</td>\n",
       "      <td>0.0</td>\n",
       "      <td>6.0</td>\n",
       "      <td>...</td>\n",
       "      <td>0.5</td>\n",
       "      <td>0.0</td>\n",
       "      <td>3.0</td>\n",
       "      <td>R</td>\n",
       "      <td>328b0cf4e</td>\n",
       "      <td>0.834041</td>\n",
       "      <td>T</td>\n",
       "      <td>N</td>\n",
       "      <td>1.0</td>\n",
       "      <td>14.2364</td>\n",
       "    </tr>\n",
       "    <tr>\n",
       "      <th>1</th>\n",
       "      <td>1</td>\n",
       "      <td>0</td>\n",
       "      <td>0.0</td>\n",
       "      <td>Rj</td>\n",
       "      <td>c</td>\n",
       "      <td>1.0</td>\n",
       "      <td>A</td>\n",
       "      <td>7.0</td>\n",
       "      <td>1.0</td>\n",
       "      <td>4.0</td>\n",
       "      <td>...</td>\n",
       "      <td>0.4</td>\n",
       "      <td>0.0</td>\n",
       "      <td>1.0</td>\n",
       "      <td>NaN</td>\n",
       "      <td>328b0cf4e</td>\n",
       "      <td>0.686021</td>\n",
       "      <td>T</td>\n",
       "      <td>N</td>\n",
       "      <td>1.0</td>\n",
       "      <td>NaN</td>\n",
       "    </tr>\n",
       "    <tr>\n",
       "      <th>2</th>\n",
       "      <td>2</td>\n",
       "      <td>0</td>\n",
       "      <td>NaN</td>\n",
       "      <td>In</td>\n",
       "      <td>a</td>\n",
       "      <td>1.0</td>\n",
       "      <td>A</td>\n",
       "      <td>10.0</td>\n",
       "      <td>1.0</td>\n",
       "      <td>6.0</td>\n",
       "      <td>...</td>\n",
       "      <td>0.5</td>\n",
       "      <td>1.0</td>\n",
       "      <td>3.0</td>\n",
       "      <td>G</td>\n",
       "      <td>0c67fcbbd</td>\n",
       "      <td>1.141271</td>\n",
       "      <td>T</td>\n",
       "      <td>N</td>\n",
       "      <td>3.0</td>\n",
       "      <td>NaN</td>\n",
       "    </tr>\n",
       "    <tr>\n",
       "      <th>3</th>\n",
       "      <td>3</td>\n",
       "      <td>1</td>\n",
       "      <td>1.0</td>\n",
       "      <td>rA</td>\n",
       "      <td>c</td>\n",
       "      <td>3.0</td>\n",
       "      <td>A</td>\n",
       "      <td>7.0</td>\n",
       "      <td>1.0</td>\n",
       "      <td>1.0</td>\n",
       "      <td>...</td>\n",
       "      <td>0.6</td>\n",
       "      <td>1.0</td>\n",
       "      <td>1.0</td>\n",
       "      <td>G</td>\n",
       "      <td>fee4e3007</td>\n",
       "      <td>0.662382</td>\n",
       "      <td>T</td>\n",
       "      <td>N</td>\n",
       "      <td>3.0</td>\n",
       "      <td>NaN</td>\n",
       "    </tr>\n",
       "    <tr>\n",
       "      <th>4</th>\n",
       "      <td>4</td>\n",
       "      <td>0</td>\n",
       "      <td>1.0</td>\n",
       "      <td>pE</td>\n",
       "      <td>c</td>\n",
       "      <td>3.0</td>\n",
       "      <td>A</td>\n",
       "      <td>7.0</td>\n",
       "      <td>0.0</td>\n",
       "      <td>6.0</td>\n",
       "      <td>...</td>\n",
       "      <td>0.5</td>\n",
       "      <td>0.0</td>\n",
       "      <td>1.0</td>\n",
       "      <td>B</td>\n",
       "      <td>587e040bd</td>\n",
       "      <td>-1.000000</td>\n",
       "      <td>T</td>\n",
       "      <td>N</td>\n",
       "      <td>1.0</td>\n",
       "      <td>13.9537</td>\n",
       "    </tr>\n",
       "    <tr>\n",
       "      <th>...</th>\n",
       "      <td>...</td>\n",
       "      <td>...</td>\n",
       "      <td>...</td>\n",
       "      <td>...</td>\n",
       "      <td>...</td>\n",
       "      <td>...</td>\n",
       "      <td>...</td>\n",
       "      <td>...</td>\n",
       "      <td>...</td>\n",
       "      <td>...</td>\n",
       "      <td>...</td>\n",
       "      <td>...</td>\n",
       "      <td>...</td>\n",
       "      <td>...</td>\n",
       "      <td>...</td>\n",
       "      <td>...</td>\n",
       "      <td>...</td>\n",
       "      <td>...</td>\n",
       "      <td>...</td>\n",
       "      <td>...</td>\n",
       "      <td>...</td>\n",
       "    </tr>\n",
       "    <tr>\n",
       "      <th>49995</th>\n",
       "      <td>49995</td>\n",
       "      <td>1</td>\n",
       "      <td>0.0</td>\n",
       "      <td>tT</td>\n",
       "      <td>d</td>\n",
       "      <td>3.0</td>\n",
       "      <td>NaN</td>\n",
       "      <td>11.0</td>\n",
       "      <td>0.0</td>\n",
       "      <td>1.0</td>\n",
       "      <td>...</td>\n",
       "      <td>0.6</td>\n",
       "      <td>1.0</td>\n",
       "      <td>1.0</td>\n",
       "      <td>R</td>\n",
       "      <td>72ccba7a4</td>\n",
       "      <td>0.890576</td>\n",
       "      <td>T</td>\n",
       "      <td>N</td>\n",
       "      <td>3.0</td>\n",
       "      <td>14.0466</td>\n",
       "    </tr>\n",
       "    <tr>\n",
       "      <th>49996</th>\n",
       "      <td>49996</td>\n",
       "      <td>0</td>\n",
       "      <td>1.0</td>\n",
       "      <td>pB</td>\n",
       "      <td>b</td>\n",
       "      <td>2.0</td>\n",
       "      <td>A</td>\n",
       "      <td>7.0</td>\n",
       "      <td>0.0</td>\n",
       "      <td>6.0</td>\n",
       "      <td>...</td>\n",
       "      <td>0.1</td>\n",
       "      <td>0.0</td>\n",
       "      <td>7.0</td>\n",
       "      <td>R</td>\n",
       "      <td>250eea49d</td>\n",
       "      <td>NaN</td>\n",
       "      <td>T</td>\n",
       "      <td>N</td>\n",
       "      <td>1.0</td>\n",
       "      <td>14.0157</td>\n",
       "    </tr>\n",
       "    <tr>\n",
       "      <th>49997</th>\n",
       "      <td>49997</td>\n",
       "      <td>0</td>\n",
       "      <td>0.0</td>\n",
       "      <td>TL</td>\n",
       "      <td>e</td>\n",
       "      <td>1.0</td>\n",
       "      <td>A</td>\n",
       "      <td>11.0</td>\n",
       "      <td>0.0</td>\n",
       "      <td>6.0</td>\n",
       "      <td>...</td>\n",
       "      <td>NaN</td>\n",
       "      <td>0.0</td>\n",
       "      <td>7.0</td>\n",
       "      <td>G</td>\n",
       "      <td>110d4786e</td>\n",
       "      <td>1.327592</td>\n",
       "      <td>T</td>\n",
       "      <td>N</td>\n",
       "      <td>1.0</td>\n",
       "      <td>13.9255</td>\n",
       "    </tr>\n",
       "    <tr>\n",
       "      <th>49998</th>\n",
       "      <td>49998</td>\n",
       "      <td>0</td>\n",
       "      <td>0.0</td>\n",
       "      <td>Bx</td>\n",
       "      <td>a</td>\n",
       "      <td>1.0</td>\n",
       "      <td>A</td>\n",
       "      <td>7.0</td>\n",
       "      <td>1.0</td>\n",
       "      <td>4.0</td>\n",
       "      <td>...</td>\n",
       "      <td>0.4</td>\n",
       "      <td>0.0</td>\n",
       "      <td>3.0</td>\n",
       "      <td>R</td>\n",
       "      <td>0dcf409af</td>\n",
       "      <td>0.842615</td>\n",
       "      <td>T</td>\n",
       "      <td>S</td>\n",
       "      <td>1.0</td>\n",
       "      <td>14.3062</td>\n",
       "    </tr>\n",
       "    <tr>\n",
       "      <th>49999</th>\n",
       "      <td>49999</td>\n",
       "      <td>0</td>\n",
       "      <td>0.0</td>\n",
       "      <td>Pw</td>\n",
       "      <td>f</td>\n",
       "      <td>1.0</td>\n",
       "      <td>A</td>\n",
       "      <td>10.0</td>\n",
       "      <td>0.0</td>\n",
       "      <td>6.0</td>\n",
       "      <td>...</td>\n",
       "      <td>NaN</td>\n",
       "      <td>1.0</td>\n",
       "      <td>5.0</td>\n",
       "      <td>G</td>\n",
       "      <td>098d9fef5</td>\n",
       "      <td>0.996243</td>\n",
       "      <td>F</td>\n",
       "      <td>N</td>\n",
       "      <td>3.0</td>\n",
       "      <td>NaN</td>\n",
       "    </tr>\n",
       "  </tbody>\n",
       "</table>\n",
       "<p>50000 rows × 31 columns</p>\n",
       "</div>"
      ],
      "text/plain": [
       "          id  target   f0  f1 f2   f3   f4    f5   f6   f7  ...  f19  f20  \\\n",
       "0          0       0  1.0  gL  e  3.0    A   NaN  0.0  6.0  ...  0.5  0.0   \n",
       "1          1       0  0.0  Rj  c  1.0    A   7.0  1.0  4.0  ...  0.4  0.0   \n",
       "2          2       0  NaN  In  a  1.0    A  10.0  1.0  6.0  ...  0.5  1.0   \n",
       "3          3       1  1.0  rA  c  3.0    A   7.0  1.0  1.0  ...  0.6  1.0   \n",
       "4          4       0  1.0  pE  c  3.0    A   7.0  0.0  6.0  ...  0.5  0.0   \n",
       "...      ...     ...  ...  .. ..  ...  ...   ...  ...  ...  ...  ...  ...   \n",
       "49995  49995       1  0.0  tT  d  3.0  NaN  11.0  0.0  1.0  ...  0.6  1.0   \n",
       "49996  49996       0  1.0  pB  b  2.0    A   7.0  0.0  6.0  ...  0.1  0.0   \n",
       "49997  49997       0  0.0  TL  e  1.0    A  11.0  0.0  6.0  ...  NaN  0.0   \n",
       "49998  49998       0  0.0  Bx  a  1.0    A   7.0  1.0  4.0  ...  0.4  0.0   \n",
       "49999  49999       0  0.0  Pw  f  1.0    A  10.0  0.0  6.0  ...  NaN  1.0   \n",
       "\n",
       "       f21  f22        f23       f24 f25 f26  f27      f28  \n",
       "0      3.0    R  328b0cf4e  0.834041   T   N  1.0  14.2364  \n",
       "1      1.0  NaN  328b0cf4e  0.686021   T   N  1.0      NaN  \n",
       "2      3.0    G  0c67fcbbd  1.141271   T   N  3.0      NaN  \n",
       "3      1.0    G  fee4e3007  0.662382   T   N  3.0      NaN  \n",
       "4      1.0    B  587e040bd -1.000000   T   N  1.0  13.9537  \n",
       "...    ...  ...        ...       ...  ..  ..  ...      ...  \n",
       "49995  1.0    R  72ccba7a4  0.890576   T   N  3.0  14.0466  \n",
       "49996  7.0    R  250eea49d       NaN   T   N  1.0  14.0157  \n",
       "49997  7.0    G  110d4786e  1.327592   T   N  1.0  13.9255  \n",
       "49998  3.0    R  0dcf409af  0.842615   T   S  1.0  14.3062  \n",
       "49999  5.0    G  098d9fef5  0.996243   F   N  3.0      NaN  \n",
       "\n",
       "[50000 rows x 31 columns]"
      ]
     },
     "metadata": {},
     "execution_count": 3
    }
   ],
   "metadata": {}
  },
  {
   "cell_type": "markdown",
   "source": [
    "We see that the training set has 50000 rows, each with an ID, a target value (the class label to be predicted later), and 29 features. Let's explore some properties of each feature. First, we create a dataframe with only features (without ID and target):"
   ],
   "metadata": {}
  },
  {
   "cell_type": "code",
   "execution_count": 4,
   "source": [
    "# We first remove ID from the original data frame, and create a new one without target\r\n",
    "df = df.drop(labels=['id'], axis=1)\r\n",
    "df_feat = df.drop(labels=['target'], axis=1)"
   ],
   "outputs": [],
   "metadata": {}
  },
  {
   "cell_type": "markdown",
   "source": [
    "## Individual features"
   ],
   "metadata": {}
  },
  {
   "cell_type": "markdown",
   "source": [
    "### Missing values\r\n",
    "We first calculate how large percentages there are of missing values for each column, and plot it in a bar plot."
   ],
   "metadata": {}
  },
  {
   "cell_type": "code",
   "execution_count": 6,
   "source": [
    "def plot_missing(df):\r\n",
    "    percent_missing = [df[col].isnull().sum()/len(df) for col in df.columns]\r\n",
    "    missing_values = pd.DataFrame({'Proportion_of_total_rows': percent_missing}, index=df.columns)\r\n",
    "    missing_values.plot.barh()"
   ],
   "outputs": [],
   "metadata": {}
  },
  {
   "cell_type": "code",
   "execution_count": 7,
   "source": [
    "plot_missing(df_feat)"
   ],
   "outputs": [
    {
     "output_type": "display_data",
     "data": {
      "image/png": "[encoded data removed]",
      "text/plain": [
       "<Figure size 432x288 with 1 Axes>"
      ]
     },
     "metadata": {
      "needs_background": "light"
     }
    }
   ],
   "metadata": {}
  },
  {
   "cell_type": "markdown",
   "source": [
    "We see that f5, f17 and f28 all have a relatively large percent (17-25%) of missing values. These columns therefore need to have their missing values properly imputed, or the features might have to be removed alltogether."
   ],
   "metadata": {}
  },
  {
   "cell_type": "code",
   "execution_count": 8,
   "source": [
    "df_feat_2 = df_feat.drop(labels=['f5','f17','f28'], axis=1)"
   ],
   "outputs": [],
   "metadata": {}
  },
  {
   "cell_type": "markdown",
   "source": [
    "We also check the test set for missing values:"
   ],
   "metadata": {}
  },
  {
   "cell_type": "code",
   "execution_count": 9,
   "source": [
    "data_file = '../tdt05-2021-challenge-2/challenge2_test.csv'\r\n",
    "test_set = pd.read_csv(data_file)"
   ],
   "outputs": [],
   "metadata": {}
  },
  {
   "cell_type": "code",
   "execution_count": 10,
   "source": [
    "plot_missing(test_set)"
   ],
   "outputs": [
    {
     "output_type": "display_data",
     "data": {
      "image/png": "[encoded data removed]",
      "text/plain": [
       "<Figure size 432x288 with 1 Axes>"
      ]
     },
     "metadata": {
      "needs_background": "light"
     }
    }
   ],
   "metadata": {}
  },
  {
   "cell_type": "markdown",
   "source": [
    "The test set has the same proportions of missing values for each feature, so no more features need to be imputed or removed."
   ],
   "metadata": {}
  },
  {
   "cell_type": "markdown",
   "source": [
    "### Feature statistics\r\n",
    "Below are some important statistical numbers of each numerical feature, such as mean, standard deviation and percentiles:"
   ],
   "metadata": {}
  },
  {
   "cell_type": "code",
   "execution_count": 47,
   "source": [
    "df_feat[df_feat.columns[0:10]].hist(grid=False, legend=False)"
   ],
   "outputs": [
    {
     "output_type": "execute_result",
     "data": {
      "text/plain": [
       "array([[<AxesSubplot:title={'center':'f0'}>,\n",
       "        <AxesSubplot:title={'center':'f3'}>],\n",
       "       [<AxesSubplot:title={'center':'f5'}>,\n",
       "        <AxesSubplot:title={'center':'f6'}>],\n",
       "       [<AxesSubplot:title={'center':'f7'}>, <AxesSubplot:>]],\n",
       "      dtype=object)"
      ]
     },
     "metadata": {},
     "execution_count": 47
    },
    {
     "output_type": "display_data",
     "data": {
      "image/png": "[encoded data removed]",
      "text/plain": [
       "<Figure size 432x288 with 6 Axes>"
      ]
     },
     "metadata": {
      "needs_background": "light"
     }
    }
   ],
   "metadata": {}
  },
  {
   "cell_type": "code",
   "execution_count": 44,
   "source": [
    "df_feat[df_feat.columns[0:10]].describe()"
   ],
   "outputs": [
    {
     "output_type": "execute_result",
     "data": {
      "text/html": [
       "<div>\n",
       "<style scoped>\n",
       "    .dataframe tbody tr th:only-of-type {\n",
       "        vertical-align: middle;\n",
       "    }\n",
       "\n",
       "    .dataframe tbody tr th {\n",
       "        vertical-align: top;\n",
       "    }\n",
       "\n",
       "    .dataframe thead th {\n",
       "        text-align: right;\n",
       "    }\n",
       "</style>\n",
       "<table border=\"1\" class=\"dataframe\">\n",
       "  <thead>\n",
       "    <tr style=\"text-align: right;\">\n",
       "      <th></th>\n",
       "      <th>f0</th>\n",
       "      <th>f3</th>\n",
       "      <th>f5</th>\n",
       "      <th>f6</th>\n",
       "      <th>f7</th>\n",
       "    </tr>\n",
       "  </thead>\n",
       "  <tbody>\n",
       "    <tr>\n",
       "      <th>count</th>\n",
       "      <td>48541.000000</td>\n",
       "      <td>48512.000000</td>\n",
       "      <td>38383.000000</td>\n",
       "      <td>48510.000000</td>\n",
       "      <td>48475.000000</td>\n",
       "    </tr>\n",
       "    <tr>\n",
       "      <th>mean</th>\n",
       "      <td>0.629138</td>\n",
       "      <td>1.943643</td>\n",
       "      <td>8.293932</td>\n",
       "      <td>0.535993</td>\n",
       "      <td>4.102960</td>\n",
       "    </tr>\n",
       "    <tr>\n",
       "      <th>std</th>\n",
       "      <td>0.483040</td>\n",
       "      <td>0.852986</td>\n",
       "      <td>2.500502</td>\n",
       "      <td>0.498708</td>\n",
       "      <td>1.854649</td>\n",
       "    </tr>\n",
       "    <tr>\n",
       "      <th>min</th>\n",
       "      <td>0.000000</td>\n",
       "      <td>1.000000</td>\n",
       "      <td>-1.000000</td>\n",
       "      <td>0.000000</td>\n",
       "      <td>1.000000</td>\n",
       "    </tr>\n",
       "    <tr>\n",
       "      <th>25%</th>\n",
       "      <td>0.000000</td>\n",
       "      <td>1.000000</td>\n",
       "      <td>7.000000</td>\n",
       "      <td>0.000000</td>\n",
       "      <td>3.000000</td>\n",
       "    </tr>\n",
       "    <tr>\n",
       "      <th>50%</th>\n",
       "      <td>1.000000</td>\n",
       "      <td>2.000000</td>\n",
       "      <td>7.000000</td>\n",
       "      <td>1.000000</td>\n",
       "      <td>5.000000</td>\n",
       "    </tr>\n",
       "    <tr>\n",
       "      <th>75%</th>\n",
       "      <td>1.000000</td>\n",
       "      <td>3.000000</td>\n",
       "      <td>11.000000</td>\n",
       "      <td>1.000000</td>\n",
       "      <td>6.000000</td>\n",
       "    </tr>\n",
       "    <tr>\n",
       "      <th>max</th>\n",
       "      <td>1.000000</td>\n",
       "      <td>3.000000</td>\n",
       "      <td>11.000000</td>\n",
       "      <td>1.000000</td>\n",
       "      <td>6.000000</td>\n",
       "    </tr>\n",
       "  </tbody>\n",
       "</table>\n",
       "</div>"
      ],
      "text/plain": [
       "                 f0            f3            f5            f6            f7\n",
       "count  48541.000000  48512.000000  38383.000000  48510.000000  48475.000000\n",
       "mean       0.629138      1.943643      8.293932      0.535993      4.102960\n",
       "std        0.483040      0.852986      2.500502      0.498708      1.854649\n",
       "min        0.000000      1.000000     -1.000000      0.000000      1.000000\n",
       "25%        0.000000      1.000000      7.000000      0.000000      3.000000\n",
       "50%        1.000000      2.000000      7.000000      1.000000      5.000000\n",
       "75%        1.000000      3.000000     11.000000      1.000000      6.000000\n",
       "max        1.000000      3.000000     11.000000      1.000000      6.000000"
      ]
     },
     "metadata": {},
     "execution_count": 44
    }
   ],
   "metadata": {}
  },
  {
   "cell_type": "markdown",
   "source": [
    "For each of the numerical features above, the values are somewhat evenly distributed, except for for f5 and f7. Both these features have relatively uneven distribution of values, with some values almost completely lacking instances."
   ],
   "metadata": {}
  },
  {
   "cell_type": "code",
   "execution_count": 59,
   "source": [
    "df_feat[df_feat.columns[10:21]].hist(grid=False, legend=False)"
   ],
   "outputs": [
    {
     "output_type": "execute_result",
     "data": {
      "text/plain": [
       "array([[<AxesSubplot:title={'center':'f11'}>,\n",
       "        <AxesSubplot:title={'center':'f16'}>],\n",
       "       [<AxesSubplot:title={'center':'f17'}>,\n",
       "        <AxesSubplot:title={'center':'f19'}>],\n",
       "       [<AxesSubplot:title={'center':'f20'}>, <AxesSubplot:>]],\n",
       "      dtype=object)"
      ]
     },
     "metadata": {},
     "execution_count": 59
    },
    {
     "output_type": "display_data",
     "data": {
      "image/png": "[encoded data removed]",
      "text/plain": [
       "<Figure size 432x288 with 6 Axes>"
      ]
     },
     "metadata": {
      "needs_background": "light"
     }
    }
   ],
   "metadata": {}
  },
  {
   "cell_type": "code",
   "execution_count": 61,
   "source": [
    "df_feat[df_feat.columns[10:21]].describe()"
   ],
   "outputs": [
    {
     "output_type": "execute_result",
     "data": {
      "text/html": [
       "<div>\n",
       "<style scoped>\n",
       "    .dataframe tbody tr th:only-of-type {\n",
       "        vertical-align: middle;\n",
       "    }\n",
       "\n",
       "    .dataframe tbody tr th {\n",
       "        vertical-align: top;\n",
       "    }\n",
       "\n",
       "    .dataframe thead th {\n",
       "        text-align: right;\n",
       "    }\n",
       "</style>\n",
       "<table border=\"1\" class=\"dataframe\">\n",
       "  <thead>\n",
       "    <tr style=\"text-align: right;\">\n",
       "      <th></th>\n",
       "      <th>f11</th>\n",
       "      <th>f16</th>\n",
       "      <th>f17</th>\n",
       "      <th>f19</th>\n",
       "      <th>f20</th>\n",
       "    </tr>\n",
       "  </thead>\n",
       "  <tbody>\n",
       "    <tr>\n",
       "      <th>count</th>\n",
       "      <td>49855.000000</td>\n",
       "      <td>48540.000000</td>\n",
       "      <td>40238.000000</td>\n",
       "      <td>48563.000000</td>\n",
       "      <td>48536.000000</td>\n",
       "    </tr>\n",
       "    <tr>\n",
       "      <th>mean</th>\n",
       "      <td>14.223701</td>\n",
       "      <td>6.402328</td>\n",
       "      <td>0.810849</td>\n",
       "      <td>0.410788</td>\n",
       "      <td>1.688293</td>\n",
       "    </tr>\n",
       "    <tr>\n",
       "      <th>std</th>\n",
       "      <td>0.170868</td>\n",
       "      <td>3.465100</td>\n",
       "      <td>0.222827</td>\n",
       "      <td>0.185523</td>\n",
       "      <td>3.387964</td>\n",
       "    </tr>\n",
       "    <tr>\n",
       "      <th>min</th>\n",
       "      <td>13.733200</td>\n",
       "      <td>1.000000</td>\n",
       "      <td>0.331538</td>\n",
       "      <td>0.100000</td>\n",
       "      <td>0.000000</td>\n",
       "    </tr>\n",
       "    <tr>\n",
       "      <th>25%</th>\n",
       "      <td>14.098300</td>\n",
       "      <td>3.000000</td>\n",
       "      <td>0.669387</td>\n",
       "      <td>0.300000</td>\n",
       "      <td>0.000000</td>\n",
       "    </tr>\n",
       "    <tr>\n",
       "      <th>50%</th>\n",
       "      <td>14.225500</td>\n",
       "      <td>6.000000</td>\n",
       "      <td>0.764858</td>\n",
       "      <td>0.500000</td>\n",
       "      <td>0.000000</td>\n",
       "    </tr>\n",
       "    <tr>\n",
       "      <th>75%</th>\n",
       "      <td>14.361100</td>\n",
       "      <td>8.000000</td>\n",
       "      <td>0.905196</td>\n",
       "      <td>0.600000</td>\n",
       "      <td>1.000000</td>\n",
       "    </tr>\n",
       "    <tr>\n",
       "      <th>max</th>\n",
       "      <td>14.733000</td>\n",
       "      <td>12.000000</td>\n",
       "      <td>3.336373</td>\n",
       "      <td>0.600000</td>\n",
       "      <td>11.000000</td>\n",
       "    </tr>\n",
       "  </tbody>\n",
       "</table>\n",
       "</div>"
      ],
      "text/plain": [
       "                f11           f16           f17           f19           f20\n",
       "count  49855.000000  48540.000000  40238.000000  48563.000000  48536.000000\n",
       "mean      14.223701      6.402328      0.810849      0.410788      1.688293\n",
       "std        0.170868      3.465100      0.222827      0.185523      3.387964\n",
       "min       13.733200      1.000000      0.331538      0.100000      0.000000\n",
       "25%       14.098300      3.000000      0.669387      0.300000      0.000000\n",
       "50%       14.225500      6.000000      0.764858      0.500000      0.000000\n",
       "75%       14.361100      8.000000      0.905196      0.600000      1.000000\n",
       "max       14.733000     12.000000      3.336373      0.600000     11.000000"
      ]
     },
     "metadata": {},
     "execution_count": 61
    }
   ],
   "metadata": {}
  },
  {
   "cell_type": "markdown",
   "source": [
    "Here, f11 seems to have a bell curve (normal distribution), while f17 has a long tail one. Otherwise, f16, f19 and f20 all have rather uneven distributions."
   ],
   "metadata": {}
  },
  {
   "cell_type": "code",
   "execution_count": 62,
   "source": [
    "df_feat[df_feat.columns[21:29]].hist(grid=False, legend=False)"
   ],
   "outputs": [
    {
     "output_type": "execute_result",
     "data": {
      "text/plain": [
       "array([[<AxesSubplot:title={'center':'f21'}>,\n",
       "        <AxesSubplot:title={'center':'f24'}>],\n",
       "       [<AxesSubplot:title={'center':'f27'}>,\n",
       "        <AxesSubplot:title={'center':'f28'}>]], dtype=object)"
      ]
     },
     "metadata": {},
     "execution_count": 62
    },
    {
     "output_type": "display_data",
     "data": {
      "image/png": "[encoded data removed]",
      "text/plain": [
       "<Figure size 432x288 with 4 Axes>"
      ]
     },
     "metadata": {
      "needs_background": "light"
     }
    }
   ],
   "metadata": {}
  },
  {
   "cell_type": "code",
   "execution_count": 63,
   "source": [
    "df_feat[df_feat.columns[21:29]].describe()"
   ],
   "outputs": [
    {
     "output_type": "execute_result",
     "data": {
      "text/html": [
       "<div>\n",
       "<style scoped>\n",
       "    .dataframe tbody tr th:only-of-type {\n",
       "        vertical-align: middle;\n",
       "    }\n",
       "\n",
       "    .dataframe tbody tr th {\n",
       "        vertical-align: top;\n",
       "    }\n",
       "\n",
       "    .dataframe thead th {\n",
       "        text-align: right;\n",
       "    }\n",
       "</style>\n",
       "<table border=\"1\" class=\"dataframe\">\n",
       "  <thead>\n",
       "    <tr style=\"text-align: right;\">\n",
       "      <th></th>\n",
       "      <th>f21</th>\n",
       "      <th>f24</th>\n",
       "      <th>f27</th>\n",
       "      <th>f28</th>\n",
       "    </tr>\n",
       "  </thead>\n",
       "  <tbody>\n",
       "    <tr>\n",
       "      <th>count</th>\n",
       "      <td>48490.000000</td>\n",
       "      <td>47304.000000</td>\n",
       "      <td>48536.000000</td>\n",
       "      <td>36888.000000</td>\n",
       "    </tr>\n",
       "    <tr>\n",
       "      <th>mean</th>\n",
       "      <td>4.106806</td>\n",
       "      <td>0.552094</td>\n",
       "      <td>1.978943</td>\n",
       "      <td>14.024757</td>\n",
       "    </tr>\n",
       "    <tr>\n",
       "      <th>std</th>\n",
       "      <td>2.030272</td>\n",
       "      <td>0.792686</td>\n",
       "      <td>1.099767</td>\n",
       "      <td>0.190223</td>\n",
       "    </tr>\n",
       "    <tr>\n",
       "      <th>min</th>\n",
       "      <td>1.000000</td>\n",
       "      <td>-1.000000</td>\n",
       "      <td>1.000000</td>\n",
       "      <td>13.495200</td>\n",
       "    </tr>\n",
       "    <tr>\n",
       "      <th>25%</th>\n",
       "      <td>2.000000</td>\n",
       "      <td>0.526783</td>\n",
       "      <td>1.000000</td>\n",
       "      <td>13.894575</td>\n",
       "    </tr>\n",
       "    <tr>\n",
       "      <th>50%</th>\n",
       "      <td>5.000000</td>\n",
       "      <td>0.722842</td>\n",
       "      <td>1.000000</td>\n",
       "      <td>14.026400</td>\n",
       "    </tr>\n",
       "    <tr>\n",
       "      <th>75%</th>\n",
       "      <td>6.000000</td>\n",
       "      <td>0.998749</td>\n",
       "      <td>3.000000</td>\n",
       "      <td>14.165000</td>\n",
       "    </tr>\n",
       "    <tr>\n",
       "      <th>max</th>\n",
       "      <td>7.000000</td>\n",
       "      <td>2.947457</td>\n",
       "      <td>4.000000</td>\n",
       "      <td>14.645600</td>\n",
       "    </tr>\n",
       "  </tbody>\n",
       "</table>\n",
       "</div>"
      ],
      "text/plain": [
       "                f21           f24           f27           f28\n",
       "count  48490.000000  47304.000000  48536.000000  36888.000000\n",
       "mean       4.106806      0.552094      1.978943     14.024757\n",
       "std        2.030272      0.792686      1.099767      0.190223\n",
       "min        1.000000     -1.000000      1.000000     13.495200\n",
       "25%        2.000000      0.526783      1.000000     13.894575\n",
       "50%        5.000000      0.722842      1.000000     14.026400\n",
       "75%        6.000000      0.998749      3.000000     14.165000\n",
       "max        7.000000      2.947457      4.000000     14.645600"
      ]
     },
     "metadata": {},
     "execution_count": 63
    }
   ],
   "metadata": {}
  },
  {
   "cell_type": "markdown",
   "source": [
    "Feature f28 has a close to normal distribution, and f24 a skewed one if '-1' is considered a missing value encoding. Meanwhile, f21 and f27 are quite unevenly distributed."
   ],
   "metadata": {}
  },
  {
   "cell_type": "markdown",
   "source": [
    "## Target distribution"
   ],
   "metadata": {}
  },
  {
   "cell_type": "markdown",
   "source": [
    "Now we check the distribution of rows to each target class:"
   ],
   "metadata": {}
  },
  {
   "cell_type": "code",
   "execution_count": 11,
   "source": [
    "df['target'].plot.hist(bins=2)"
   ],
   "outputs": [
    {
     "output_type": "execute_result",
     "data": {
      "text/plain": [
       "<AxesSubplot:ylabel='Frequency'>"
      ]
     },
     "metadata": {},
     "execution_count": 11
    },
    {
     "output_type": "display_data",
     "data": {
      "image/png": "[encoded data removed]",
      "text/plain": [
       "<Figure size 432x288 with 1 Axes>"
      ]
     },
     "metadata": {
      "needs_background": "light"
     }
    }
   ],
   "metadata": {}
  },
  {
   "cell_type": "code",
   "execution_count": 12,
   "source": [
    "df[['target']].value_counts()"
   ],
   "outputs": [
    {
     "output_type": "execute_result",
     "data": {
      "text/plain": [
       "target\n",
       "0         40744\n",
       "1          9256\n",
       "dtype: int64"
      ]
     },
     "metadata": {},
     "execution_count": 12
    }
   ],
   "metadata": {}
  },
  {
   "cell_type": "markdown",
   "source": [
    "With almost 41K rows labeled '0' and a little over 9K rows labeled '1', the dataset is quite imbalanced (around a 4:1 ratio of rows between the classes). This means that the dataset must either be resampled, or we must account for the imbalance in model selection and training."
   ],
   "metadata": {}
  },
  {
   "cell_type": "markdown",
   "source": [
    "## Feature relations"
   ],
   "metadata": {}
  },
  {
   "cell_type": "markdown",
   "source": [
    "We now plot a heat map, that is a matrix of correlation values for each combination of scalar features: "
   ],
   "metadata": {}
  },
  {
   "cell_type": "code",
   "execution_count": 13,
   "source": [
    "corr = df.corr()\r\n",
    "sn.heatmap(corr)\r\n",
    "plt.show()"
   ],
   "outputs": [
    {
     "output_type": "display_data",
     "data": {
      "image/png": "[encoded data removed]",
      "text/plain": [
       "<Figure size 432x288 with 2 Axes>"
      ]
     },
     "metadata": {
      "needs_background": "light"
     }
    }
   ],
   "metadata": {}
  },
  {
   "cell_type": "markdown",
   "source": [
    "We see that most features are hardly correlating at a all with other features, except for some combinations. There is also some slight correlation between the target and the features f3 and f5, which might indicate a useful pattern for prediction. Therefore, the feature pairs f5-f17, f5-f24, f17-f24 and f20-f27, and the target-feature pairs target-f3 and target-f5, will be further examined:"
   ],
   "metadata": {}
  },
  {
   "cell_type": "code",
   "execution_count": 26,
   "source": [
    "# We use a scatter plot since f17 has a continous interval (floating point) value range\r\n",
    "df.plot.scatter('f5', 'f17')"
   ],
   "outputs": [
    {
     "output_type": "execute_result",
     "data": {
      "text/plain": [
       "<AxesSubplot:xlabel='f5', ylabel='f17'>"
      ]
     },
     "metadata": {},
     "execution_count": 26
    },
    {
     "output_type": "display_data",
     "data": {
      "image/png": "[encoded data removed]",
      "text/plain": [
       "<Figure size 432x288 with 1 Axes>"
      ]
     },
     "metadata": {
      "needs_background": "light"
     }
    }
   ],
   "metadata": {}
  },
  {
   "cell_type": "code",
   "execution_count": 28,
   "source": [
    "# We use a scatter plot since f24 has a continous interval (floating point) value range\r\n",
    "df.plot.scatter('f5', 'f24')"
   ],
   "outputs": [
    {
     "output_type": "execute_result",
     "data": {
      "text/plain": [
       "<AxesSubplot:xlabel='f5', ylabel='f24'>"
      ]
     },
     "metadata": {},
     "execution_count": 28
    },
    {
     "output_type": "display_data",
     "data": {
      "image/png": "[encoded data removed]",
      "text/plain": [
       "<Figure size 432x288 with 1 Axes>"
      ]
     },
     "metadata": {
      "needs_background": "light"
     }
    }
   ],
   "metadata": {}
  },
  {
   "cell_type": "code",
   "execution_count": 29,
   "source": [
    "# We use a scatter plot since f17 and f24 both have continous interval (floating point) value ranges\r\n",
    "df.plot.scatter('f17', 'f24')"
   ],
   "outputs": [
    {
     "output_type": "execute_result",
     "data": {
      "text/plain": [
       "<AxesSubplot:xlabel='f17', ylabel='f24'>"
      ]
     },
     "metadata": {},
     "execution_count": 29
    },
    {
     "output_type": "display_data",
     "data": {
      "image/png": "[encoded data removed]",
      "text/plain": [
       "<Figure size 432x288 with 1 Axes>"
      ]
     },
     "metadata": {
      "needs_background": "light"
     }
    }
   ],
   "metadata": {}
  },
  {
   "cell_type": "code",
   "execution_count": 32,
   "source": [
    "# We use a correlation matrix since f20 and f27 both have ordinal/categorical (integer) value ranges\r\n",
    "pd.crosstab(df['f20'], df['f27'], normalize=\"index\", dropna=False)"
   ],
   "outputs": [
    {
     "output_type": "execute_result",
     "data": {
      "text/html": [
       "<div>\n",
       "<style scoped>\n",
       "    .dataframe tbody tr th:only-of-type {\n",
       "        vertical-align: middle;\n",
       "    }\n",
       "\n",
       "    .dataframe tbody tr th {\n",
       "        vertical-align: top;\n",
       "    }\n",
       "\n",
       "    .dataframe thead th {\n",
       "        text-align: right;\n",
       "    }\n",
       "</style>\n",
       "<table border=\"1\" class=\"dataframe\">\n",
       "  <thead>\n",
       "    <tr style=\"text-align: right;\">\n",
       "      <th>f27</th>\n",
       "      <th>1.0</th>\n",
       "      <th>2.0</th>\n",
       "      <th>3.0</th>\n",
       "      <th>4.0</th>\n",
       "    </tr>\n",
       "    <tr>\n",
       "      <th>f20</th>\n",
       "      <th></th>\n",
       "      <th></th>\n",
       "      <th></th>\n",
       "      <th></th>\n",
       "    </tr>\n",
       "  </thead>\n",
       "  <tbody>\n",
       "    <tr>\n",
       "      <th>0.0</th>\n",
       "      <td>1.0</td>\n",
       "      <td>0.0</td>\n",
       "      <td>0.0</td>\n",
       "      <td>0.0</td>\n",
       "    </tr>\n",
       "    <tr>\n",
       "      <th>1.0</th>\n",
       "      <td>0.0</td>\n",
       "      <td>0.0</td>\n",
       "      <td>1.0</td>\n",
       "      <td>0.0</td>\n",
       "    </tr>\n",
       "    <tr>\n",
       "      <th>10.0</th>\n",
       "      <td>0.0</td>\n",
       "      <td>0.0</td>\n",
       "      <td>0.0</td>\n",
       "      <td>1.0</td>\n",
       "    </tr>\n",
       "    <tr>\n",
       "      <th>11.0</th>\n",
       "      <td>0.0</td>\n",
       "      <td>1.0</td>\n",
       "      <td>0.0</td>\n",
       "      <td>0.0</td>\n",
       "    </tr>\n",
       "  </tbody>\n",
       "</table>\n",
       "</div>"
      ],
      "text/plain": [
       "f27   1.0  2.0  3.0  4.0\n",
       "f20                     \n",
       "0.0   1.0  0.0  0.0  0.0\n",
       "1.0   0.0  0.0  1.0  0.0\n",
       "10.0  0.0  0.0  0.0  1.0\n",
       "11.0  0.0  1.0  0.0  0.0"
      ]
     },
     "metadata": {},
     "execution_count": 32
    }
   ],
   "metadata": {}
  },
  {
   "cell_type": "code",
   "execution_count": 34,
   "source": [
    "# We use a correlation matrix since both f3 and the target have ordinal/categorical (integer) value ranges\r\n",
    "pd.crosstab(df['f3'], df['target'], normalize=\"index\", dropna=False)"
   ],
   "outputs": [
    {
     "output_type": "execute_result",
     "data": {
      "text/html": [
       "<div>\n",
       "<style scoped>\n",
       "    .dataframe tbody tr th:only-of-type {\n",
       "        vertical-align: middle;\n",
       "    }\n",
       "\n",
       "    .dataframe tbody tr th {\n",
       "        vertical-align: top;\n",
       "    }\n",
       "\n",
       "    .dataframe thead th {\n",
       "        text-align: right;\n",
       "    }\n",
       "</style>\n",
       "<table border=\"1\" class=\"dataframe\">\n",
       "  <thead>\n",
       "    <tr style=\"text-align: right;\">\n",
       "      <th>target</th>\n",
       "      <th>0</th>\n",
       "      <th>1</th>\n",
       "    </tr>\n",
       "    <tr>\n",
       "      <th>f3</th>\n",
       "      <th></th>\n",
       "      <th></th>\n",
       "    </tr>\n",
       "  </thead>\n",
       "  <tbody>\n",
       "    <tr>\n",
       "      <th>1.0</th>\n",
       "      <td>0.861460</td>\n",
       "      <td>0.138540</td>\n",
       "    </tr>\n",
       "    <tr>\n",
       "      <th>2.0</th>\n",
       "      <td>0.813581</td>\n",
       "      <td>0.186419</td>\n",
       "    </tr>\n",
       "    <tr>\n",
       "      <th>3.0</th>\n",
       "      <td>0.761279</td>\n",
       "      <td>0.238721</td>\n",
       "    </tr>\n",
       "  </tbody>\n",
       "</table>\n",
       "</div>"
      ],
      "text/plain": [
       "target         0         1\n",
       "f3                        \n",
       "1.0     0.861460  0.138540\n",
       "2.0     0.813581  0.186419\n",
       "3.0     0.761279  0.238721"
      ]
     },
     "metadata": {},
     "execution_count": 34
    }
   ],
   "metadata": {}
  },
  {
   "cell_type": "code",
   "execution_count": 38,
   "source": [
    "# We use a correlation matrix since both f16 and the target have ordinal/categorical (integer) value ranges\r\n",
    "pd.crosstab(df['f16'], df['target'], normalize=\"index\", dropna=False)"
   ],
   "outputs": [
    {
     "output_type": "execute_result",
     "data": {
      "text/html": [
       "<div>\n",
       "<style scoped>\n",
       "    .dataframe tbody tr th:only-of-type {\n",
       "        vertical-align: middle;\n",
       "    }\n",
       "\n",
       "    .dataframe tbody tr th {\n",
       "        vertical-align: top;\n",
       "    }\n",
       "\n",
       "    .dataframe thead th {\n",
       "        text-align: right;\n",
       "    }\n",
       "</style>\n",
       "<table border=\"1\" class=\"dataframe\">\n",
       "  <thead>\n",
       "    <tr style=\"text-align: right;\">\n",
       "      <th>target</th>\n",
       "      <th>0</th>\n",
       "      <th>1</th>\n",
       "    </tr>\n",
       "    <tr>\n",
       "      <th>f16</th>\n",
       "      <th></th>\n",
       "      <th></th>\n",
       "    </tr>\n",
       "  </thead>\n",
       "  <tbody>\n",
       "    <tr>\n",
       "      <th>1.0</th>\n",
       "      <td>0.881785</td>\n",
       "      <td>0.118215</td>\n",
       "    </tr>\n",
       "    <tr>\n",
       "      <th>2.0</th>\n",
       "      <td>0.886866</td>\n",
       "      <td>0.113134</td>\n",
       "    </tr>\n",
       "    <tr>\n",
       "      <th>3.0</th>\n",
       "      <td>0.846301</td>\n",
       "      <td>0.153699</td>\n",
       "    </tr>\n",
       "    <tr>\n",
       "      <th>4.0</th>\n",
       "      <td>0.849917</td>\n",
       "      <td>0.150083</td>\n",
       "    </tr>\n",
       "    <tr>\n",
       "      <th>5.0</th>\n",
       "      <td>0.832337</td>\n",
       "      <td>0.167663</td>\n",
       "    </tr>\n",
       "    <tr>\n",
       "      <th>6.0</th>\n",
       "      <td>0.766330</td>\n",
       "      <td>0.233670</td>\n",
       "    </tr>\n",
       "    <tr>\n",
       "      <th>7.0</th>\n",
       "      <td>0.799547</td>\n",
       "      <td>0.200453</td>\n",
       "    </tr>\n",
       "    <tr>\n",
       "      <th>8.0</th>\n",
       "      <td>0.808697</td>\n",
       "      <td>0.191303</td>\n",
       "    </tr>\n",
       "    <tr>\n",
       "      <th>9.0</th>\n",
       "      <td>0.790487</td>\n",
       "      <td>0.209513</td>\n",
       "    </tr>\n",
       "    <tr>\n",
       "      <th>10.0</th>\n",
       "      <td>0.800000</td>\n",
       "      <td>0.200000</td>\n",
       "    </tr>\n",
       "    <tr>\n",
       "      <th>11.0</th>\n",
       "      <td>0.758613</td>\n",
       "      <td>0.241387</td>\n",
       "    </tr>\n",
       "    <tr>\n",
       "      <th>12.0</th>\n",
       "      <td>0.776183</td>\n",
       "      <td>0.223817</td>\n",
       "    </tr>\n",
       "  </tbody>\n",
       "</table>\n",
       "</div>"
      ],
      "text/plain": [
       "target         0         1\n",
       "f16                       \n",
       "1.0     0.881785  0.118215\n",
       "2.0     0.886866  0.113134\n",
       "3.0     0.846301  0.153699\n",
       "4.0     0.849917  0.150083\n",
       "5.0     0.832337  0.167663\n",
       "6.0     0.766330  0.233670\n",
       "7.0     0.799547  0.200453\n",
       "8.0     0.808697  0.191303\n",
       "9.0     0.790487  0.209513\n",
       "10.0    0.800000  0.200000\n",
       "11.0    0.758613  0.241387\n",
       "12.0    0.776183  0.223817"
      ]
     },
     "metadata": {},
     "execution_count": 38
    }
   ],
   "metadata": {}
  },
  {
   "cell_type": "markdown",
   "source": [
    "There is some slight correlation between the feature pairs of f5-f17, f5-f24, f17-f24, but this should not warrant any change in how these features are engineered. However, we see that the values of feature f20 maps exactly one-to-one to the values of f27, meaning that both features seem to encode exactly the same (or directly related) information. Since including both features will not add any useful information to the learner, one of them can be dropped.\r\n",
    "\r\n",
    "When it comes to correlation between the features f3 and f16 and the target, we see that there certainly is some correlation between them. Both f3 and f16 has an increasing chance of belonging to class '1' with increasing values. This information might help us use these features better to predict the target."
   ],
   "metadata": {}
  }
 ],
 "metadata": {
  "kernelspec": {
   "name": "python3",
   "display_name": "Python 3.8.10 64-bit ('TDT05': conda)"
  },
  "language_info": {
   "codemirror_mode": {
    "name": "ipython",
    "version": 3
   },
   "file_extension": ".py",
   "mimetype": "text/x-python",
   "name": "python",
   "nbconvert_exporter": "python",
   "pygments_lexer": "ipython3",
   "version": "3.8.10"
  },
  "interpreter": {
   "hash": "d663a46a6f865b9fff65a8e55487c0a7a7e2a38a4bb32e474e4d414e81b5a643"
  }
 },
 "nbformat": 4,
 "nbformat_minor": 5
}