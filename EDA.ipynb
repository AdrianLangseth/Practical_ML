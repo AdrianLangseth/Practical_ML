{
 "cells": [
  {
   "cell_type": "markdown",
   "source": [
    "## Imports"
   ],
   "metadata": {}
  },
  {
   "cell_type": "code",
   "execution_count": 21,
   "source": [
    "import pandas as pd\r\n",
    "import numpy as np\r\n",
    "from itertools import combinations\r\n",
    "import seaborn as sn\r\n",
    "import matplotlib.pyplot as plt"
   ],
   "outputs": [],
   "metadata": {}
  },
  {
   "cell_type": "markdown",
   "source": [
    "# Exploratory Data Analysis (EDA)"
   ],
   "metadata": {}
  },
  {
   "cell_type": "markdown",
   "source": [
    "Before we perform any feature engineering and start training models, we need to explore properties of the data."
   ],
   "metadata": {}
  },
  {
   "cell_type": "code",
   "execution_count": 43,
   "source": [
    "data_file = '../tdt05-2021-challenge-2/challenge2_train.csv'\r\n",
    "df = pd.read_csv(data_file)\r\n",
    "df"
   ],
   "outputs": [
    {
     "output_type": "execute_result",
     "data": {
      "text/html": [
       "<div>\n",
       "<style scoped>\n",
       "    .dataframe tbody tr th:only-of-type {\n",
       "        vertical-align: middle;\n",
       "    }\n",
       "\n",
       "    .dataframe tbody tr th {\n",
       "        vertical-align: top;\n",
       "    }\n",
       "\n",
       "    .dataframe thead th {\n",
       "        text-align: right;\n",
       "    }\n",
       "</style>\n",
       "<table border=\"1\" class=\"dataframe\">\n",
       "  <thead>\n",
       "    <tr style=\"text-align: right;\">\n",
       "      <th></th>\n",
       "      <th>id</th>\n",
       "      <th>target</th>\n",
       "      <th>f0</th>\n",
       "      <th>f1</th>\n",
       "      <th>f2</th>\n",
       "      <th>f3</th>\n",
       "      <th>f4</th>\n",
       "      <th>f5</th>\n",
       "      <th>f6</th>\n",
       "      <th>f7</th>\n",
       "      <th>...</th>\n",
       "      <th>f19</th>\n",
       "      <th>f20</th>\n",
       "      <th>f21</th>\n",
       "      <th>f22</th>\n",
       "      <th>f23</th>\n",
       "      <th>f24</th>\n",
       "      <th>f25</th>\n",
       "      <th>f26</th>\n",
       "      <th>f27</th>\n",
       "      <th>f28</th>\n",
       "    </tr>\n",
       "  </thead>\n",
       "  <tbody>\n",
       "    <tr>\n",
       "      <th>0</th>\n",
       "      <td>0</td>\n",
       "      <td>0</td>\n",
       "      <td>1.0</td>\n",
       "      <td>gL</td>\n",
       "      <td>e</td>\n",
       "      <td>3.0</td>\n",
       "      <td>A</td>\n",
       "      <td>NaN</td>\n",
       "      <td>0.0</td>\n",
       "      <td>6.0</td>\n",
       "      <td>...</td>\n",
       "      <td>0.5</td>\n",
       "      <td>0.0</td>\n",
       "      <td>3.0</td>\n",
       "      <td>R</td>\n",
       "      <td>328b0cf4e</td>\n",
       "      <td>0.834041</td>\n",
       "      <td>T</td>\n",
       "      <td>N</td>\n",
       "      <td>1.0</td>\n",
       "      <td>14.2364</td>\n",
       "    </tr>\n",
       "    <tr>\n",
       "      <th>1</th>\n",
       "      <td>1</td>\n",
       "      <td>0</td>\n",
       "      <td>0.0</td>\n",
       "      <td>Rj</td>\n",
       "      <td>c</td>\n",
       "      <td>1.0</td>\n",
       "      <td>A</td>\n",
       "      <td>7.0</td>\n",
       "      <td>1.0</td>\n",
       "      <td>4.0</td>\n",
       "      <td>...</td>\n",
       "      <td>0.4</td>\n",
       "      <td>0.0</td>\n",
       "      <td>1.0</td>\n",
       "      <td>NaN</td>\n",
       "      <td>328b0cf4e</td>\n",
       "      <td>0.686021</td>\n",
       "      <td>T</td>\n",
       "      <td>N</td>\n",
       "      <td>1.0</td>\n",
       "      <td>NaN</td>\n",
       "    </tr>\n",
       "    <tr>\n",
       "      <th>2</th>\n",
       "      <td>2</td>\n",
       "      <td>0</td>\n",
       "      <td>NaN</td>\n",
       "      <td>In</td>\n",
       "      <td>a</td>\n",
       "      <td>1.0</td>\n",
       "      <td>A</td>\n",
       "      <td>10.0</td>\n",
       "      <td>1.0</td>\n",
       "      <td>6.0</td>\n",
       "      <td>...</td>\n",
       "      <td>0.5</td>\n",
       "      <td>1.0</td>\n",
       "      <td>3.0</td>\n",
       "      <td>G</td>\n",
       "      <td>0c67fcbbd</td>\n",
       "      <td>1.141271</td>\n",
       "      <td>T</td>\n",
       "      <td>N</td>\n",
       "      <td>3.0</td>\n",
       "      <td>NaN</td>\n",
       "    </tr>\n",
       "    <tr>\n",
       "      <th>3</th>\n",
       "      <td>3</td>\n",
       "      <td>1</td>\n",
       "      <td>1.0</td>\n",
       "      <td>rA</td>\n",
       "      <td>c</td>\n",
       "      <td>3.0</td>\n",
       "      <td>A</td>\n",
       "      <td>7.0</td>\n",
       "      <td>1.0</td>\n",
       "      <td>1.0</td>\n",
       "      <td>...</td>\n",
       "      <td>0.6</td>\n",
       "      <td>1.0</td>\n",
       "      <td>1.0</td>\n",
       "      <td>G</td>\n",
       "      <td>fee4e3007</td>\n",
       "      <td>0.662382</td>\n",
       "      <td>T</td>\n",
       "      <td>N</td>\n",
       "      <td>3.0</td>\n",
       "      <td>NaN</td>\n",
       "    </tr>\n",
       "    <tr>\n",
       "      <th>4</th>\n",
       "      <td>4</td>\n",
       "      <td>0</td>\n",
       "      <td>1.0</td>\n",
       "      <td>pE</td>\n",
       "      <td>c</td>\n",
       "      <td>3.0</td>\n",
       "      <td>A</td>\n",
       "      <td>7.0</td>\n",
       "      <td>0.0</td>\n",
       "      <td>6.0</td>\n",
       "      <td>...</td>\n",
       "      <td>0.5</td>\n",
       "      <td>0.0</td>\n",
       "      <td>1.0</td>\n",
       "      <td>B</td>\n",
       "      <td>587e040bd</td>\n",
       "      <td>-1.000000</td>\n",
       "      <td>T</td>\n",
       "      <td>N</td>\n",
       "      <td>1.0</td>\n",
       "      <td>13.9537</td>\n",
       "    </tr>\n",
       "    <tr>\n",
       "      <th>...</th>\n",
       "      <td>...</td>\n",
       "      <td>...</td>\n",
       "      <td>...</td>\n",
       "      <td>...</td>\n",
       "      <td>...</td>\n",
       "      <td>...</td>\n",
       "      <td>...</td>\n",
       "      <td>...</td>\n",
       "      <td>...</td>\n",
       "      <td>...</td>\n",
       "      <td>...</td>\n",
       "      <td>...</td>\n",
       "      <td>...</td>\n",
       "      <td>...</td>\n",
       "      <td>...</td>\n",
       "      <td>...</td>\n",
       "      <td>...</td>\n",
       "      <td>...</td>\n",
       "      <td>...</td>\n",
       "      <td>...</td>\n",
       "      <td>...</td>\n",
       "    </tr>\n",
       "    <tr>\n",
       "      <th>49995</th>\n",
       "      <td>49995</td>\n",
       "      <td>1</td>\n",
       "      <td>0.0</td>\n",
       "      <td>tT</td>\n",
       "      <td>d</td>\n",
       "      <td>3.0</td>\n",
       "      <td>NaN</td>\n",
       "      <td>11.0</td>\n",
       "      <td>0.0</td>\n",
       "      <td>1.0</td>\n",
       "      <td>...</td>\n",
       "      <td>0.6</td>\n",
       "      <td>1.0</td>\n",
       "      <td>1.0</td>\n",
       "      <td>R</td>\n",
       "      <td>72ccba7a4</td>\n",
       "      <td>0.890576</td>\n",
       "      <td>T</td>\n",
       "      <td>N</td>\n",
       "      <td>3.0</td>\n",
       "      <td>14.0466</td>\n",
       "    </tr>\n",
       "    <tr>\n",
       "      <th>49996</th>\n",
       "      <td>49996</td>\n",
       "      <td>0</td>\n",
       "      <td>1.0</td>\n",
       "      <td>pB</td>\n",
       "      <td>b</td>\n",
       "      <td>2.0</td>\n",
       "      <td>A</td>\n",
       "      <td>7.0</td>\n",
       "      <td>0.0</td>\n",
       "      <td>6.0</td>\n",
       "      <td>...</td>\n",
       "      <td>0.1</td>\n",
       "      <td>0.0</td>\n",
       "      <td>7.0</td>\n",
       "      <td>R</td>\n",
       "      <td>250eea49d</td>\n",
       "      <td>NaN</td>\n",
       "      <td>T</td>\n",
       "      <td>N</td>\n",
       "      <td>1.0</td>\n",
       "      <td>14.0157</td>\n",
       "    </tr>\n",
       "    <tr>\n",
       "      <th>49997</th>\n",
       "      <td>49997</td>\n",
       "      <td>0</td>\n",
       "      <td>0.0</td>\n",
       "      <td>TL</td>\n",
       "      <td>e</td>\n",
       "      <td>1.0</td>\n",
       "      <td>A</td>\n",
       "      <td>11.0</td>\n",
       "      <td>0.0</td>\n",
       "      <td>6.0</td>\n",
       "      <td>...</td>\n",
       "      <td>NaN</td>\n",
       "      <td>0.0</td>\n",
       "      <td>7.0</td>\n",
       "      <td>G</td>\n",
       "      <td>110d4786e</td>\n",
       "      <td>1.327592</td>\n",
       "      <td>T</td>\n",
       "      <td>N</td>\n",
       "      <td>1.0</td>\n",
       "      <td>13.9255</td>\n",
       "    </tr>\n",
       "    <tr>\n",
       "      <th>49998</th>\n",
       "      <td>49998</td>\n",
       "      <td>0</td>\n",
       "      <td>0.0</td>\n",
       "      <td>Bx</td>\n",
       "      <td>a</td>\n",
       "      <td>1.0</td>\n",
       "      <td>A</td>\n",
       "      <td>7.0</td>\n",
       "      <td>1.0</td>\n",
       "      <td>4.0</td>\n",
       "      <td>...</td>\n",
       "      <td>0.4</td>\n",
       "      <td>0.0</td>\n",
       "      <td>3.0</td>\n",
       "      <td>R</td>\n",
       "      <td>0dcf409af</td>\n",
       "      <td>0.842615</td>\n",
       "      <td>T</td>\n",
       "      <td>S</td>\n",
       "      <td>1.0</td>\n",
       "      <td>14.3062</td>\n",
       "    </tr>\n",
       "    <tr>\n",
       "      <th>49999</th>\n",
       "      <td>49999</td>\n",
       "      <td>0</td>\n",
       "      <td>0.0</td>\n",
       "      <td>Pw</td>\n",
       "      <td>f</td>\n",
       "      <td>1.0</td>\n",
       "      <td>A</td>\n",
       "      <td>10.0</td>\n",
       "      <td>0.0</td>\n",
       "      <td>6.0</td>\n",
       "      <td>...</td>\n",
       "      <td>NaN</td>\n",
       "      <td>1.0</td>\n",
       "      <td>5.0</td>\n",
       "      <td>G</td>\n",
       "      <td>098d9fef5</td>\n",
       "      <td>0.996243</td>\n",
       "      <td>F</td>\n",
       "      <td>N</td>\n",
       "      <td>3.0</td>\n",
       "      <td>NaN</td>\n",
       "    </tr>\n",
       "  </tbody>\n",
       "</table>\n",
       "<p>50000 rows × 31 columns</p>\n",
       "</div>"
      ],
      "text/plain": [
       "          id  target   f0  f1 f2   f3   f4    f5   f6   f7  ...  f19  f20  \\\n",
       "0          0       0  1.0  gL  e  3.0    A   NaN  0.0  6.0  ...  0.5  0.0   \n",
       "1          1       0  0.0  Rj  c  1.0    A   7.0  1.0  4.0  ...  0.4  0.0   \n",
       "2          2       0  NaN  In  a  1.0    A  10.0  1.0  6.0  ...  0.5  1.0   \n",
       "3          3       1  1.0  rA  c  3.0    A   7.0  1.0  1.0  ...  0.6  1.0   \n",
       "4          4       0  1.0  pE  c  3.0    A   7.0  0.0  6.0  ...  0.5  0.0   \n",
       "...      ...     ...  ...  .. ..  ...  ...   ...  ...  ...  ...  ...  ...   \n",
       "49995  49995       1  0.0  tT  d  3.0  NaN  11.0  0.0  1.0  ...  0.6  1.0   \n",
       "49996  49996       0  1.0  pB  b  2.0    A   7.0  0.0  6.0  ...  0.1  0.0   \n",
       "49997  49997       0  0.0  TL  e  1.0    A  11.0  0.0  6.0  ...  NaN  0.0   \n",
       "49998  49998       0  0.0  Bx  a  1.0    A   7.0  1.0  4.0  ...  0.4  0.0   \n",
       "49999  49999       0  0.0  Pw  f  1.0    A  10.0  0.0  6.0  ...  NaN  1.0   \n",
       "\n",
       "       f21  f22        f23       f24 f25 f26  f27      f28  \n",
       "0      3.0    R  328b0cf4e  0.834041   T   N  1.0  14.2364  \n",
       "1      1.0  NaN  328b0cf4e  0.686021   T   N  1.0      NaN  \n",
       "2      3.0    G  0c67fcbbd  1.141271   T   N  3.0      NaN  \n",
       "3      1.0    G  fee4e3007  0.662382   T   N  3.0      NaN  \n",
       "4      1.0    B  587e040bd -1.000000   T   N  1.0  13.9537  \n",
       "...    ...  ...        ...       ...  ..  ..  ...      ...  \n",
       "49995  1.0    R  72ccba7a4  0.890576   T   N  3.0  14.0466  \n",
       "49996  7.0    R  250eea49d       NaN   T   N  1.0  14.0157  \n",
       "49997  7.0    G  110d4786e  1.327592   T   N  1.0  13.9255  \n",
       "49998  3.0    R  0dcf409af  0.842615   T   S  1.0  14.3062  \n",
       "49999  5.0    G  098d9fef5  0.996243   F   N  3.0      NaN  \n",
       "\n",
       "[50000 rows x 31 columns]"
      ]
     },
     "metadata": {},
     "execution_count": 43
    }
   ],
   "metadata": {}
  },
  {
   "cell_type": "markdown",
   "source": [
    "We see that the training set has 50000 rows, each with an ID, a target value (the class label to be predicted later), and 29 features. Let's explore some properties of each feature. First, we create a dataframe with only features (without ID and target), along with numeric and strictly float dataframes."
   ],
   "metadata": {}
  },
  {
   "cell_type": "code",
   "execution_count": 42,
   "source": [
    "# We first remove ID, target, and all columns that are not numeric\r\n",
    "df = df.drop(labels=['id'], axis=1)\r\n",
    "df_feat = df.drop(labels=['target'], axis=1)\r\n",
    "#df_num = df_feat.select_dtypes(include=[np.number])\r\n",
    "#df_float = df_num.select_dtypes(exclude=[int])\r\n",
    "#df_num\r\n",
    "#df_float"
   ],
   "outputs": [],
   "metadata": {}
  },
  {
   "cell_type": "code",
   "execution_count": 48,
   "source": [
    "df['target'] = df['target'].astype(int)\r\n",
    "df"
   ],
   "outputs": [
    {
     "output_type": "execute_result",
     "data": {
      "text/html": [
       "<div>\n",
       "<style scoped>\n",
       "    .dataframe tbody tr th:only-of-type {\n",
       "        vertical-align: middle;\n",
       "    }\n",
       "\n",
       "    .dataframe tbody tr th {\n",
       "        vertical-align: top;\n",
       "    }\n",
       "\n",
       "    .dataframe thead th {\n",
       "        text-align: right;\n",
       "    }\n",
       "</style>\n",
       "<table border=\"1\" class=\"dataframe\">\n",
       "  <thead>\n",
       "    <tr style=\"text-align: right;\">\n",
       "      <th></th>\n",
       "      <th>id</th>\n",
       "      <th>target</th>\n",
       "      <th>f0</th>\n",
       "      <th>f1</th>\n",
       "      <th>f2</th>\n",
       "      <th>f3</th>\n",
       "      <th>f4</th>\n",
       "      <th>f5</th>\n",
       "      <th>f6</th>\n",
       "      <th>f7</th>\n",
       "      <th>...</th>\n",
       "      <th>f19</th>\n",
       "      <th>f20</th>\n",
       "      <th>f21</th>\n",
       "      <th>f22</th>\n",
       "      <th>f23</th>\n",
       "      <th>f24</th>\n",
       "      <th>f25</th>\n",
       "      <th>f26</th>\n",
       "      <th>f27</th>\n",
       "      <th>f28</th>\n",
       "    </tr>\n",
       "  </thead>\n",
       "  <tbody>\n",
       "    <tr>\n",
       "      <th>0</th>\n",
       "      <td>0</td>\n",
       "      <td>0</td>\n",
       "      <td>1.0</td>\n",
       "      <td>gL</td>\n",
       "      <td>e</td>\n",
       "      <td>3.0</td>\n",
       "      <td>A</td>\n",
       "      <td>NaN</td>\n",
       "      <td>0.0</td>\n",
       "      <td>6.0</td>\n",
       "      <td>...</td>\n",
       "      <td>0.5</td>\n",
       "      <td>0.0</td>\n",
       "      <td>3.0</td>\n",
       "      <td>R</td>\n",
       "      <td>328b0cf4e</td>\n",
       "      <td>0.834041</td>\n",
       "      <td>T</td>\n",
       "      <td>N</td>\n",
       "      <td>1.0</td>\n",
       "      <td>14.2364</td>\n",
       "    </tr>\n",
       "    <tr>\n",
       "      <th>1</th>\n",
       "      <td>1</td>\n",
       "      <td>0</td>\n",
       "      <td>0.0</td>\n",
       "      <td>Rj</td>\n",
       "      <td>c</td>\n",
       "      <td>1.0</td>\n",
       "      <td>A</td>\n",
       "      <td>7.0</td>\n",
       "      <td>1.0</td>\n",
       "      <td>4.0</td>\n",
       "      <td>...</td>\n",
       "      <td>0.4</td>\n",
       "      <td>0.0</td>\n",
       "      <td>1.0</td>\n",
       "      <td>NaN</td>\n",
       "      <td>328b0cf4e</td>\n",
       "      <td>0.686021</td>\n",
       "      <td>T</td>\n",
       "      <td>N</td>\n",
       "      <td>1.0</td>\n",
       "      <td>NaN</td>\n",
       "    </tr>\n",
       "    <tr>\n",
       "      <th>2</th>\n",
       "      <td>2</td>\n",
       "      <td>0</td>\n",
       "      <td>NaN</td>\n",
       "      <td>In</td>\n",
       "      <td>a</td>\n",
       "      <td>1.0</td>\n",
       "      <td>A</td>\n",
       "      <td>10.0</td>\n",
       "      <td>1.0</td>\n",
       "      <td>6.0</td>\n",
       "      <td>...</td>\n",
       "      <td>0.5</td>\n",
       "      <td>1.0</td>\n",
       "      <td>3.0</td>\n",
       "      <td>G</td>\n",
       "      <td>0c67fcbbd</td>\n",
       "      <td>1.141271</td>\n",
       "      <td>T</td>\n",
       "      <td>N</td>\n",
       "      <td>3.0</td>\n",
       "      <td>NaN</td>\n",
       "    </tr>\n",
       "    <tr>\n",
       "      <th>3</th>\n",
       "      <td>3</td>\n",
       "      <td>1</td>\n",
       "      <td>1.0</td>\n",
       "      <td>rA</td>\n",
       "      <td>c</td>\n",
       "      <td>3.0</td>\n",
       "      <td>A</td>\n",
       "      <td>7.0</td>\n",
       "      <td>1.0</td>\n",
       "      <td>1.0</td>\n",
       "      <td>...</td>\n",
       "      <td>0.6</td>\n",
       "      <td>1.0</td>\n",
       "      <td>1.0</td>\n",
       "      <td>G</td>\n",
       "      <td>fee4e3007</td>\n",
       "      <td>0.662382</td>\n",
       "      <td>T</td>\n",
       "      <td>N</td>\n",
       "      <td>3.0</td>\n",
       "      <td>NaN</td>\n",
       "    </tr>\n",
       "    <tr>\n",
       "      <th>4</th>\n",
       "      <td>4</td>\n",
       "      <td>0</td>\n",
       "      <td>1.0</td>\n",
       "      <td>pE</td>\n",
       "      <td>c</td>\n",
       "      <td>3.0</td>\n",
       "      <td>A</td>\n",
       "      <td>7.0</td>\n",
       "      <td>0.0</td>\n",
       "      <td>6.0</td>\n",
       "      <td>...</td>\n",
       "      <td>0.5</td>\n",
       "      <td>0.0</td>\n",
       "      <td>1.0</td>\n",
       "      <td>B</td>\n",
       "      <td>587e040bd</td>\n",
       "      <td>-1.000000</td>\n",
       "      <td>T</td>\n",
       "      <td>N</td>\n",
       "      <td>1.0</td>\n",
       "      <td>13.9537</td>\n",
       "    </tr>\n",
       "    <tr>\n",
       "      <th>...</th>\n",
       "      <td>...</td>\n",
       "      <td>...</td>\n",
       "      <td>...</td>\n",
       "      <td>...</td>\n",
       "      <td>...</td>\n",
       "      <td>...</td>\n",
       "      <td>...</td>\n",
       "      <td>...</td>\n",
       "      <td>...</td>\n",
       "      <td>...</td>\n",
       "      <td>...</td>\n",
       "      <td>...</td>\n",
       "      <td>...</td>\n",
       "      <td>...</td>\n",
       "      <td>...</td>\n",
       "      <td>...</td>\n",
       "      <td>...</td>\n",
       "      <td>...</td>\n",
       "      <td>...</td>\n",
       "      <td>...</td>\n",
       "      <td>...</td>\n",
       "    </tr>\n",
       "    <tr>\n",
       "      <th>49995</th>\n",
       "      <td>49995</td>\n",
       "      <td>1</td>\n",
       "      <td>0.0</td>\n",
       "      <td>tT</td>\n",
       "      <td>d</td>\n",
       "      <td>3.0</td>\n",
       "      <td>NaN</td>\n",
       "      <td>11.0</td>\n",
       "      <td>0.0</td>\n",
       "      <td>1.0</td>\n",
       "      <td>...</td>\n",
       "      <td>0.6</td>\n",
       "      <td>1.0</td>\n",
       "      <td>1.0</td>\n",
       "      <td>R</td>\n",
       "      <td>72ccba7a4</td>\n",
       "      <td>0.890576</td>\n",
       "      <td>T</td>\n",
       "      <td>N</td>\n",
       "      <td>3.0</td>\n",
       "      <td>14.0466</td>\n",
       "    </tr>\n",
       "    <tr>\n",
       "      <th>49996</th>\n",
       "      <td>49996</td>\n",
       "      <td>0</td>\n",
       "      <td>1.0</td>\n",
       "      <td>pB</td>\n",
       "      <td>b</td>\n",
       "      <td>2.0</td>\n",
       "      <td>A</td>\n",
       "      <td>7.0</td>\n",
       "      <td>0.0</td>\n",
       "      <td>6.0</td>\n",
       "      <td>...</td>\n",
       "      <td>0.1</td>\n",
       "      <td>0.0</td>\n",
       "      <td>7.0</td>\n",
       "      <td>R</td>\n",
       "      <td>250eea49d</td>\n",
       "      <td>NaN</td>\n",
       "      <td>T</td>\n",
       "      <td>N</td>\n",
       "      <td>1.0</td>\n",
       "      <td>14.0157</td>\n",
       "    </tr>\n",
       "    <tr>\n",
       "      <th>49997</th>\n",
       "      <td>49997</td>\n",
       "      <td>0</td>\n",
       "      <td>0.0</td>\n",
       "      <td>TL</td>\n",
       "      <td>e</td>\n",
       "      <td>1.0</td>\n",
       "      <td>A</td>\n",
       "      <td>11.0</td>\n",
       "      <td>0.0</td>\n",
       "      <td>6.0</td>\n",
       "      <td>...</td>\n",
       "      <td>NaN</td>\n",
       "      <td>0.0</td>\n",
       "      <td>7.0</td>\n",
       "      <td>G</td>\n",
       "      <td>110d4786e</td>\n",
       "      <td>1.327592</td>\n",
       "      <td>T</td>\n",
       "      <td>N</td>\n",
       "      <td>1.0</td>\n",
       "      <td>13.9255</td>\n",
       "    </tr>\n",
       "    <tr>\n",
       "      <th>49998</th>\n",
       "      <td>49998</td>\n",
       "      <td>0</td>\n",
       "      <td>0.0</td>\n",
       "      <td>Bx</td>\n",
       "      <td>a</td>\n",
       "      <td>1.0</td>\n",
       "      <td>A</td>\n",
       "      <td>7.0</td>\n",
       "      <td>1.0</td>\n",
       "      <td>4.0</td>\n",
       "      <td>...</td>\n",
       "      <td>0.4</td>\n",
       "      <td>0.0</td>\n",
       "      <td>3.0</td>\n",
       "      <td>R</td>\n",
       "      <td>0dcf409af</td>\n",
       "      <td>0.842615</td>\n",
       "      <td>T</td>\n",
       "      <td>S</td>\n",
       "      <td>1.0</td>\n",
       "      <td>14.3062</td>\n",
       "    </tr>\n",
       "    <tr>\n",
       "      <th>49999</th>\n",
       "      <td>49999</td>\n",
       "      <td>0</td>\n",
       "      <td>0.0</td>\n",
       "      <td>Pw</td>\n",
       "      <td>f</td>\n",
       "      <td>1.0</td>\n",
       "      <td>A</td>\n",
       "      <td>10.0</td>\n",
       "      <td>0.0</td>\n",
       "      <td>6.0</td>\n",
       "      <td>...</td>\n",
       "      <td>NaN</td>\n",
       "      <td>1.0</td>\n",
       "      <td>5.0</td>\n",
       "      <td>G</td>\n",
       "      <td>098d9fef5</td>\n",
       "      <td>0.996243</td>\n",
       "      <td>F</td>\n",
       "      <td>N</td>\n",
       "      <td>3.0</td>\n",
       "      <td>NaN</td>\n",
       "    </tr>\n",
       "  </tbody>\n",
       "</table>\n",
       "<p>50000 rows × 31 columns</p>\n",
       "</div>"
      ],
      "text/plain": [
       "          id  target   f0  f1 f2   f3   f4    f5   f6   f7  ...  f19  f20  \\\n",
       "0          0       0  1.0  gL  e  3.0    A   NaN  0.0  6.0  ...  0.5  0.0   \n",
       "1          1       0  0.0  Rj  c  1.0    A   7.0  1.0  4.0  ...  0.4  0.0   \n",
       "2          2       0  NaN  In  a  1.0    A  10.0  1.0  6.0  ...  0.5  1.0   \n",
       "3          3       1  1.0  rA  c  3.0    A   7.0  1.0  1.0  ...  0.6  1.0   \n",
       "4          4       0  1.0  pE  c  3.0    A   7.0  0.0  6.0  ...  0.5  0.0   \n",
       "...      ...     ...  ...  .. ..  ...  ...   ...  ...  ...  ...  ...  ...   \n",
       "49995  49995       1  0.0  tT  d  3.0  NaN  11.0  0.0  1.0  ...  0.6  1.0   \n",
       "49996  49996       0  1.0  pB  b  2.0    A   7.0  0.0  6.0  ...  0.1  0.0   \n",
       "49997  49997       0  0.0  TL  e  1.0    A  11.0  0.0  6.0  ...  NaN  0.0   \n",
       "49998  49998       0  0.0  Bx  a  1.0    A   7.0  1.0  4.0  ...  0.4  0.0   \n",
       "49999  49999       0  0.0  Pw  f  1.0    A  10.0  0.0  6.0  ...  NaN  1.0   \n",
       "\n",
       "       f21  f22        f23       f24 f25 f26  f27      f28  \n",
       "0      3.0    R  328b0cf4e  0.834041   T   N  1.0  14.2364  \n",
       "1      1.0  NaN  328b0cf4e  0.686021   T   N  1.0      NaN  \n",
       "2      3.0    G  0c67fcbbd  1.141271   T   N  3.0      NaN  \n",
       "3      1.0    G  fee4e3007  0.662382   T   N  3.0      NaN  \n",
       "4      1.0    B  587e040bd -1.000000   T   N  1.0  13.9537  \n",
       "...    ...  ...        ...       ...  ..  ..  ...      ...  \n",
       "49995  1.0    R  72ccba7a4  0.890576   T   N  3.0  14.0466  \n",
       "49996  7.0    R  250eea49d       NaN   T   N  1.0  14.0157  \n",
       "49997  7.0    G  110d4786e  1.327592   T   N  1.0  13.9255  \n",
       "49998  3.0    R  0dcf409af  0.842615   T   S  1.0  14.3062  \n",
       "49999  5.0    G  098d9fef5  0.996243   F   N  3.0      NaN  \n",
       "\n",
       "[50000 rows x 31 columns]"
      ]
     },
     "metadata": {},
     "execution_count": 48
    }
   ],
   "metadata": {}
  },
  {
   "cell_type": "markdown",
   "source": [
    "## Individual features"
   ],
   "metadata": {}
  },
  {
   "cell_type": "code",
   "execution_count": 4,
   "source": [
    "import warnings\r\n",
    "warnings.filterwarnings(\"ignore\")\r\n",
    "\r\n",
    "import pandas as pd\r\n",
    "import numpy as np\r\n",
    "import matplotlib.pyplot as plt\r\n",
    "import seaborn as sns\r\n",
    "from sklearn.impute import SimpleImputer\r\n",
    "import scipy\r\n",
    "from sklearn.linear_model import LogisticRegression\r\n",
    "from sklearn.metrics import auc, roc_curve\r\n",
    "from sklearn.model_selection import StratifiedKFold, GridSearchCV\r\n",
    "from tqdm import tqdm_notebook"
   ],
   "outputs": [],
   "metadata": {}
  },
  {
   "cell_type": "markdown",
   "source": [
    "We first calculate how large percentages there are of df_feat_2 values for each column, and plot it in a bar plot."
   ],
   "metadata": {}
  },
  {
   "cell_type": "code",
   "execution_count": 14,
   "source": [
    "def plot_missing(df):\r\n",
    "    percent_missing = [df[col].isnull().sum()/len(df) for col in df.columns]\r\n",
    "    missing_values = pd.DataFrame({'Proportion_of_total_rows': percent_missing}, index=df.columns)\r\n",
    "    missing_values.plot.barh()"
   ],
   "outputs": [],
   "metadata": {}
  },
  {
   "cell_type": "code",
   "execution_count": 15,
   "source": [
    "plot_missing(df_feat)"
   ],
   "outputs": [
    {
     "output_type": "display_data",
     "data": {
      "image/png": "[encoded data removed]",
      "text/plain": [
       "<Figure size 432x288 with 1 Axes>"
      ]
     },
     "metadata": {
      "needs_background": "light"
     }
    }
   ],
   "metadata": {}
  },
  {
   "cell_type": "markdown",
   "source": [
    "We see that f5, f17 and f28 all have a relatively large percent (17-25%) of missing values. These columns therefore need to have their missing values properly imputed, or the features might have to be removed alltogether."
   ],
   "metadata": {}
  },
  {
   "cell_type": "code",
   "execution_count": 7,
   "source": [
    "df_feat_2 = df_feat.drop(labels=['f5','f17','f28'], axis=1)"
   ],
   "outputs": [],
   "metadata": {}
  },
  {
   "cell_type": "markdown",
   "source": [
    "We also check the test set for missing values:"
   ],
   "metadata": {}
  },
  {
   "cell_type": "code",
   "execution_count": 8,
   "source": [
    "data_file = '../tdt05-2021-challenge-2/challenge2_test.csv'\r\n",
    "test_set = pd.read_csv(data_file)"
   ],
   "outputs": [],
   "metadata": {}
  },
  {
   "cell_type": "code",
   "execution_count": 16,
   "source": [
    "plot_missing(test_set)"
   ],
   "outputs": [
    {
     "output_type": "display_data",
     "data": {
      "image/png": "[encoded data removed]",
      "text/plain": [
       "<Figure size 432x288 with 1 Axes>"
      ]
     },
     "metadata": {
      "needs_background": "light"
     }
    }
   ],
   "metadata": {}
  },
  {
   "cell_type": "markdown",
   "source": [
    "The test set has the same proportions of missing values for each feature, so no more features need to be imputed or removed."
   ],
   "metadata": {}
  },
  {
   "cell_type": "code",
   "execution_count": 10,
   "source": [
    "#df.describe()"
   ],
   "outputs": [],
   "metadata": {}
  },
  {
   "cell_type": "code",
   "execution_count": 11,
   "source": [
    "#df_num[df_num.columns[0:5]].hist(grid=False, legend=False)\r\n",
    "#df_num[df_num.columns[5:10]].hist(grid=False, legend=False)\r\n",
    "#df_num[df_num.columns[10:14]].hist(grid=False, legend=False)"
   ],
   "outputs": [],
   "metadata": {}
  },
  {
   "cell_type": "markdown",
   "source": [
    "## Target distribution"
   ],
   "metadata": {}
  },
  {
   "cell_type": "markdown",
   "source": [
    "Now we check the distribution of rows to each target class:"
   ],
   "metadata": {}
  },
  {
   "cell_type": "code",
   "execution_count": 44,
   "source": [
    "df['target'].plot.hist(bins=2)"
   ],
   "outputs": [
    {
     "output_type": "execute_result",
     "data": {
      "text/plain": [
       "<AxesSubplot:ylabel='Frequency'>"
      ]
     },
     "metadata": {},
     "execution_count": 44
    },
    {
     "output_type": "display_data",
     "data": {
      "image/png": "[encoded data removed]",
      "text/plain": [
       "<Figure size 432x288 with 1 Axes>"
      ]
     },
     "metadata": {
      "needs_background": "light"
     }
    }
   ],
   "metadata": {}
  },
  {
   "cell_type": "code",
   "execution_count": 21,
   "source": [
    "df[['target']].value_counts()"
   ],
   "outputs": [
    {
     "output_type": "execute_result",
     "data": {
      "text/plain": [
       "target\n",
       "0         40744\n",
       "1          9256\n",
       "dtype: int64"
      ]
     },
     "metadata": {},
     "execution_count": 21
    }
   ],
   "metadata": {}
  },
  {
   "cell_type": "markdown",
   "source": [
    "With almost 41K rows labeled '0' and a little over 9K rows labeled '1', the dataset is quite imbalanced (around a 4:1 ratio of rows between the classes). This means that the dataset must either be resampled, or we must account for the imbalance in model selection and training."
   ],
   "metadata": {}
  },
  {
   "cell_type": "markdown",
   "source": [
    "## Feature relations"
   ],
   "metadata": {}
  },
  {
   "cell_type": "markdown",
   "source": [
    "We now plot a heat map, that is a matrix of correlation values for each combination of scalar features: "
   ],
   "metadata": {}
  },
  {
   "cell_type": "code",
   "execution_count": 22,
   "source": [
    "corr = df.corr()\r\n",
    "sn.heatmap(corr)\r\n",
    "plt.show()"
   ],
   "outputs": [
    {
     "output_type": "display_data",
     "data": {
      "image/png": "[encoded data removed]",
      "text/plain": [
       "<Figure size 432x288 with 2 Axes>"
      ]
     },
     "metadata": {
      "needs_background": "light"
     }
    }
   ],
   "metadata": {}
  },
  {
   "cell_type": "markdown",
   "source": [
    "We see that most features are hardly correlating at a all with other features, except for some combinations. We will take a closer look at the feature pairs f5-f24, f20-f27, as well as target-f3 and target-f5:"
   ],
   "metadata": {}
  },
  {
   "cell_type": "code",
   "execution_count": 50,
   "source": [
    "df.plot.scatter(x='f5',y='f24')"
   ],
   "outputs": [
    {
     "output_type": "execute_result",
     "data": {
      "text/plain": [
       "<AxesSubplot:xlabel='f5', ylabel='f24'>"
      ]
     },
     "metadata": {},
     "execution_count": 50
    },
    {
     "output_type": "display_data",
     "data": {
      "image/png": "[encoded data removed]",
      "text/plain": [
       "<Figure size 432x288 with 1 Axes>"
      ]
     },
     "metadata": {
      "needs_background": "light"
     }
    }
   ],
   "metadata": {}
  },
  {
   "cell_type": "code",
   "execution_count": 51,
   "source": [
    "df.plot.scatter(x='f20',y='f27')"
   ],
   "outputs": [
    {
     "output_type": "execute_result",
     "data": {
      "text/plain": [
       "<AxesSubplot:xlabel='f20', ylabel='f27'>"
      ]
     },
     "metadata": {},
     "execution_count": 51
    },
    {
     "output_type": "display_data",
     "data": {
      "image/png": "[encoded data removed]",
      "text/plain": [
       "<Figure size 432x288 with 1 Axes>"
      ]
     },
     "metadata": {
      "needs_background": "light"
     }
    }
   ],
   "metadata": {}
  },
  {
   "cell_type": "code",
   "execution_count": 52,
   "source": [
    "corr[]"
   ],
   "outputs": [
    {
     "output_type": "execute_result",
     "data": {
      "text/plain": [
       "<AxesSubplot:xlabel='target', ylabel='f3'>"
      ]
     },
     "metadata": {},
     "execution_count": 52
    },
    {
     "output_type": "display_data",
     "data": {
      "image/png": "[encoded data removed]",
      "text/plain": [
       "<Figure size 432x288 with 1 Axes>"
      ]
     },
     "metadata": {
      "needs_background": "light"
     }
    }
   ],
   "metadata": {}
  },
  {
   "cell_type": "markdown",
   "source": [
    "We see that there is not any particularly signifcant correlation between f5 and f24. There is some evident correlation between f20 and f27, but since both values are most likely categorical (they have only four possible values each) and the correlation is rather weak, it is unlikely that there is actually a useful pattern here."
   ],
   "metadata": {}
  },
  {
   "cell_type": "code",
   "execution_count": null,
   "source": [
    "data_file = './engineered_data.csv'\r\n",
    "ed = pd.read_csv(data_file)\r\n",
    "ed"
   ],
   "outputs": [],
   "metadata": {}
  },
  {
   "cell_type": "code",
   "execution_count": null,
   "source": [
    "datadf = df.drop(['id'], axis=1)\r\n",
    "cols = datadf.columns.tolist()\r\n",
    "\r\n",
    "#datadf.fillna('missing', inplace=True)\r\n",
    "\r\n",
    "datadf_f1_f2 = datadf[['f3', 'f2']]\r\n",
    "cols_f1_f2 = datadf_f1_f2.columns.tolist()\r\n",
    "i = 0\r\n",
    "old_prem_col = None\r\n",
    "\r\n",
    "for col1, col2 in combinations(cols_f1_f2, 2):\r\n",
    "    if old_prem_col != col1:\r\n",
    "        old_prem_col = col1\r\n",
    "        print(f'\\n\\n|---------------{col1}------------------|\\n\\n')\r\n",
    "    if len(datadf_f1_f2[col1].unique()) >= len(datadf_f1_f2[col2].unique()):\r\n",
    "        ind = col1\r\n",
    "        ccc = col2\r\n",
    "    else:\r\n",
    "        ind = col2\r\n",
    "        ccc = col1\r\n",
    "    cooc_df = pd.crosstab(datadf_f1_f2[ind], datadf_f1_f2[ccc], normalize=\"index\", dropna=False)\r\n",
    "    if col1 == 'target':\r\n",
    "        cooc_df.sort_values(by=0, ascending=False, inplace=True)\r\n",
    "    else:\r\n",
    "        cooc_df.dropna() #'missing', axis=1, inplace=True)\r\n",
    "    print(cooc_df.to_string())\r\n",
    "    print('\\n\\n|--------------------------------------------|\\n\\n')\r\n",
    "\r\n",
    "    "
   ],
   "outputs": [],
   "metadata": {}
  },
  {
   "cell_type": "code",
   "execution_count": null,
   "source": [
    "datadf_f1_f2"
   ],
   "outputs": [],
   "metadata": {}
  },
  {
   "cell_type": "code",
   "execution_count": null,
   "source": [
    "datadf_f1_f2.plot.scatter(x='f3', y='f2')"
   ],
   "outputs": [],
   "metadata": {}
  },
  {
   "cell_type": "code",
   "execution_count": null,
   "source": [
    "df['f28'].value_counts(dropna=False)"
   ],
   "outputs": [],
   "metadata": {}
  },
  {
   "cell_type": "code",
   "execution_count": null,
   "source": [
    "nda = df['f26'].dropna().unique()\r\n",
    "np.sort(nda)"
   ],
   "outputs": [],
   "metadata": {}
  }
 ],
 "metadata": {
  "kernelspec": {
   "name": "python3",
   "display_name": "Python 3.8.10 64-bit ('TDT05': conda)"
  },
  "language_info": {
   "codemirror_mode": {
    "name": "ipython",
    "version": 3
   },
   "file_extension": ".py",
   "mimetype": "text/x-python",
   "name": "python",
   "nbconvert_exporter": "python",
   "pygments_lexer": "ipython3",
   "version": "3.8.10"
  },
  "interpreter": {
   "hash": "d663a46a6f865b9fff65a8e55487c0a7a7e2a38a4bb32e474e4d414e81b5a643"
  }
 },
 "nbformat": 4,
 "nbformat_minor": 5
}