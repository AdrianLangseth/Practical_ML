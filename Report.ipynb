{
 "cells": [
  {
   "cell_type": "markdown",
   "source": [
    "# Report - Challenge 2: Binary classification\r\n",
    "## TDT05 Modern Machine Learning in Practice\r\n",
    "### By Group 2-AM (Adrian Langseth & Magnus Reier Rushfeldt)"
   ],
   "metadata": {}
  },
  {
   "cell_type": "markdown",
   "source": [
    "## Introduction\r\n",
    "\r\n",
    "In this report, the process and result of creating a machine learning model to perform binary classification on a 100K x 29 size dataset (100K rows with 29 features each) will be presented. Each instance belongs to one of two classes, and the goal was to create a model that could predict the classes of unseen instances as accurate as possible (evaluated by the ROC-AUC metric)."
   ],
   "metadata": {}
  },
  {
   "cell_type": "markdown",
   "source": [
    "## Content\r\n",
    "1. [Exploratory Data Analysis](#exploratory-data-analysis)\r\n",
    "1. [Data Preprocessing](#data-preprocessing)\r\n",
    "1. [Model Choice and Training](#model-choice-and-training)\r\n",
    "1. [Prediction Results](#prediction-results)\r\n",
    "1. [Interpretation](#interpretation)"
   ],
   "metadata": {}
  },
  {
   "cell_type": "markdown",
   "source": [
    "## Imports"
   ],
   "metadata": {}
  },
  {
   "cell_type": "code",
   "execution_count": null,
   "source": [
    "#TODO: Add imports"
   ],
   "outputs": [],
   "metadata": {}
  },
  {
   "cell_type": "markdown",
   "source": [
    "## Exploratory Data Analysis"
   ],
   "metadata": {}
  },
  {
   "cell_type": "code",
   "execution_count": null,
   "source": [
    "#TODO: Add EDA-section"
   ],
   "outputs": [],
   "metadata": {}
  },
  {
   "cell_type": "markdown",
   "source": [
    "## Data Preprocessing"
   ],
   "metadata": {}
  },
  {
   "cell_type": "code",
   "execution_count": null,
   "source": [
    "#TODO: Add preprocessing part"
   ],
   "outputs": [],
   "metadata": {}
  },
  {
   "cell_type": "markdown",
   "source": [
    "## Model Choice and Training"
   ],
   "metadata": {}
  },
  {
   "cell_type": "code",
   "execution_count": null,
   "source": [
    "#TODO: Add model classes + training of models"
   ],
   "outputs": [],
   "metadata": {}
  },
  {
   "cell_type": "markdown",
   "source": [
    "## Prediction Results"
   ],
   "metadata": {}
  },
  {
   "cell_type": "code",
   "execution_count": null,
   "source": [
    "#TODO: Add prediction outputs of each model + AUC_ROC"
   ],
   "outputs": [],
   "metadata": {}
  },
  {
   "cell_type": "markdown",
   "source": [
    "## Interpretation"
   ],
   "metadata": {}
  },
  {
   "cell_type": "code",
   "execution_count": null,
   "source": [
    "#TODO: Write interpretation of results, based on methods in \"After prediction\" lecture"
   ],
   "outputs": [],
   "metadata": {}
  }
 ],
 "metadata": {
  "interpreter": {
   "hash": "d663a46a6f865b9fff65a8e55487c0a7a7e2a38a4bb32e474e4d414e81b5a643"
  },
  "kernelspec": {
   "name": "python3",
   "display_name": "Python 3.8.10 64-bit ('TDT05': conda)"
  },
  "language_info": {
   "codemirror_mode": {
    "name": "ipython",
    "version": 3
   },
   "file_extension": ".py",
   "mimetype": "text/x-python",
   "name": "python",
   "nbconvert_exporter": "python",
   "pygments_lexer": "ipython3",
   "version": "3.8.10"
  }
 },
 "nbformat": 4,
 "nbformat_minor": 2
}