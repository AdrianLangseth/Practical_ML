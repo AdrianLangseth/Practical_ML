{
 "cells": [
  {
   "cell_type": "markdown",
   "source": [
    "# Report - Challenge 2: Binary classification\r\n",
    "## TDT05 Modern Machine Learning in Practice\r\n",
    "### By Group 2-AM (Adrian Langseth & Magnus Reier Rushfeldt)"
   ],
   "metadata": {}
  },
  {
   "cell_type": "code",
   "execution_count": null,
   "source": [],
   "outputs": [],
   "metadata": {}
  }
 ],
 "metadata": {
  "orig_nbformat": 4,
  "language_info": {
   "name": "python"
  }
 },
 "nbformat": 4,
 "nbformat_minor": 2
}