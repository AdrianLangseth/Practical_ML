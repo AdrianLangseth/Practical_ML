{
 "cells": [
  {
   "cell_type": "markdown",
   "metadata": {
    "collapsed": true,
    "pycharm": {
     "name": "#%% md\n"
    }
   },
   "source": [
    "### Imports"
   ]
  },
  {
   "cell_type": "code",
   "execution_count": 126,
   "outputs": [],
   "source": [
    "import numpy as np\n",
    "import pandas as pd\n",
    "\n",
    "from collections import Counter\n",
    "import matplotlib.pyplot as plt\n",
    "import seaborn as sns\n",
    "import xgboost as xgb\n",
    "\n",
    "from sklearn.model_selection import train_test_split, cross_val_score, StratifiedKFold\n",
    "from sklearn.metrics import confusion_matrix\n",
    "from sklearn.tree import DecisionTreeClassifier\n",
    "from sklearn.preprocessing import LabelEncoder, OneHotEncoder, RobustScaler, StandardScaler, OrdinalEncoder"
   ],
   "metadata": {
    "collapsed": false,
    "pycharm": {
     "name": "#%%\n"
    }
   }
  },
  {
   "cell_type": "code",
   "execution_count": 308,
   "outputs": [],
   "source": [
    "fp_train = \"../tdt05-2021-challenge-2/challenge2_train.csv\"\n",
    "fp_test = \"../tdt05-2021-challenge-2/challenge2_test.csv\"\n",
    "\n",
    "df_train = pd.read_csv(fp_train)  # 81.488% False, 18.512% True\n",
    "df_test = pd.read_csv(fp_test)"
   ],
   "metadata": {
    "collapsed": false,
    "pycharm": {
     "name": "#%%\n"
    }
   }
  },
  {
   "cell_type": "code",
   "execution_count": 295,
   "outputs": [
    {
     "name": "stdout",
     "output_type": "stream",
     "text": [
      "[-1.          0.075       0.15411035 ...  2.86356421  2.94745653\n",
      "         nan]\n"
     ]
    }
   ],
   "source": [
    "x = df_train['f24']\n",
    "x = x.unique()\n",
    "x.sort()\n",
    "print(x)"
   ],
   "metadata": {
    "collapsed": false,
    "pycharm": {
     "name": "#%%\n"
    }
   }
  },
  {
   "cell_type": "code",
   "execution_count": 323,
   "outputs": [
    {
     "data": {
      "text/plain": "        f17       f24\n0  0.858315  0.834041\n1  0.616743  0.686021\n2  0.711389  1.141271\n3       NaN  0.662382\n4  0.572781 -1.000000\n5  0.667236  0.749583\n6       NaN  0.601041\n7       NaN  0.946705\n8  0.559368  0.491172\n9  0.758056  0.601560",
      "text/html": "<div>\n<style scoped>\n    .dataframe tbody tr th:only-of-type {\n        vertical-align: middle;\n    }\n\n    .dataframe tbody tr th {\n        vertical-align: top;\n    }\n\n    .dataframe thead th {\n        text-align: right;\n    }\n</style>\n<table border=\"1\" class=\"dataframe\">\n  <thead>\n    <tr style=\"text-align: right;\">\n      <th></th>\n      <th>f17</th>\n      <th>f24</th>\n    </tr>\n  </thead>\n  <tbody>\n    <tr>\n      <th>0</th>\n      <td>0.858315</td>\n      <td>0.834041</td>\n    </tr>\n    <tr>\n      <th>1</th>\n      <td>0.616743</td>\n      <td>0.686021</td>\n    </tr>\n    <tr>\n      <th>2</th>\n      <td>0.711389</td>\n      <td>1.141271</td>\n    </tr>\n    <tr>\n      <th>3</th>\n      <td>NaN</td>\n      <td>0.662382</td>\n    </tr>\n    <tr>\n      <th>4</th>\n      <td>0.572781</td>\n      <td>-1.000000</td>\n    </tr>\n    <tr>\n      <th>5</th>\n      <td>0.667236</td>\n      <td>0.749583</td>\n    </tr>\n    <tr>\n      <th>6</th>\n      <td>NaN</td>\n      <td>0.601041</td>\n    </tr>\n    <tr>\n      <th>7</th>\n      <td>NaN</td>\n      <td>0.946705</td>\n    </tr>\n    <tr>\n      <th>8</th>\n      <td>0.559368</td>\n      <td>0.491172</td>\n    </tr>\n    <tr>\n      <th>9</th>\n      <td>0.758056</td>\n      <td>0.601560</td>\n    </tr>\n  </tbody>\n</table>\n</div>"
     },
     "execution_count": 323,
     "metadata": {},
     "output_type": "execute_result"
    }
   ],
   "source": [
    "Xtra = df_train.copy(deep=True)\n",
    "Xtst = df_test.copy(deep=True)\n",
    "\n",
    "Xtra[['f17', 'f24']].head(10)"
   ],
   "metadata": {
    "collapsed": false,
    "pycharm": {
     "name": "#%%\n"
    }
   }
  },
  {
   "cell_type": "code",
   "execution_count": 324,
   "outputs": [
    {
     "name": "stdout",
     "output_type": "stream",
     "text": [
      "1.000012426296529\n",
      "1.000012899148012\n"
     ]
    }
   ],
   "source": [
    "Xtra['f24'].replace(-1., np.nan, inplace=True)\n",
    "Xtst['f24'].replace(-1., np.nan, inplace=True)\n",
    "\n",
    "Xtra[['f17', 'f24']] = np.log(Xtra[['f17', 'f24']])\n",
    "Xtst[['f17', 'f24']] = np.log(Xtst[['f17', 'f24']])\n",
    "\n",
    "scl = StandardScaler()\n",
    "Xtra[['f17', 'f24']] = scl.fit_transform(Xtra[['f17', 'f24']])\n",
    "Xtst[['f17', 'f24']] = scl.transform(Xtst[['f17', 'f24']])\n",
    "\n",
    "print(Xtra['f17'].std())\n",
    "print(Xtra['f24'].std())"
   ],
   "metadata": {
    "collapsed": false,
    "pycharm": {
     "name": "#%%\n"
    }
   }
  },
  {
   "cell_type": "code",
   "execution_count": 331,
   "outputs": [
    {
     "data": {
      "text/plain": "<AxesSubplot:ylabel='Frequency'>"
     },
     "execution_count": 331,
     "metadata": {},
     "output_type": "execute_result"
    },
    {
     "data": {
      "text/plain": "<Figure size 432x288 with 1 Axes>",
      "image/png": "[encoded data removed]"
     },
     "metadata": {
      "needs_background": "light"
     },
     "output_type": "display_data"
    }
   ],
   "source": [
    "Xtra['f17'].plot.hist(bins=100)"
   ],
   "metadata": {
    "collapsed": false,
    "pycharm": {
     "name": "#%%\n"
    }
   }
  },
  {
   "cell_type": "code",
   "execution_count": 329,
   "outputs": [],
   "source": [
    "Xtra[['f17', 'f24']] = Xtra[['f17', 'f24']].fillna(0)\n",
    "Xtst[['f17', 'f24']] = Xtst[['f17', 'f24']].fillna(0)\n"
   ],
   "metadata": {
    "collapsed": false,
    "pycharm": {
     "name": "#%%\n"
    }
   }
  },
  {
   "cell_type": "code",
   "execution_count": 314,
   "outputs": [
    {
     "data": {
      "text/plain": "        f17       f24\n0  0.358712 -0.004939\n1 -0.964554 -0.543123\n2 -0.392971  0.858954\n3  0.000000 -0.639716\n4 -1.260613  0.000000\n5 -0.649502 -0.299038\n6  0.000000 -0.907410\n7  0.000000  0.344084\n8 -1.355485 -1.463482\n9 -0.138592 -0.905029",
      "text/html": "<div>\n<style scoped>\n    .dataframe tbody tr th:only-of-type {\n        vertical-align: middle;\n    }\n\n    .dataframe tbody tr th {\n        vertical-align: top;\n    }\n\n    .dataframe thead th {\n        text-align: right;\n    }\n</style>\n<table border=\"1\" class=\"dataframe\">\n  <thead>\n    <tr style=\"text-align: right;\">\n      <th></th>\n      <th>f17</th>\n      <th>f24</th>\n    </tr>\n  </thead>\n  <tbody>\n    <tr>\n      <th>0</th>\n      <td>0.358712</td>\n      <td>-0.004939</td>\n    </tr>\n    <tr>\n      <th>1</th>\n      <td>-0.964554</td>\n      <td>-0.543123</td>\n    </tr>\n    <tr>\n      <th>2</th>\n      <td>-0.392971</td>\n      <td>0.858954</td>\n    </tr>\n    <tr>\n      <th>3</th>\n      <td>0.000000</td>\n      <td>-0.639716</td>\n    </tr>\n    <tr>\n      <th>4</th>\n      <td>-1.260613</td>\n      <td>0.000000</td>\n    </tr>\n    <tr>\n      <th>5</th>\n      <td>-0.649502</td>\n      <td>-0.299038</td>\n    </tr>\n    <tr>\n      <th>6</th>\n      <td>0.000000</td>\n      <td>-0.907410</td>\n    </tr>\n    <tr>\n      <th>7</th>\n      <td>0.000000</td>\n      <td>0.344084</td>\n    </tr>\n    <tr>\n      <th>8</th>\n      <td>-1.355485</td>\n      <td>-1.463482</td>\n    </tr>\n    <tr>\n      <th>9</th>\n      <td>-0.138592</td>\n      <td>-0.905029</td>\n    </tr>\n  </tbody>\n</table>\n</div>"
     },
     "execution_count": 314,
     "metadata": {},
     "output_type": "execute_result"
    }
   ],
   "source": [
    "Xtra[['f17', 'f24']].head(10)"
   ],
   "metadata": {
    "collapsed": false,
    "pycharm": {
     "name": "#%%\n"
    }
   }
  },
  {
   "cell_type": "code",
   "execution_count": 318,
   "outputs": [
    {
     "name": "stdout",
     "output_type": "stream",
     "text": [
      "-3.0127011996228247e-17\n",
      "-1.0402345651527867e-16\n"
     ]
    }
   ],
   "source": [
    "print(Xtra['f17'].mean())\n",
    "print(Xtra['f24'].mean())"
   ],
   "metadata": {
    "collapsed": false,
    "pycharm": {
     "name": "#%%\n"
    }
   }
  },
  {
   "cell_type": "code",
   "execution_count": null,
   "outputs": [],
   "source": [
    "ordinal = ['f1', 'f2', 'f3', 'f5', 'f7', 'f10', 'f18', 'f19', 'f27']\n",
    "numeric = ['f11', 'f17', 'f24', 'f28']\n",
    "binary = ['f0', 'f4', 'f6', 'f25', 'f26']\n",
    "cyclical = ['f16', 'f21']\n",
    "nominal = ['f8', 'f9', 'f12', 'f14', 'f15', 'f22', 'f23'] # hexes\n",
    "duplicate = ['f20']\n",
    "\n",
    "num_ords = ['f3', 'f5', 'f7', 'f19', 'f27']\n",
    "alpha_ords = ['f1', 'f2', 'f10', 'f18']"
   ],
   "metadata": {
    "collapsed": false,
    "pycharm": {
     "name": "#%%\n"
    }
   }
  },
  {
   "cell_type": "code",
   "execution_count": 222,
   "outputs": [],
   "source": [],
   "metadata": {
    "collapsed": false,
    "pycharm": {
     "name": "#%%\n"
    }
   }
  },
  {
   "cell_type": "markdown",
   "source": [
    "### Observations of similarity to Cat in dat 2\n",
    "\n",
    "f1 is ord_5\n",
    "f3 is ord_0\n",
    "f10 is 0rd_4\n",
    "f12 is nom_7\n",
    "f13 is ord_3\n",
    "f16 is month\n",
    "f21 is day"
   ],
   "metadata": {
    "collapsed": false,
    "pycharm": {
     "name": "#%% md\n"
    }
   }
  },
  {
   "cell_type": "code",
   "execution_count": 119,
   "outputs": [
    {
     "name": "stdout",
     "output_type": "stream",
     "text": [
      "[1.0, 0.0, 'A', 'B', 0.0, 1.0, 'T', 'F', 'N', 'S']\n"
     ]
    }
   ],
   "source": [
    "a=[]\n",
    "for i in binary:\n",
    "    a.extend(df_train[i].dropna().unique())\n",
    "\n",
    "print(a)"
   ],
   "metadata": {
    "collapsed": false,
    "pycharm": {
     "name": "#%%\n"
    }
   }
  },
  {
   "cell_type": "code",
   "execution_count": 124,
   "outputs": [
    {
     "name": "stdout",
     "output_type": "stream",
     "text": [
      "0    1.0\n",
      "1    0.0\n",
      "2    NaN\n",
      "3    1.0\n",
      "4    1.0\n",
      "Name: f0, dtype: float64\n",
      "0    1.0\n",
      "1    0.0\n",
      "2    NaN\n",
      "3    1.0\n",
      "4    1.0\n",
      "Name: f0, dtype: float64\n",
      "0    A\n",
      "1    A\n",
      "2    A\n",
      "3    A\n",
      "4    A\n",
      "Name: f4, dtype: object\n",
      "0    0.0\n",
      "1    0.0\n",
      "2    0.0\n",
      "3    0.0\n",
      "4    0.0\n",
      "Name: f4, dtype: float64\n",
      "0    0.0\n",
      "1    1.0\n",
      "2    1.0\n",
      "3    1.0\n",
      "4    0.0\n",
      "Name: f6, dtype: float64\n",
      "0    0.0\n",
      "1    1.0\n",
      "2    1.0\n",
      "3    1.0\n",
      "4    0.0\n",
      "Name: f6, dtype: float64\n",
      "0    T\n",
      "1    T\n",
      "2    T\n",
      "3    T\n",
      "4    T\n",
      "Name: f25, dtype: object\n",
      "0    1.0\n",
      "1    1.0\n",
      "2    1.0\n",
      "3    1.0\n",
      "4    1.0\n",
      "Name: f25, dtype: float64\n",
      "0    N\n",
      "1    N\n",
      "2    N\n",
      "3    N\n",
      "4    N\n",
      "Name: f26, dtype: object\n",
      "0    1.0\n",
      "1    1.0\n",
      "2    1.0\n",
      "3    1.0\n",
      "4    1.0\n",
      "Name: f26, dtype: float64\n"
     ]
    }
   ],
   "source": [
    "bin_encoding = {float(0): 0, 'A':0, 'F':0, 'S':0, float(1):1, 'B':1, 'T':1, 'N':1}\n",
    "for i in binary:\n",
    "    print(df_train[i].head())\n",
    "    print(df_train[i].map(bin_encoding).head())"
   ],
   "metadata": {
    "collapsed": false,
    "pycharm": {
     "name": "#%%\n"
    }
   }
  },
  {
   "cell_type": "code",
   "execution_count": null,
   "outputs": [],
   "source": [
    "feat_df = df_train.copy(deep=True).drop(['id', 'target', 'f27'])\n"
   ],
   "metadata": {
    "collapsed": false,
    "pycharm": {
     "name": "#%%\n"
    }
   }
  },
  {
   "cell_type": "code",
   "execution_count": 349,
   "outputs": [
    {
     "name": "stderr",
     "output_type": "stream",
     "text": [
      "/Library/Frameworks/Python.framework/Versions/3.6/lib/python3.6/site-packages/pandas/core/frame.py:4389: SettingWithCopyWarning: \n",
      "A value is trying to be set on a copy of a slice from a DataFrame\n",
      "\n",
      "See the caveats in the documentation: https://pandas.pydata.org/pandas-docs/stable/user_guide/indexing.html#returning-a-view-versus-a-copy\n",
      "  method=method,\n",
      "/Library/Frameworks/Python.framework/Versions/3.6/lib/python3.6/site-packages/ipykernel_launcher.py:39: RuntimeWarning: invalid value encountered in log\n",
      "/Library/Frameworks/Python.framework/Versions/3.6/lib/python3.6/site-packages/ipykernel_launcher.py:40: RuntimeWarning: invalid value encountered in log\n"
     ]
    },
    {
     "data": {
      "text/plain": "   id  target   f0   f2   f3   f4    f5   f6   f7      f8  ...  f9_red  \\\n0   0       0  1.0  4.0  3.0  0.0   NaN  0.0  6.0  0.5625  ...       0   \n1   1       0  0.0  2.0  1.0  0.0   7.0  1.0  4.0  0.5625  ...       0   \n2   2       0  NaN  0.0  1.0  0.0  10.0  1.0  6.0  0.6250  ...       0   \n3   3       1  1.0  2.0  3.0  0.0   7.0  1.0  1.0  0.0625  ...       0   \n4   4       0  1.0  2.0  3.0  0.0   7.0  0.0  6.0  0.6875  ...       0   \n\n   f9_white  f9_yellow  f22_B  f22_G  f22_R   f16_sin   f16_cos   f21_sin  \\\n0         0          1      0      0      1  0.500000  0.866025  0.974928   \n1         0          0      0      0      0  0.000000  0.000000  0.000000   \n2         1          0      0      1      0  0.866025  0.500000  0.974928   \n3         0          1      0      1      0  0.866025 -0.500000  0.000000   \n4         0          1      1      0      0  0.500000  0.866025  0.000000   \n\n    f21_cos  \n0 -0.222521  \n1  1.000000  \n2 -0.222521  \n3  1.000000  \n4  1.000000  \n\n[5 rows x 39 columns]",
      "text/html": "<div>\n<style scoped>\n    .dataframe tbody tr th:only-of-type {\n        vertical-align: middle;\n    }\n\n    .dataframe tbody tr th {\n        vertical-align: top;\n    }\n\n    .dataframe thead th {\n        text-align: right;\n    }\n</style>\n<table border=\"1\" class=\"dataframe\">\n  <thead>\n    <tr style=\"text-align: right;\">\n      <th></th>\n      <th>id</th>\n      <th>target</th>\n      <th>f0</th>\n      <th>f2</th>\n      <th>f3</th>\n      <th>f4</th>\n      <th>f5</th>\n      <th>f6</th>\n      <th>f7</th>\n      <th>f8</th>\n      <th>...</th>\n      <th>f9_red</th>\n      <th>f9_white</th>\n      <th>f9_yellow</th>\n      <th>f22_B</th>\n      <th>f22_G</th>\n      <th>f22_R</th>\n      <th>f16_sin</th>\n      <th>f16_cos</th>\n      <th>f21_sin</th>\n      <th>f21_cos</th>\n    </tr>\n  </thead>\n  <tbody>\n    <tr>\n      <th>0</th>\n      <td>0</td>\n      <td>0</td>\n      <td>1.0</td>\n      <td>4.0</td>\n      <td>3.0</td>\n      <td>0.0</td>\n      <td>NaN</td>\n      <td>0.0</td>\n      <td>6.0</td>\n      <td>0.5625</td>\n      <td>...</td>\n      <td>0</td>\n      <td>0</td>\n      <td>1</td>\n      <td>0</td>\n      <td>0</td>\n      <td>1</td>\n      <td>0.500000</td>\n      <td>0.866025</td>\n      <td>0.974928</td>\n      <td>-0.222521</td>\n    </tr>\n    <tr>\n      <th>1</th>\n      <td>1</td>\n      <td>0</td>\n      <td>0.0</td>\n      <td>2.0</td>\n      <td>1.0</td>\n      <td>0.0</td>\n      <td>7.0</td>\n      <td>1.0</td>\n      <td>4.0</td>\n      <td>0.5625</td>\n      <td>...</td>\n      <td>0</td>\n      <td>0</td>\n      <td>0</td>\n      <td>0</td>\n      <td>0</td>\n      <td>0</td>\n      <td>0.000000</td>\n      <td>0.000000</td>\n      <td>0.000000</td>\n      <td>1.000000</td>\n    </tr>\n    <tr>\n      <th>2</th>\n      <td>2</td>\n      <td>0</td>\n      <td>NaN</td>\n      <td>0.0</td>\n      <td>1.0</td>\n      <td>0.0</td>\n      <td>10.0</td>\n      <td>1.0</td>\n      <td>6.0</td>\n      <td>0.6250</td>\n      <td>...</td>\n      <td>0</td>\n      <td>1</td>\n      <td>0</td>\n      <td>0</td>\n      <td>1</td>\n      <td>0</td>\n      <td>0.866025</td>\n      <td>0.500000</td>\n      <td>0.974928</td>\n      <td>-0.222521</td>\n    </tr>\n    <tr>\n      <th>3</th>\n      <td>3</td>\n      <td>1</td>\n      <td>1.0</td>\n      <td>2.0</td>\n      <td>3.0</td>\n      <td>0.0</td>\n      <td>7.0</td>\n      <td>1.0</td>\n      <td>1.0</td>\n      <td>0.0625</td>\n      <td>...</td>\n      <td>0</td>\n      <td>0</td>\n      <td>1</td>\n      <td>0</td>\n      <td>1</td>\n      <td>0</td>\n      <td>0.866025</td>\n      <td>-0.500000</td>\n      <td>0.000000</td>\n      <td>1.000000</td>\n    </tr>\n    <tr>\n      <th>4</th>\n      <td>4</td>\n      <td>0</td>\n      <td>1.0</td>\n      <td>2.0</td>\n      <td>3.0</td>\n      <td>0.0</td>\n      <td>7.0</td>\n      <td>0.0</td>\n      <td>6.0</td>\n      <td>0.6875</td>\n      <td>...</td>\n      <td>0</td>\n      <td>0</td>\n      <td>1</td>\n      <td>1</td>\n      <td>0</td>\n      <td>0</td>\n      <td>0.500000</td>\n      <td>0.866025</td>\n      <td>0.000000</td>\n      <td>1.000000</td>\n    </tr>\n  </tbody>\n</table>\n<p>5 rows × 39 columns</p>\n</div>"
     },
     "execution_count": 349,
     "metadata": {},
     "output_type": "execute_result"
    }
   ],
   "source": [
    "def clean_feature_engineer(fp_train, fp_test):\n",
    "    original_train = pd.read_csv(fp_train)\n",
    "    original_test = pd.read_csv(fp_test)\n",
    "\n",
    "    y_tr = original_train['target'].apply(lambda x: int(x) if pd.notnull(x) else x)\n",
    "    X_tr = original_train.copy(deep=True)\n",
    "    X_ts = original_test.copy(deep=True)\n",
    "\n",
    "    lb_enc = LabelEncoder()\n",
    "    ord_enc = OrdinalEncoder()\n",
    "    oh_enc = OneHotEncoder()\n",
    "\n",
    "\n",
    "    # BINARY\n",
    "    bin_encoding = {float(0): 0, 'A':0, 'F':0, 'S':0, float(1):1, 'B':1, 'T':1, 'N':1}\n",
    "    for col in binary:\n",
    "        X_tr[col] = X_tr[col].map(bin_encoding)\n",
    "        X_ts[col] = X_ts[col].map(bin_encoding)\n",
    "\n",
    "    # Numericals\n",
    "    numericals = ['f11', 'f17', 'f24', 'f28']\n",
    "    bell_curve = ['f11', 'f28']\n",
    "    long_tail = ['f17', 'f24'] # F24 has -1 as null values. Remove before scaling\n",
    "\n",
    "    #BELL CURVES\n",
    "\n",
    "    scl = StandardScaler()\n",
    "    X_tr[['f11', 'f28']] = scl.fit_transform(X_tr[['f11', 'f28']])\n",
    "    X_ts[['f11', 'f28']] = scl.transform(X_ts[['f11', 'f28']])\n",
    "\n",
    "    #since we have normalized the bellcurve around 1, we believe we can impute 0 in Null's\n",
    "    X_tr[['f11', 'f28']] = X_tr[['f11', 'f28']].fillna(value=0)\n",
    "    X_ts[['f11', 'f28']] = X_ts[['f11', 'f28']].fillna(value=0)\n",
    "\n",
    "    # LONG TAILS. Strat: Log the shit out of them to push onto bell curve, then scale them.\n",
    "    X_tr[['f24']].replace(-1.0, np.nan, inplace=True)\n",
    "    X_ts[['f24']].replace(-1.0, np.nan, inplace=True)\n",
    "\n",
    "    X_tr[['f17', 'f24']] = np.log(X_tr[['f17', 'f24']])\n",
    "    X_ts[['f17', 'f24']] = np.log(X_ts[['f17', 'f24']])\n",
    "\n",
    "    scl = StandardScaler()\n",
    "    X_tr[['f17', 'f24']] = scl.fit_transform(X_tr[['f17', 'f24']])\n",
    "    X_ts[['f17', 'f24']] = scl.transform(X_ts[['f17', 'f24']])\n",
    "\n",
    "    #since we have normalized the bellcurve around 1, we believe we can impute 0 in Null's.\n",
    "    # Not really sure about this one though.\n",
    "    X_tr[['f17', 'f24']] = X_tr[['f17', 'f24']].fillna(value=0)\n",
    "    X_ts[['f17', 'f24']] = X_ts[['f17', 'f24']].fillna(value=0)\n",
    "\n",
    "\n",
    "# ORDINAL (OrdinalEncoder)\n",
    "    ordinals = ['f1_0', 'f1_1', 'f2', 'f3', 'f5', 'f7', 'f10', 'f13', 'f18', 'f19', 'f27']\n",
    "    numerical_ordinals = ['f3','f5','f7','f19','f27']\n",
    "    usable_ordinals = ['f3','f5','f7','f27']\n",
    "    alphabetical_ordinals = ['f1_0', 'f1_1', 'f2', 'f10', 'f13', 'f18']\n",
    "    CAPS_ONLY = ['f10', 'f18']\n",
    "    lower_only = ['f2', 'f13']\n",
    "    MiX = ['f1_0', 'f1_1']\n",
    "\n",
    "    assert set(alphabetical_ordinals).isdisjoint(numerical_ordinals)\n",
    "    assert set(CAPS_ONLY).isdisjoint(lower_only)\n",
    "    assert set(CAPS_ONLY).isdisjoint(MiX)\n",
    "    assert set(MiX).isdisjoint(lower_only)\n",
    "\n",
    "    # split f1 on letter\n",
    "    X_tr['f1_0'] = X_tr['f1'].apply(lambda x: x[0] if type(x) is str else x)\n",
    "    X_tr['f1_1'] = X_tr['f1'].apply(lambda x: x[0] if type(x) is str else x)\n",
    "    X_ts['f1_0'] = X_ts['f1'].apply(lambda x: x[0] if type(x) is str else x)\n",
    "    X_ts['f1_1'] = X_ts['f1'].apply(lambda x: x[0] if type(x) is str else x)\n",
    "\n",
    "    X_tr.drop(['f1'], axis=1, inplace=True)\n",
    "    X_ts.drop(['f1'], axis=1, inplace=True)\n",
    "\n",
    "\n",
    "    for col_name in ordinals:\n",
    "        if col_name in numerical_ordinals and col_name not in usable_ordinals:\n",
    "            X_tr[col_name] = X_tr[col_name].apply(lambda x: x*10 if not pd.notnull(x) else x)\n",
    "            X_ts[col_name] = X_ts[col_name].apply(lambda x: x*10 if not pd.notnull(x) else x)\n",
    "        elif col_name in alphabetical_ordinals:\n",
    "            if col_name in CAPS_ONLY:\n",
    "                X_tr[col_name] = X_tr[col_name].apply(lambda x: ord(x)-ord('A') if pd.notnull(x) else x)\n",
    "                X_ts[col_name] = X_ts[col_name].apply(lambda x: ord(x)-ord('A') if pd.notnull(x) else x)\n",
    "            elif col_name in lower_only:\n",
    "                X_tr[col_name] = X_tr[col_name].apply(lambda x: ord(x)-ord('a') if pd.notnull(x) else x)\n",
    "                X_ts[col_name] = X_ts[col_name].apply(lambda x: ord(x)-ord('a') if pd.notnull(x) else x)\n",
    "            elif col_name in MiX:\n",
    "                X_tr[col_name] = X_tr[col_name].apply(lambda x: (ord(x)-ord('a') + (ord('Z') - ord('A') + 1) if x.islower() else ord(x)-ord('A')) if pd.notnull(x) else x)\n",
    "                X_ts[col_name] = X_ts[col_name].apply(lambda x: (ord(x)-ord('a') + (ord('Z') - ord('A') + 1) if x.islower() else ord(x)-ord('A')) if pd.notnull(x) else x)\n",
    "            else:\n",
    "                raise ValueError(\"Something wrong with the sets...\")\n",
    "\n",
    "\n",
    "    # NOMINAL (OneHotEncoder)\n",
    "\n",
    "    high_cardinality_noms = [i for i in nominal if X_tr[i].nunique() > 10] # Hexes\n",
    "    low_cardinality_noms = [i for i in nominal if i not in high_cardinality_noms]\n",
    "\n",
    "    # Onehot for low cardinality Noms\n",
    "\n",
    "    X_tr = X_tr.join(pd.get_dummies(X_tr[low_cardinality_noms], dummy_na=False, drop_first=False))\n",
    "    X_tr.drop(low_cardinality_noms, axis=1, inplace=True)\n",
    "\n",
    "    X_ts = X_ts.join(pd.get_dummies(X_ts[low_cardinality_noms], dummy_na=False, drop_first=False))\n",
    "    X_ts.drop(low_cardinality_noms, axis=1, inplace=True)\n",
    "\n",
    "    # ToDo: need to do ordinal on this\n",
    "    for nom in high_cardinality_noms:\n",
    "        X_tr[nom] = X_tr[nom].apply(lambda x: int(x[0], base=16)/16 if pd.notnull(x) else x)\n",
    "\n",
    "    # CYCLICAL\n",
    "\n",
    "    ## We believe f16 is month\n",
    "    X_tr['f16_sin'] = np.sin((X_tr['f16']-1)*(2.*np.pi/12))\n",
    "    X_tr['f16_cos'] = np.cos((X_tr['f16']-1)*(2.*np.pi/12))\n",
    "\n",
    "    X_ts['f16_sin'] = np.sin((X_ts['f16']-1)*(2.*np.pi/12))\n",
    "    X_ts['f16_cos'] = np.cos((X_ts['f16']-1)*(2.*np.pi/12))\n",
    "\n",
    "    X_tr['f16_sin'].fillna(0, inplace=True)\n",
    "    X_tr['f16_cos'].fillna(0, inplace=True)\n",
    "    X_ts['f16_sin'].fillna(0, inplace=True)\n",
    "    X_ts['f16_cos'].fillna(0, inplace=True)\n",
    "\n",
    "    X_tr.drop(['f16'], axis=1, inplace=True)\n",
    "    X_ts.drop(['f16'], axis=1, inplace=True)\n",
    "\n",
    "    ## We believe f21 is dayOfWeek\n",
    "    X_tr['f21_sin'] = np.sin((X_tr['f21']-1)*(2.*np.pi/7))\n",
    "    X_tr['f21_cos'] = np.cos((X_tr['f21']-1)*(2.*np.pi/7))\n",
    "\n",
    "    X_ts['f21_sin'] = np.sin((X_ts['f21']-1)*(2.*np.pi/7))\n",
    "    X_ts['f21_cos'] = np.cos((X_ts['f21']-1)*(2.*np.pi/7))\n",
    "\n",
    "    X_tr['f21_sin'].fillna(0, inplace=True)\n",
    "    X_tr['f21_cos'].fillna(0, inplace=True)\n",
    "    X_ts['f21_sin'].fillna(0, inplace=True)\n",
    "    X_ts['f21_cos'].fillna(0, inplace=True)\n",
    "\n",
    "    X_tr.drop(['f21'], axis=1, inplace=True)\n",
    "    X_ts.drop(['f21'], axis=1, inplace=True)\n",
    "\n",
    "    # DUPLICATES\n",
    "    X_tr.drop(['f27'], axis=1, inplace=True)\n",
    "    X_ts.drop(['f27'], axis=1, inplace=True)\n",
    "\n",
    "\n",
    "    return X_tr, X_ts, y_tr\n",
    "\n",
    "\n",
    "x, _, _ = clean_feature_engineer(fp_train, fp_test)\n",
    "x.head()"
   ],
   "metadata": {
    "collapsed": false,
    "pycharm": {
     "name": "#%%\n"
    }
   }
  },
  {
   "cell_type": "code",
   "execution_count": 350,
   "outputs": [
    {
     "data": {
      "text/plain": "                 id        target            f0            f2            f3  \\\ncount  50000.000000  50000.000000  48541.000000  48561.000000  48512.000000   \nmean   24999.500000      0.185120      0.629138      2.437532      1.943643   \nstd    14433.901067      0.388399      0.483040      1.862271      0.852986   \nmin        0.000000      0.000000      0.000000      0.000000      1.000000   \n25%    12499.750000      0.000000      0.000000      1.000000      1.000000   \n50%    24999.500000      0.000000      1.000000      2.000000      2.000000   \n75%    37499.250000      0.000000      1.000000      4.000000      3.000000   \nmax    49999.000000      1.000000      1.000000      5.000000      3.000000   \n\n                 f4            f5            f6            f7            f8  \\\ncount  48502.000000  38383.000000  48510.000000  48475.000000  48510.000000   \nmean       0.088800      8.293932      0.535993      4.102960      0.457611   \nstd        0.284458      2.500502      0.498708      1.854649      0.285804   \nmin        0.000000     -1.000000      0.000000      1.000000      0.000000   \n25%        0.000000      7.000000      0.000000      3.000000      0.187500   \n50%        0.000000      7.000000      1.000000      5.000000      0.437500   \n75%        0.000000     11.000000      1.000000      6.000000      0.687500   \nmax        1.000000     11.000000      1.000000      6.000000      0.937500   \n\n       ...        f9_red      f9_white     f9_yellow        f22_B  \\\ncount  ...  50000.000000  50000.000000  50000.000000  50000.00000   \nmean   ...      0.268580      0.234080      0.159260      0.08794   \nstd    ...      0.443225      0.423427      0.365922      0.28321   \nmin    ...      0.000000      0.000000      0.000000      0.00000   \n25%    ...      0.000000      0.000000      0.000000      0.00000   \n50%    ...      0.000000      0.000000      0.000000      0.00000   \n75%    ...      1.000000      0.000000      0.000000      0.00000   \nmax    ...      1.000000      1.000000      1.000000      1.00000   \n\n              f22_G         f22_R       f16_sin       f16_cos       f21_sin  \\\ncount  50000.000000  50000.000000  5.000000e+04  50000.000000  50000.000000   \nmean       0.345080      0.536720  7.464251e-02     -0.020610     -0.060345   \nstd        0.475399      0.498655  6.231342e-01      0.759294      0.725115   \nmin        0.000000      0.000000 -1.000000e+00     -1.000000     -0.974928   \n25%        0.000000      0.000000 -5.000000e-01     -0.866025     -0.781831   \n50%        0.000000      1.000000  1.224647e-16      0.000000      0.000000   \n75%        1.000000      1.000000  8.660254e-01      0.866025      0.781831   \nmax        1.000000      1.000000  1.000000e+00      1.000000      0.974928   \n\n            f21_cos  \ncount  50000.000000  \nmean       0.016464  \nstd        0.663412  \nmin       -0.900969  \n25%       -0.222521  \n50%       -0.222521  \n75%        0.623490  \nmax        1.000000  \n\n[8 rows x 39 columns]",
      "text/html": "<div>\n<style scoped>\n    .dataframe tbody tr th:only-of-type {\n        vertical-align: middle;\n    }\n\n    .dataframe tbody tr th {\n        vertical-align: top;\n    }\n\n    .dataframe thead th {\n        text-align: right;\n    }\n</style>\n<table border=\"1\" class=\"dataframe\">\n  <thead>\n    <tr style=\"text-align: right;\">\n      <th></th>\n      <th>id</th>\n      <th>target</th>\n      <th>f0</th>\n      <th>f2</th>\n      <th>f3</th>\n      <th>f4</th>\n      <th>f5</th>\n      <th>f6</th>\n      <th>f7</th>\n      <th>f8</th>\n      <th>...</th>\n      <th>f9_red</th>\n      <th>f9_white</th>\n      <th>f9_yellow</th>\n      <th>f22_B</th>\n      <th>f22_G</th>\n      <th>f22_R</th>\n      <th>f16_sin</th>\n      <th>f16_cos</th>\n      <th>f21_sin</th>\n      <th>f21_cos</th>\n    </tr>\n  </thead>\n  <tbody>\n    <tr>\n      <th>count</th>\n      <td>50000.000000</td>\n      <td>50000.000000</td>\n      <td>48541.000000</td>\n      <td>48561.000000</td>\n      <td>48512.000000</td>\n      <td>48502.000000</td>\n      <td>38383.000000</td>\n      <td>48510.000000</td>\n      <td>48475.000000</td>\n      <td>48510.000000</td>\n      <td>...</td>\n      <td>50000.000000</td>\n      <td>50000.000000</td>\n      <td>50000.000000</td>\n      <td>50000.00000</td>\n      <td>50000.000000</td>\n      <td>50000.000000</td>\n      <td>5.000000e+04</td>\n      <td>50000.000000</td>\n      <td>50000.000000</td>\n      <td>50000.000000</td>\n    </tr>\n    <tr>\n      <th>mean</th>\n      <td>24999.500000</td>\n      <td>0.185120</td>\n      <td>0.629138</td>\n      <td>2.437532</td>\n      <td>1.943643</td>\n      <td>0.088800</td>\n      <td>8.293932</td>\n      <td>0.535993</td>\n      <td>4.102960</td>\n      <td>0.457611</td>\n      <td>...</td>\n      <td>0.268580</td>\n      <td>0.234080</td>\n      <td>0.159260</td>\n      <td>0.08794</td>\n      <td>0.345080</td>\n      <td>0.536720</td>\n      <td>7.464251e-02</td>\n      <td>-0.020610</td>\n      <td>-0.060345</td>\n      <td>0.016464</td>\n    </tr>\n    <tr>\n      <th>std</th>\n      <td>14433.901067</td>\n      <td>0.388399</td>\n      <td>0.483040</td>\n      <td>1.862271</td>\n      <td>0.852986</td>\n      <td>0.284458</td>\n      <td>2.500502</td>\n      <td>0.498708</td>\n      <td>1.854649</td>\n      <td>0.285804</td>\n      <td>...</td>\n      <td>0.443225</td>\n      <td>0.423427</td>\n      <td>0.365922</td>\n      <td>0.28321</td>\n      <td>0.475399</td>\n      <td>0.498655</td>\n      <td>6.231342e-01</td>\n      <td>0.759294</td>\n      <td>0.725115</td>\n      <td>0.663412</td>\n    </tr>\n    <tr>\n      <th>min</th>\n      <td>0.000000</td>\n      <td>0.000000</td>\n      <td>0.000000</td>\n      <td>0.000000</td>\n      <td>1.000000</td>\n      <td>0.000000</td>\n      <td>-1.000000</td>\n      <td>0.000000</td>\n      <td>1.000000</td>\n      <td>0.000000</td>\n      <td>...</td>\n      <td>0.000000</td>\n      <td>0.000000</td>\n      <td>0.000000</td>\n      <td>0.00000</td>\n      <td>0.000000</td>\n      <td>0.000000</td>\n      <td>-1.000000e+00</td>\n      <td>-1.000000</td>\n      <td>-0.974928</td>\n      <td>-0.900969</td>\n    </tr>\n    <tr>\n      <th>25%</th>\n      <td>12499.750000</td>\n      <td>0.000000</td>\n      <td>0.000000</td>\n      <td>1.000000</td>\n      <td>1.000000</td>\n      <td>0.000000</td>\n      <td>7.000000</td>\n      <td>0.000000</td>\n      <td>3.000000</td>\n      <td>0.187500</td>\n      <td>...</td>\n      <td>0.000000</td>\n      <td>0.000000</td>\n      <td>0.000000</td>\n      <td>0.00000</td>\n      <td>0.000000</td>\n      <td>0.000000</td>\n      <td>-5.000000e-01</td>\n      <td>-0.866025</td>\n      <td>-0.781831</td>\n      <td>-0.222521</td>\n    </tr>\n    <tr>\n      <th>50%</th>\n      <td>24999.500000</td>\n      <td>0.000000</td>\n      <td>1.000000</td>\n      <td>2.000000</td>\n      <td>2.000000</td>\n      <td>0.000000</td>\n      <td>7.000000</td>\n      <td>1.000000</td>\n      <td>5.000000</td>\n      <td>0.437500</td>\n      <td>...</td>\n      <td>0.000000</td>\n      <td>0.000000</td>\n      <td>0.000000</td>\n      <td>0.00000</td>\n      <td>0.000000</td>\n      <td>1.000000</td>\n      <td>1.224647e-16</td>\n      <td>0.000000</td>\n      <td>0.000000</td>\n      <td>-0.222521</td>\n    </tr>\n    <tr>\n      <th>75%</th>\n      <td>37499.250000</td>\n      <td>0.000000</td>\n      <td>1.000000</td>\n      <td>4.000000</td>\n      <td>3.000000</td>\n      <td>0.000000</td>\n      <td>11.000000</td>\n      <td>1.000000</td>\n      <td>6.000000</td>\n      <td>0.687500</td>\n      <td>...</td>\n      <td>1.000000</td>\n      <td>0.000000</td>\n      <td>0.000000</td>\n      <td>0.00000</td>\n      <td>1.000000</td>\n      <td>1.000000</td>\n      <td>8.660254e-01</td>\n      <td>0.866025</td>\n      <td>0.781831</td>\n      <td>0.623490</td>\n    </tr>\n    <tr>\n      <th>max</th>\n      <td>49999.000000</td>\n      <td>1.000000</td>\n      <td>1.000000</td>\n      <td>5.000000</td>\n      <td>3.000000</td>\n      <td>1.000000</td>\n      <td>11.000000</td>\n      <td>1.000000</td>\n      <td>6.000000</td>\n      <td>0.937500</td>\n      <td>...</td>\n      <td>1.000000</td>\n      <td>1.000000</td>\n      <td>1.000000</td>\n      <td>1.00000</td>\n      <td>1.000000</td>\n      <td>1.000000</td>\n      <td>1.000000e+00</td>\n      <td>1.000000</td>\n      <td>0.974928</td>\n      <td>1.000000</td>\n    </tr>\n  </tbody>\n</table>\n<p>8 rows × 39 columns</p>\n</div>"
     },
     "execution_count": 350,
     "metadata": {},
     "output_type": "execute_result"
    }
   ],
   "source": [
    "pd.set_option('display.max_colwidth', None)\n",
    "x.describe()\n"
   ],
   "metadata": {
    "collapsed": false,
    "pycharm": {
     "name": "#%%\n"
    }
   }
  },
  {
   "cell_type": "code",
   "execution_count": 351,
   "outputs": [
    {
     "data": {
      "text/plain": "id             int64\ntarget         int64\nf0           float64\nf2           float64\nf3           float64\nf4           float64\nf5           float64\nf6           float64\nf7           float64\nf8           float64\nf10          float64\nf11          float64\nf12          float64\nf13          float64\nf14          float64\nf15          float64\nf17          float64\nf18          float64\nf19          float64\nf20          float64\nf23          float64\nf24          float64\nf25          float64\nf26          float64\nf28          float64\nf1_0         float64\nf1_1         float64\nf9_black       uint8\nf9_green       uint8\nf9_red         uint8\nf9_white       uint8\nf9_yellow      uint8\nf22_B          uint8\nf22_G          uint8\nf22_R          uint8\nf16_sin      float64\nf16_cos      float64\nf21_sin      float64\nf21_cos      float64\ndtype: object"
     },
     "execution_count": 351,
     "metadata": {},
     "output_type": "execute_result"
    }
   ],
   "source": [
    "x.dtypes"
   ],
   "metadata": {
    "collapsed": false,
    "pycharm": {
     "name": "#%%\n"
    }
   }
  },
  {
   "cell_type": "code",
   "execution_count": 346,
   "outputs": [
    {
     "data": {
      "text/plain": "array(['h', 'g', 'c', 'a', 'm', 'e', 'n', 'k', nan, 'b', 'i', 'o', 'd',\n       'f', 'j', 'l'], dtype=object)"
     },
     "execution_count": 346,
     "metadata": {},
     "output_type": "execute_result"
    }
   ],
   "source": [
    "x['f13'].unique()"
   ],
   "metadata": {
    "collapsed": false,
    "pycharm": {
     "name": "#%%\n"
    }
   }
  },
  {
   "cell_type": "code",
   "execution_count": null,
   "outputs": [],
   "source": [],
   "metadata": {
    "collapsed": false,
    "pycharm": {
     "name": "#%%\n"
    }
   }
  }
 ],
 "metadata": {
  "kernelspec": {
   "display_name": "Python 3",
   "language": "python",
   "name": "python3"
  },
  "language_info": {
   "codemirror_mode": {
    "name": "ipython",
    "version": 2
   },
   "file_extension": ".py",
   "mimetype": "text/x-python",
   "name": "python",
   "nbconvert_exporter": "python",
   "pygments_lexer": "ipython2",
   "version": "2.7.6"
  }
 },
 "nbformat": 4,
 "nbformat_minor": 0
}