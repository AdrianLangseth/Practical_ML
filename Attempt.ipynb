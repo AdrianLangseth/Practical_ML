{
 "cells": [
  {
   "cell_type": "markdown",
   "id": "b8bacf99",
   "metadata": {},
   "source": [
    "## Imports"
   ]
  },
  {
   "cell_type": "code",
   "execution_count": 52,
   "id": "53f2e827",
   "metadata": {},
   "outputs": [],
   "source": [
    "import numpy as np\n",
    "import pandas as pd\n",
    "from sklearn.model_selection import train_test_split, cross_val_score, RepeatedStratifiedKFold\n",
    "from sklearn.metrics import confusion_matrix\n",
    "from sklearn.tree import DecisionTreeClassifier\n",
    "import matplotlib.pyplot as plt\n",
    "import seaborn as sns\n",
    "import xgboost as xgb\n",
    "from collections import Counter"
   ]
  },
  {
   "cell_type": "markdown",
   "id": "0700e014",
   "metadata": {},
   "source": [
    "## Code"
   ]
  },
  {
   "cell_type": "code",
   "execution_count": 2,
   "id": "201832dc",
   "metadata": {},
   "outputs": [],
   "source": [
    "fp_train = \"tdt05-2021-challenge-2/challenge2_train.csv\"\n",
    "fp_test = \"tdt05-2021-challenge-2/challenge2_test.csv\""
   ]
  },
  {
   "cell_type": "code",
   "execution_count": 3,
   "id": "8b6add30",
   "metadata": {},
   "outputs": [],
   "source": [
    "df_train = pd.read_csv(fp_train)  # 81.488% False, 18.512% True\n",
    "df_test = pd.read_csv(fp_test)\n",
    "\n",
    "cleaned_df = df_train.copy(deep=True)"
   ]
  },
  {
   "cell_type": "code",
   "execution_count": 4,
   "id": "7a72d452",
   "metadata": {},
   "outputs": [],
   "source": [
    "cleaned_df['f2'] = df_train['f2'].apply(lambda x: ord(x) - ord('a') if pd.notnull(x) else x)"
   ]
  },
  {
   "cell_type": "code",
   "execution_count": 5,
   "outputs": [],
   "source": [
    "cleaned_df['f5'] = df_train['f5'].apply(lambda x: None if x == -1 else x)\n",
    "cleaned_df['f6'] = df_train['f6'].apply(lambda x: None if x == -1 else x)"
   ],
   "metadata": {
    "collapsed": false,
    "pycharm": {
     "name": "#%%\n"
    }
   }
  },
  {
   "cell_type": "markdown",
   "source": [
    "### Alphabetical transformations"
   ],
   "metadata": {
    "collapsed": false,
    "pycharm": {
     "name": "#%% md\n"
    }
   }
  },
  {
   "cell_type": "code",
   "execution_count": 6,
   "outputs": [],
   "source": [
    "# F10 sin correlasjonsmatrise med løsningen indikerer at bokstaver har nær relasjon til de i nærheten alfabetisk.\n",
    "# også i f13. Usikker om disse trenger å normaliseres.\n",
    "\n",
    "f10 = df_train['f10'].apply(lambda x: ord(x) - ord('A') if pd.notnull(x) else x)\n",
    "cleaned_df['f10'] = (f10 - f10.min())/(f10.max() - f10.min())\n",
    "\n",
    "f13 = df_train['f13'].apply(lambda x: ord(x) - ord('a') if pd.notnull(x) else x)\n",
    "cleaned_df['f13'] = (f13 - f13.min())/(f13.max() - f13.min())\n",
    "\n",
    "# binary\n",
    "cleaned_df['f20'] = df_train['f20'].apply(lambda x: (x//10)*2 + x%10 if pd.notnull(x) else x)\n",
    "# f27 is the same as f20, droppit\n",
    "cleaned_df.drop(['f27'], axis=1, inplace=True)\n",
    "\n",
    "cleaned_df['f4'] = df_train['f4'].apply(lambda x: (x=='B')*1. if pd.notnull(x) else x)\n",
    "cleaned_df['f25'] = df_train['f25'].apply(lambda x: (x=='T')*1. if pd.notnull(x) else x)\n",
    "cleaned_df['f26'] = df_train['f26'].apply(lambda x: (x=='S')*1. if pd.notnull(x) else x)\n",
    "\n",
    "cleaned_df['f22'] = df_train['f22'].replace({'R': 0, 'G': 1, 'B': 2})\n",
    "\n",
    "\n",
    "cleaned_df['f18'] = df_train['f18'].apply(lambda x: ord(x) - ord('A') if pd.notnull(x) else x)\n",
    "cleaned_df['f19'] = df_train['f19'].apply(lambda x: 10*x if pd.notnull(x) else x)\n"
   ],
   "metadata": {
    "collapsed": false,
    "pycharm": {
     "name": "#%%\n"
    }
   }
  },
  {
   "cell_type": "markdown",
   "source": [
    "### HEX transforms"
   ],
   "metadata": {
    "collapsed": false,
    "pycharm": {
     "name": "#%% md\n"
    }
   }
  },
  {
   "cell_type": "code",
   "execution_count": 7,
   "outputs": [],
   "source": [
    "# F8\n",
    "f8 = df_train['f8'].apply(lambda x: int(x, base=16) if pd.notnull(x) else x)\n",
    "cleaned_df['f8'] = (f8 - f8.min())/(f8.max() - f8.min())  # NORMALIZING\n",
    "\n",
    "# F12\n",
    "f12 = df_train['f12'].apply(lambda x: int(x, base=16) if pd.notnull(x) else x)\n",
    "cleaned_df['f12'] = (f12 - f12.min())/(f12.max() - f12.min())  # NORMALIZING\n",
    "\n",
    "# F14\n",
    "f14 = df_train['f14'].apply(lambda x: int(x, base=16) if pd.notnull(x) else x)\n",
    "cleaned_df['f14'] = (f14 - f14.min())/(f14.max() - f14.min())  # NORMALIZING\n",
    "\n",
    "# F15\n",
    "f15 = df_train['f15'].apply(lambda x: int(x, base=16) if pd.notnull(x) else x)\n",
    "cleaned_df['f15'] = (f15 - f15.min())/(f15.max() - f15.min())  # NORMALIZING\n",
    "\n",
    "# F15\n",
    "f23 = df_train['f23'].apply(lambda x: int(x, base=16) if pd.notnull(x) else x)\n",
    "cleaned_df['f23'] = (f23 - f23.min())/(f23.max() - f23.min())  # NORMALIZING"
   ],
   "metadata": {
    "collapsed": false,
    "pycharm": {
     "name": "#%%\n"
    }
   }
  },
  {
   "cell_type": "code",
   "execution_count": 8,
   "outputs": [],
   "source": [
    "# f1: Not really hex, but ok:\n",
    "def ord_multi(x):\n",
    "    '''\n",
    "    Takes inn a string with two letters, takes ordinal of each and assumes base 26\n",
    "    :param x: string of two letters, can be both cap an low-case\n",
    "    :return: float\n",
    "    '''\n",
    "\n",
    "    if pd.isnull(x):\n",
    "        return x\n",
    "    num = ord(x[0])\n",
    "    if x[0].islower():\n",
    "        num -= 6\n",
    "    num = num * 52 # 26*2\n",
    "\n",
    "    num += ord(x[1])\n",
    "    if x[1].islower():\n",
    "        num -= 6\n",
    "    return num\n",
    "\n",
    "f1 = df_train['f1'].apply(ord_multi)\n",
    "cleaned_df['f1'] = (f1 - f1.min())/(f1.max() - f1.min()) # Normalized"
   ],
   "metadata": {
    "collapsed": false,
    "pycharm": {
     "name": "#%%\n"
    }
   }
  },
  {
   "cell_type": "markdown",
   "source": [
    "# Distribution operations"
   ],
   "metadata": {
    "collapsed": false,
    "pycharm": {
     "name": "#%% md\n"
    }
   }
  },
  {
   "cell_type": "code",
   "execution_count": 39,
   "outputs": [],
   "source": [
    "# f11 seems normally distributed. Could be an idea to push onto uniform\n",
    "cleaned_df['f11'] = (df_train['f11'] - df_train['f11'].min())/(df_train['f11'].max() - df_train['f11'].min())\n",
    "\n",
    "cleaned_df['f16'] = df_train['f16'] - df_train['f16'].min()\n",
    "\n",
    "#f17: long tail distribution. Do quantile binning\n",
    "f17 = np.log(df_train['f17'])\n",
    "cleaned_df['f17'] = (f17 - f17.min())/(f17.max() - f17.min())\n",
    "\n",
    "# f28: normally distributed.\n",
    "cleaned_df['f28'] = (df_train['f28'] - df_train['f28'].min())/(df_train['f28'].max() - df_train['f28'].min())"
   ],
   "metadata": {
    "collapsed": false,
    "pycharm": {
     "name": "#%%\n"
    }
   }
  },
  {
   "cell_type": "code",
   "source": [
    "# Density exploring\n",
    "col = f1  # df_train['f28']# .apply(lambda x: None if x == -1 else x)\n",
    "x = cleaned_df['f17'] #(col - col.min())/(col.max() - col.min())\n",
    "plt.figure(figsize=(10,5))\n",
    "plt.xlim(0,1)\n",
    "plt.xlabel('Price')\n",
    "plt.ylabel('Density')\n",
    "sns.kdeplot(x,shade=True)\n",
    "plt.show()"
   ],
   "metadata": {
    "collapsed": false,
    "pycharm": {
     "name": "#%%\n"
    }
   },
   "execution_count": 41,
   "outputs": [
    {
     "data": {
      "text/plain": "<Figure size 720x360 with 1 Axes>",
      "image/png": "[encoded data removed]"
     },
     "metadata": {
      "needs_background": "light"
     },
     "output_type": "display_data"
    }
   ]
  },
  {
   "cell_type": "markdown",
   "source": [
    "df_train[['f19', 'f18']].value_counts(sort=0, normalize=True)*100"
   ],
   "metadata": {
    "collapsed": false,
    "pycharm": {
     "name": "#%% md\n"
    }
   }
  },
  {
   "cell_type": "markdown",
   "source": [
    "## Features\n",
    "\n",
    "Categorical:\n",
    "f9: 5 farger kan evt konvertere til tre features med 1/0 i rgb kolonner\n",
    "f22: 3 farger\n",
    "\n",
    "Numerical:\n",
    "f5: 12\n",
    "f8: continuous\n",
    "f10: 26\n",
    "f11: continuous\n",
    "f12: continuous\n",
    "f13: 26\n",
    "f14: continuous\n",
    "f15 continuous but weird distribution\n",
    "f17: long-tail\n",
    "f23: cont\n",
    "f24 continuous but weird distribution\n",
    "f1: cont, but words converted to their ordinal encoding\n",
    "\n",
    "Both:\n",
    "f0 : 2\n",
    "f3: 3\n",
    "f4 : 2\n",
    "f6: 2\n",
    "f7: 6\n",
    "f18: 6, a-f men ikke noe lineært der. Nesten helt lik fordeling og targetinntrykk som f19\n",
    "f19: 6, a-f men ikke noe lineært der. Nesten helt lik fordeling og targetinntrykk som f18\n",
    "f20: 4,\n",
    "f21: 7\n",
    "f22: 3\n",
    "f25: 2 TF\n",
    "f26: 2 S/N\n",
    "\n",
    "TOSS:\n",
    "f27 is the same as f20. Toss one of them.\n",
    "\n",
    "\n",
    "TODO:\n",
    "f9"
   ],
   "metadata": {
    "collapsed": false,
    "pycharm": {
     "name": "#%% md\n"
    }
   }
  },
  {
   "cell_type": "markdown",
   "source": [
    "rgb\n",
    "\n",
    "1,0,0\n",
    "0,1,0\n",
    "1,1,1\n",
    "0,0,0\n",
    "1,1,0"
   ],
   "metadata": {
    "collapsed": false,
    "pycharm": {
     "name": "#%% md\n"
    }
   }
  },
  {
   "cell_type": "code",
   "execution_count": 25,
   "outputs": [
    {
     "data": {
      "text/plain": "         f8      f9   f10       f11       f12       f13       f14       f15  \\\n0  0.590215  yellow  0.08  0.234947  0.108895  0.500000  0.088004  0.470652   \n1  0.625974   green  0.00  0.291058  0.362094  0.428571  0.334158  0.114032   \n2  0.648969   white  0.28  0.484297  0.942573  0.142857  0.680349  0.717129   \n3  0.085286  yellow  0.40  0.120424  0.337501  0.142857  0.526789  0.649460   \n4  0.702688  yellow  0.96  0.501600  0.334802  0.000000  0.192889  0.470652   \n\n   f16  f17  \n0  1.0  3.0  \n1  NaN  0.0  \n2  2.0  1.0  \n3  4.0  NaN  \n4  1.0  0.0  ",
      "text/html": "<div>\n<style scoped>\n    .dataframe tbody tr th:only-of-type {\n        vertical-align: middle;\n    }\n\n    .dataframe tbody tr th {\n        vertical-align: top;\n    }\n\n    .dataframe thead th {\n        text-align: right;\n    }\n</style>\n<table border=\"1\" class=\"dataframe\">\n  <thead>\n    <tr style=\"text-align: right;\">\n      <th></th>\n      <th>f8</th>\n      <th>f9</th>\n      <th>f10</th>\n      <th>f11</th>\n      <th>f12</th>\n      <th>f13</th>\n      <th>f14</th>\n      <th>f15</th>\n      <th>f16</th>\n      <th>f17</th>\n    </tr>\n  </thead>\n  <tbody>\n    <tr>\n      <th>0</th>\n      <td>0.590215</td>\n      <td>yellow</td>\n      <td>0.08</td>\n      <td>0.234947</td>\n      <td>0.108895</td>\n      <td>0.500000</td>\n      <td>0.088004</td>\n      <td>0.470652</td>\n      <td>1.0</td>\n      <td>3.0</td>\n    </tr>\n    <tr>\n      <th>1</th>\n      <td>0.625974</td>\n      <td>green</td>\n      <td>0.00</td>\n      <td>0.291058</td>\n      <td>0.362094</td>\n      <td>0.428571</td>\n      <td>0.334158</td>\n      <td>0.114032</td>\n      <td>NaN</td>\n      <td>0.0</td>\n    </tr>\n    <tr>\n      <th>2</th>\n      <td>0.648969</td>\n      <td>white</td>\n      <td>0.28</td>\n      <td>0.484297</td>\n      <td>0.942573</td>\n      <td>0.142857</td>\n      <td>0.680349</td>\n      <td>0.717129</td>\n      <td>2.0</td>\n      <td>1.0</td>\n    </tr>\n    <tr>\n      <th>3</th>\n      <td>0.085286</td>\n      <td>yellow</td>\n      <td>0.40</td>\n      <td>0.120424</td>\n      <td>0.337501</td>\n      <td>0.142857</td>\n      <td>0.526789</td>\n      <td>0.649460</td>\n      <td>4.0</td>\n      <td>NaN</td>\n    </tr>\n    <tr>\n      <th>4</th>\n      <td>0.702688</td>\n      <td>yellow</td>\n      <td>0.96</td>\n      <td>0.501600</td>\n      <td>0.334802</td>\n      <td>0.000000</td>\n      <td>0.192889</td>\n      <td>0.470652</td>\n      <td>1.0</td>\n      <td>0.0</td>\n    </tr>\n  </tbody>\n</table>\n</div>"
     },
     "execution_count": 25,
     "metadata": {},
     "output_type": "execute_result"
    }
   ],
   "source": [
    "cleaned_df.iloc[:5, 10:20]"
   ],
   "metadata": {
    "collapsed": false,
    "pycharm": {
     "name": "#%%\n"
    }
   }
  },
  {
   "cell_type": "code",
   "execution_count": 12,
   "outputs": [
    {
     "data": {
      "text/plain": "red       13429\nwhite     11704\ngreen      9169\nyellow     7963\nblack      6246\nName: f9, dtype: int64"
     },
     "execution_count": 12,
     "metadata": {},
     "output_type": "execute_result"
    }
   ],
   "source": [
    "df_train['f9'].value_counts()"
   ],
   "metadata": {
    "collapsed": false,
    "pycharm": {
     "name": "#%%\n"
    }
   }
  },
  {
   "cell_type": "code",
   "execution_count": 13,
   "outputs": [
    {
     "data": {
      "text/plain": "0        0.0\n1        NaN\n2        1.0\n3        1.0\n4        2.0\n        ... \n49995    0.0\n49996    0.0\n49997    1.0\n49998    0.0\n49999    1.0\nName: f22, Length: 50000, dtype: float64"
     },
     "execution_count": 13,
     "metadata": {},
     "output_type": "execute_result"
    }
   ],
   "source": [
    "df_train['f22'].replace({'R': 0, 'G': 1, 'B': 2})"
   ],
   "metadata": {
    "collapsed": false,
    "pycharm": {
     "name": "#%%\n"
    }
   }
  },
  {
   "cell_type": "code",
   "execution_count": 14,
   "outputs": [],
   "source": [
    "cleaned_df.to_csv('engineered_data.csv')"
   ],
   "metadata": {
    "collapsed": false,
    "pycharm": {
     "name": "#%%\n"
    }
   }
  },
  {
   "cell_type": "code",
   "execution_count": 53,
   "outputs": [
    {
     "name": "stdout",
     "output_type": "stream",
     "text": [
      "Imbalanced by: 4.4019014693172\n"
     ]
    }
   ],
   "source": [
    "X_tr, X_vl = train_test_split(cleaned_df.drop(['id', 'target', 'f9'], axis=1), test_size=0.1, random_state=0)\n",
    "Y_tr, Y_vl = train_test_split(cleaned_df['target'], test_size=0.1, random_state=0)\n",
    "\n",
    "counter = Counter(cleaned_df['target'])\n",
    "imbalancedness = counter[0] / counter[1]\n",
    "print(f'Imbalanced by: {imbalancedness}')"
   ],
   "metadata": {
    "collapsed": false,
    "pycharm": {
     "name": "#%%\n"
    }
   }
  },
  {
   "cell_type": "code",
   "execution_count": 54,
   "outputs": [],
   "source": [
    "clf = xgb.XGBClassifier(objective=\"binary:logistic\", random_state=0, scale_pos_weight=imbalancedness)\n",
    "# clf.fit(X_tr, Y_tr)"
   ],
   "metadata": {
    "collapsed": false,
    "pycharm": {
     "name": "#%%\n"
    }
   }
  },
  {
   "cell_type": "code",
   "execution_count": 56,
   "outputs": [
    {
     "ename": "NotFittedError",
     "evalue": "need to call fit or load_model beforehand",
     "output_type": "error",
     "traceback": [
      "\u001B[0;31m---------------------------------------------------------------------------\u001B[0m",
      "\u001B[0;31mNotFittedError\u001B[0m                            Traceback (most recent call last)",
      "\u001B[0;32m<ipython-input-56-a294554265a8>\u001B[0m in \u001B[0;36m<module>\u001B[0;34m\u001B[0m\n\u001B[0;32m----> 1\u001B[0;31m \u001B[0my_pred\u001B[0m \u001B[0;34m=\u001B[0m \u001B[0mclf\u001B[0m\u001B[0;34m.\u001B[0m\u001B[0mpredict\u001B[0m\u001B[0;34m(\u001B[0m\u001B[0mX_vl\u001B[0m\u001B[0;34m)\u001B[0m\u001B[0;34m\u001B[0m\u001B[0;34m\u001B[0m\u001B[0m\n\u001B[0m\u001B[1;32m      2\u001B[0m \u001B[0mprint\u001B[0m\u001B[0;34m(\u001B[0m\u001B[0mconfusion_matrix\u001B[0m\u001B[0;34m(\u001B[0m\u001B[0my_pred\u001B[0m\u001B[0;34m=\u001B[0m\u001B[0my_pred\u001B[0m\u001B[0;34m,\u001B[0m \u001B[0my_true\u001B[0m\u001B[0;34m=\u001B[0m\u001B[0mY_vl\u001B[0m\u001B[0;34m)\u001B[0m\u001B[0;34m)\u001B[0m\u001B[0;34m\u001B[0m\u001B[0;34m\u001B[0m\u001B[0m\n\u001B[1;32m      3\u001B[0m \u001B[0;34m\u001B[0m\u001B[0m\n",
      "\u001B[0;32m/Library/Frameworks/Python.framework/Versions/3.6/lib/python3.6/site-packages/xgboost/sklearn.py\u001B[0m in \u001B[0;36mpredict\u001B[0;34m(self, X, output_margin, ntree_limit, validate_features, base_margin, iteration_range)\u001B[0m\n\u001B[1;32m   1213\u001B[0m             \u001B[0mvalidate_features\u001B[0m\u001B[0;34m=\u001B[0m\u001B[0mvalidate_features\u001B[0m\u001B[0;34m,\u001B[0m\u001B[0;34m\u001B[0m\u001B[0;34m\u001B[0m\u001B[0m\n\u001B[1;32m   1214\u001B[0m             \u001B[0mbase_margin\u001B[0m\u001B[0;34m=\u001B[0m\u001B[0mbase_margin\u001B[0m\u001B[0;34m,\u001B[0m\u001B[0;34m\u001B[0m\u001B[0;34m\u001B[0m\u001B[0m\n\u001B[0;32m-> 1215\u001B[0;31m             \u001B[0miteration_range\u001B[0m\u001B[0;34m=\u001B[0m\u001B[0miteration_range\u001B[0m\u001B[0;34m,\u001B[0m\u001B[0;34m\u001B[0m\u001B[0;34m\u001B[0m\u001B[0m\n\u001B[0m\u001B[1;32m   1216\u001B[0m         )\n\u001B[1;32m   1217\u001B[0m         \u001B[0;32mif\u001B[0m \u001B[0moutput_margin\u001B[0m\u001B[0;34m:\u001B[0m\u001B[0;34m\u001B[0m\u001B[0;34m\u001B[0m\u001B[0m\n",
      "\u001B[0;32m/Library/Frameworks/Python.framework/Versions/3.6/lib/python3.6/site-packages/xgboost/sklearn.py\u001B[0m in \u001B[0;36mpredict\u001B[0;34m(self, X, output_margin, ntree_limit, validate_features, base_margin, iteration_range)\u001B[0m\n\u001B[1;32m    813\u001B[0m         \"\"\"\n\u001B[1;32m    814\u001B[0m         iteration_range = _convert_ntree_limit(\n\u001B[0;32m--> 815\u001B[0;31m             \u001B[0mself\u001B[0m\u001B[0;34m.\u001B[0m\u001B[0mget_booster\u001B[0m\u001B[0;34m(\u001B[0m\u001B[0;34m)\u001B[0m\u001B[0;34m,\u001B[0m \u001B[0mntree_limit\u001B[0m\u001B[0;34m,\u001B[0m \u001B[0miteration_range\u001B[0m\u001B[0;34m\u001B[0m\u001B[0;34m\u001B[0m\u001B[0m\n\u001B[0m\u001B[1;32m    816\u001B[0m         )\n\u001B[1;32m    817\u001B[0m         \u001B[0miteration_range\u001B[0m \u001B[0;34m=\u001B[0m \u001B[0mself\u001B[0m\u001B[0;34m.\u001B[0m\u001B[0m_get_iteration_range\u001B[0m\u001B[0;34m(\u001B[0m\u001B[0miteration_range\u001B[0m\u001B[0;34m)\u001B[0m\u001B[0;34m\u001B[0m\u001B[0;34m\u001B[0m\u001B[0m\n",
      "\u001B[0;32m/Library/Frameworks/Python.framework/Versions/3.6/lib/python3.6/site-packages/xgboost/sklearn.py\u001B[0m in \u001B[0;36mget_booster\u001B[0;34m(self)\u001B[0m\n\u001B[1;32m    395\u001B[0m         \u001B[0;32mif\u001B[0m \u001B[0;32mnot\u001B[0m \u001B[0mhasattr\u001B[0m\u001B[0;34m(\u001B[0m\u001B[0mself\u001B[0m\u001B[0;34m,\u001B[0m \u001B[0;34m'_Booster'\u001B[0m\u001B[0;34m)\u001B[0m\u001B[0;34m:\u001B[0m\u001B[0;34m\u001B[0m\u001B[0;34m\u001B[0m\u001B[0m\n\u001B[1;32m    396\u001B[0m             \u001B[0;32mfrom\u001B[0m \u001B[0msklearn\u001B[0m\u001B[0;34m.\u001B[0m\u001B[0mexceptions\u001B[0m \u001B[0;32mimport\u001B[0m \u001B[0mNotFittedError\u001B[0m\u001B[0;34m\u001B[0m\u001B[0;34m\u001B[0m\u001B[0m\n\u001B[0;32m--> 397\u001B[0;31m             \u001B[0;32mraise\u001B[0m \u001B[0mNotFittedError\u001B[0m\u001B[0;34m(\u001B[0m\u001B[0;34m'need to call fit or load_model beforehand'\u001B[0m\u001B[0;34m)\u001B[0m\u001B[0;34m\u001B[0m\u001B[0;34m\u001B[0m\u001B[0m\n\u001B[0m\u001B[1;32m    398\u001B[0m         \u001B[0;32mreturn\u001B[0m \u001B[0mself\u001B[0m\u001B[0;34m.\u001B[0m\u001B[0m_Booster\u001B[0m\u001B[0;34m\u001B[0m\u001B[0;34m\u001B[0m\u001B[0m\n\u001B[1;32m    399\u001B[0m \u001B[0;34m\u001B[0m\u001B[0m\n",
      "\u001B[0;31mNotFittedError\u001B[0m: need to call fit or load_model beforehand"
     ]
    }
   ],
   "source": [
    "y_pred = clf.predict(X_vl)\n",
    "print(confusion_matrix(y_pred=y_pred, y_true=Y_vl))\n"
   ],
   "metadata": {
    "collapsed": false,
    "pycharm": {
     "name": "#%%\n"
    }
   }
  },
  {
   "cell_type": "code",
   "execution_count": 49,
   "outputs": [
    {
     "name": "stdout",
     "output_type": "stream",
     "text": [
      "Mean ROC AUC: 0.72247\n"
     ]
    }
   ],
   "source": [
    "# define evaluation procedure\n",
    "cv = RepeatedStratifiedKFold(n_splits=10, n_repeats=3, random_state=1)\n",
    "# evaluate model\n",
    "scores = cross_val_score(clf, X_tr, Y_tr, scoring='roc_auc', cv=cv, n_jobs=-1)\n",
    "# summarize performance\n",
    "print('Mean ROC AUC: %.5f' % np.mean(scores))"
   ],
   "metadata": {
    "collapsed": false,
    "pycharm": {
     "name": "#%%\n"
    }
   }
  },
  {
   "cell_type": "code",
   "execution_count": 55,
   "outputs": [
    {
     "name": "stdout",
     "output_type": "stream",
     "text": [
      "Mean ROC AUC: 0.71809\n"
     ]
    }
   ],
   "source": [
    "cv = RepeatedStratifiedKFold(n_splits=10, n_repeats=3, random_state=1)\n",
    "# evaluate model\n",
    "scores = cross_val_score(clf, X_tr, Y_tr, scoring='roc_auc', cv=cv, n_jobs=-1)\n",
    "# summarize performance\n",
    "print('Mean ROC AUC: %.5f' % np.mean(scores))"
   ],
   "metadata": {
    "collapsed": false,
    "pycharm": {
     "name": "#%%\n"
    }
   }
  },
  {
   "cell_type": "code",
   "execution_count": 60,
   "outputs": [
    {
     "name": "stderr",
     "output_type": "stream",
     "text": [
      "/Library/Frameworks/Python.framework/Versions/3.6/lib/python3.6/site-packages/xgboost/sklearn.py:1146: UserWarning: The use of label encoder in XGBClassifier is deprecated and will be removed in a future release. To remove this warning, do the following: 1) Pass option use_label_encoder=False when constructing XGBClassifier object; and 2) Encode your labels (y) as integers starting with 0, i.e. 0, 1, 2, ..., [num_class - 1].\n",
      "  warnings.warn(label_encoder_deprecation_msg, UserWarning)\n"
     ]
    },
    {
     "name": "stdout",
     "output_type": "stream",
     "text": [
      "[11:56:26] WARNING: /Users/travis/build/dmlc/xgboost/src/learner.cc:1095: Starting in XGBoost 1.3.0, the default evaluation metric used with the objective 'binary:logistic' was changed from 'error' to 'logloss'. Explicitly set eval_metric if you'd like to restore the old behavior.\n",
      "[[3122  927]\n",
      " [ 434  517]]\n"
     ]
    }
   ],
   "source": [
    "clf.fit(X_tr, Y_tr, verbose=True)\n",
    "y_pred = clf.predict(X_vl)\n",
    "print(confusion_matrix(y_pred=y_pred, y_true=Y_vl))"
   ],
   "metadata": {
    "collapsed": false,
    "pycharm": {
     "name": "#%%\n"
    }
   }
  },
  {
   "cell_type": "code",
   "execution_count": null,
   "outputs": [],
   "source": [],
   "metadata": {
    "collapsed": false,
    "pycharm": {
     "name": "#%%\n"
    }
   }
  }
 ],
 "metadata": {
  "kernelspec": {
   "display_name": "Python 3",
   "language": "python",
   "name": "python3"
  },
  "language_info": {
   "codemirror_mode": {
    "name": "ipython",
    "version": 3
   },
   "file_extension": ".py",
   "mimetype": "text/x-python",
   "name": "python",
   "nbconvert_exporter": "python",
   "pygments_lexer": "ipython3",
   "version": "3.6.8"
  }
 },
 "nbformat": 4,
 "nbformat_minor": 5
}