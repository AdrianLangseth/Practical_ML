{
 "cells": [
  {
   "cell_type": "markdown",
   "source": [
    "## Imports"
   ],
   "metadata": {}
  },
  {
   "cell_type": "code",
   "execution_count": 1,
   "source": [
    "import numpy as np\r\n",
    "import pandas as pd\r\n",
    "from sklearn.model_selection import train_test_split, cross_val_score, RepeatedStratifiedKFold\r\n",
    "from sklearn.metrics import confusion_matrix\r\n",
    "from sklearn.tree import DecisionTreeClassifier\r\n",
    "import matplotlib.pyplot as plt\r\n",
    "import seaborn as sns\r\n",
    "import xgboost as xgb\r\n",
    "from collections import Counter"
   ],
   "outputs": [],
   "metadata": {}
  },
  {
   "cell_type": "markdown",
   "source": [
    "## Code"
   ],
   "metadata": {}
  },
  {
   "cell_type": "code",
   "execution_count": 2,
   "source": [
    "fp_train = \"../tdt05-2021-challenge-2/challenge2_train.csv\"\r\n",
    "fp_test = \"../tdt05-2021-challenge-2/challenge2_test.csv\""
   ],
   "outputs": [],
   "metadata": {}
  },
  {
   "cell_type": "code",
   "execution_count": 4,
   "source": [
    "df_train = pd.read_csv(fp_train)  # 81.488% False, 18.512% True\r\n",
    "df_test = pd.read_csv(fp_test)\r\n",
    "\r\n",
    "cleaned_df = df_train.copy(deep=True)"
   ],
   "outputs": [],
   "metadata": {}
  },
  {
   "cell_type": "code",
   "execution_count": 5,
   "source": [
    "cleaned_df['f2'] = df_train['f2'].apply(lambda x: ord(x) - ord('a') if pd.notnull(x) else x)"
   ],
   "outputs": [],
   "metadata": {}
  },
  {
   "cell_type": "code",
   "execution_count": 6,
   "source": [
    "cleaned_df['f5'] = df_train['f5'].apply(lambda x: None if x == -1 else x)\r\n",
    "cleaned_df['f6'] = df_train['f6'].apply(lambda x: None if x == -1 else x)"
   ],
   "outputs": [],
   "metadata": {
    "collapsed": false,
    "pycharm": {
     "name": "#%%\n"
    }
   }
  },
  {
   "cell_type": "markdown",
   "source": [
    "### Alphabetical transformations"
   ],
   "metadata": {
    "collapsed": false,
    "pycharm": {
     "name": "#%% md\n"
    }
   }
  },
  {
   "cell_type": "code",
   "execution_count": 7,
   "source": [
    "# F10 sin correlasjonsmatrise med løsningen indikerer at bokstaver har nær relasjon til de i nærheten alfabetisk.\r\n",
    "# også i f13. Usikker om disse trenger å normaliseres.\r\n",
    "\r\n",
    "f10 = df_train['f10'].apply(lambda x: ord(x) - ord('A') if pd.notnull(x) else x)\r\n",
    "cleaned_df['f10'] = (f10 - f10.min())/(f10.max() - f10.min())\r\n",
    "\r\n",
    "f13 = df_train['f13'].apply(lambda x: ord(x) - ord('a') if pd.notnull(x) else x)\r\n",
    "cleaned_df['f13'] = (f13 - f13.min())/(f13.max() - f13.min())\r\n",
    "\r\n",
    "# binary\r\n",
    "cleaned_df['f20'] = df_train['f20'].apply(lambda x: (x//10)*2 + x%10 if pd.notnull(x) else x)\r\n",
    "# f27 is the same as f20, droppit\r\n",
    "cleaned_df.drop(['f27'], axis=1, inplace=True)\r\n",
    "\r\n",
    "cleaned_df['f4'] = df_train['f4'].apply(lambda x: (x=='B')*1. if pd.notnull(x) else x)\r\n",
    "cleaned_df['f25'] = df_train['f25'].apply(lambda x: (x=='T')*1. if pd.notnull(x) else x)\r\n",
    "cleaned_df['f26'] = df_train['f26'].apply(lambda x: (x=='S')*1. if pd.notnull(x) else x)\r\n",
    "\r\n",
    "cleaned_df['f22'] = df_train['f22'].replace({'R': 0, 'G': 1, 'B': 2})\r\n",
    "\r\n",
    "\r\n",
    "cleaned_df['f18'] = df_train['f18'].apply(lambda x: ord(x) - ord('A') if pd.notnull(x) else x)\r\n",
    "cleaned_df['f19'] = df_train['f19'].apply(lambda x: 10*x if pd.notnull(x) else x)\r\n"
   ],
   "outputs": [],
   "metadata": {
    "collapsed": false,
    "pycharm": {
     "name": "#%%\n"
    }
   }
  },
  {
   "cell_type": "markdown",
   "source": [
    "### HEX transforms"
   ],
   "metadata": {
    "collapsed": false,
    "pycharm": {
     "name": "#%% md\n"
    }
   }
  },
  {
   "cell_type": "code",
   "execution_count": 8,
   "source": [
    "# F8\r\n",
    "f8 = df_train['f8'].apply(lambda x: int(x, base=16) if pd.notnull(x) else x)\r\n",
    "cleaned_df['f8'] = (f8 - f8.min())/(f8.max() - f8.min())  # NORMALIZING\r\n",
    "\r\n",
    "# F12\r\n",
    "f12 = df_train['f12'].apply(lambda x: int(x, base=16) if pd.notnull(x) else x)\r\n",
    "cleaned_df['f12'] = (f12 - f12.min())/(f12.max() - f12.min())  # NORMALIZING\r\n",
    "\r\n",
    "# F14\r\n",
    "f14 = df_train['f14'].apply(lambda x: int(x, base=16) if pd.notnull(x) else x)\r\n",
    "cleaned_df['f14'] = (f14 - f14.min())/(f14.max() - f14.min())  # NORMALIZING\r\n",
    "\r\n",
    "# F15\r\n",
    "f15 = df_train['f15'].apply(lambda x: int(x, base=16) if pd.notnull(x) else x)\r\n",
    "cleaned_df['f15'] = (f15 - f15.min())/(f15.max() - f15.min())  # NORMALIZING\r\n",
    "\r\n",
    "# F23\r\n",
    "f23 = df_train['f23'].apply(lambda x: int(x, base=16) if pd.notnull(x) else x)\r\n",
    "cleaned_df['f23'] = (f23 - f23.min())/(f23.max() - f23.min())  # NORMALIZING"
   ],
   "outputs": [],
   "metadata": {
    "collapsed": false,
    "pycharm": {
     "name": "#%%\n"
    }
   }
  },
  {
   "cell_type": "code",
   "execution_count": 9,
   "source": [
    "# f1: Not really hex, but ok:\r\n",
    "def ord_multi(x):\r\n",
    "    '''\r\n",
    "    Takes inn a string with two letters, takes ordinal of each and assumes base 26\r\n",
    "    :param x: string of two letters, can be both cap an low-case\r\n",
    "    :return: float\r\n",
    "    '''\r\n",
    "\r\n",
    "    if pd.isnull(x):\r\n",
    "        return x\r\n",
    "    num = 0\r\n",
    "    for i in range(0, 2):\r\n",
    "        digit = ord(x[i]) - 65\r\n",
    "        if x[i].islower():\r\n",
    "            digit -= 32\r\n",
    "        num += digit * 26**(2-i)  # 26^i = 26 (base) to the power of i (position)\r\n",
    "\r\n",
    "    return num\r\n",
    "\r\n",
    "f1 = df_train['f1'].apply(ord_multi)\r\n",
    "cleaned_df['f1'] = (f1 - f1.min())/(f1.max() - f1.min()) # Normalized"
   ],
   "outputs": [],
   "metadata": {
    "collapsed": false,
    "pycharm": {
     "name": "#%%\n"
    }
   }
  },
  {
   "cell_type": "markdown",
   "source": [
    "# Distribution operations"
   ],
   "metadata": {
    "collapsed": false,
    "pycharm": {
     "name": "#%% md\n"
    }
   }
  },
  {
   "cell_type": "code",
   "execution_count": 10,
   "source": [
    "# f11 seems normally distributed. Could be an idea to push onto uniform\r\n",
    "cleaned_df['f11'] = (df_train['f11'] - df_train['f11'].min())/(df_train['f11'].max() - df_train['f11'].min())\r\n",
    "\r\n",
    "cleaned_df['f16'] = df_train['f16'] - df_train['f16'].min()\r\n",
    "\r\n",
    "#f17: long tail distribution. Do quantile binning\r\n",
    "f17 = np.log(df_train['f17'])\r\n",
    "cleaned_df['f17'] = (f17 - f17.min())/(f17.max() - f17.min())\r\n",
    "\r\n",
    "# f28: normally distributed.\r\n",
    "cleaned_df['f28'] = (df_train['f28'] - df_train['f28'].min())/(df_train['f28'].max() - df_train['f28'].min())"
   ],
   "outputs": [],
   "metadata": {
    "collapsed": false,
    "pycharm": {
     "name": "#%%\n"
    }
   }
  },
  {
   "cell_type": "code",
   "execution_count": 11,
   "source": [
    "# Density exploring\r\n",
    "col = f1  # df_train['f28']# .apply(lambda x: None if x == -1 else x)\r\n",
    "x = cleaned_df['f17'] #(col - col.min())/(col.max() - col.min())\r\n",
    "plt.figure(figsize=(10,5))\r\n",
    "plt.xlim(0,1)\r\n",
    "plt.xlabel('Price')\r\n",
    "plt.ylabel('Density')\r\n",
    "sns.kdeplot(x,shade=True)\r\n",
    "plt.show()"
   ],
   "outputs": [
    {
     "output_type": "display_data",
     "data": {
      "text/plain": [
       "<Figure size 720x360 with 1 Axes>"
      ],
      "image/png": "[encoded data removed]"
     },
     "metadata": {
      "needs_background": "light"
     }
    }
   ],
   "metadata": {
    "collapsed": false,
    "pycharm": {
     "name": "#%%\n"
    }
   }
  },
  {
   "cell_type": "markdown",
   "source": [
    "df_train[['f19', 'f18']].value_counts(sort=0, normalize=True)*100"
   ],
   "metadata": {
    "collapsed": false,
    "pycharm": {
     "name": "#%% md\n"
    }
   }
  },
  {
   "cell_type": "markdown",
   "source": [
    "## Features\n",
    "\n",
    "Categorical:\n",
    "f9: 5 farger kan evt konvertere til tre features med 1/0 i rgb kolonner\n",
    "f22: 3 farger\n",
    "\n",
    "Numerical:\n",
    "f5: 12\n",
    "f8: continuous\n",
    "f10: 26\n",
    "f11: continuous\n",
    "f12: continuous\n",
    "f13: 26\n",
    "f14: continuous\n",
    "f15 continuous but weird distribution\n",
    "f17: long-tail\n",
    "f23: cont\n",
    "f24 continuous but weird distribution\n",
    "f1: cont, but words converted to their ordinal encoding\n",
    "\n",
    "Both:\n",
    "f0 : 2\n",
    "f3: 3\n",
    "f4 : 2\n",
    "f6: 2\n",
    "f7: 6\n",
    "f18: 6, a-f men ikke noe lineært der. Nesten helt lik fordeling og targetinntrykk som f19\n",
    "f19: 6, a-f men ikke noe lineært der. Nesten helt lik fordeling og targetinntrykk som f18\n",
    "f20: 4,\n",
    "f21: 7\n",
    "f22: 3\n",
    "f25: 2 TF\n",
    "f26: 2 S/N\n",
    "\n",
    "TOSS:\n",
    "f27 is the same as f20. Toss one of them.\n",
    "\n",
    "\n",
    "TODO:\n",
    "f9"
   ],
   "metadata": {
    "collapsed": false,
    "pycharm": {
     "name": "#%% md\n"
    }
   }
  },
  {
   "cell_type": "markdown",
   "source": [
    "rgb\n",
    "\n",
    "1,0,0\n",
    "0,1,0\n",
    "1,1,1\n",
    "0,0,0\n",
    "1,1,0"
   ],
   "metadata": {
    "collapsed": false,
    "pycharm": {
     "name": "#%% md\n"
    }
   }
  },
  {
   "cell_type": "code",
   "execution_count": 12,
   "source": [
    "cleaned_df.iloc[:5, 10:20]"
   ],
   "outputs": [
    {
     "output_type": "execute_result",
     "data": {
      "text/plain": [
       "         f8      f9   f10       f11       f12       f13       f14       f15  \\\n",
       "0  0.590215  yellow  0.08  0.234947  0.108895  0.500000  0.088004  0.470652   \n",
       "1  0.625974   green  0.00  0.291058  0.362094  0.428571  0.334158  0.114032   \n",
       "2  0.648969   white  0.28  0.484297  0.942573  0.142857  0.680349  0.717129   \n",
       "3  0.085286  yellow  0.40  0.120424  0.337501  0.142857  0.526789  0.649460   \n",
       "4  0.702688  yellow  0.96  0.501600  0.334802  0.000000  0.192889  0.470652   \n",
       "\n",
       "   f16       f17  \n",
       "0  1.0  0.411984  \n",
       "1  NaN  0.268834  \n",
       "2  2.0  0.330668  \n",
       "3  4.0       NaN  \n",
       "4  1.0  0.236807  "
      ],
      "text/html": [
       "<div>\n",
       "<style scoped>\n",
       "    .dataframe tbody tr th:only-of-type {\n",
       "        vertical-align: middle;\n",
       "    }\n",
       "\n",
       "    .dataframe tbody tr th {\n",
       "        vertical-align: top;\n",
       "    }\n",
       "\n",
       "    .dataframe thead th {\n",
       "        text-align: right;\n",
       "    }\n",
       "</style>\n",
       "<table border=\"1\" class=\"dataframe\">\n",
       "  <thead>\n",
       "    <tr style=\"text-align: right;\">\n",
       "      <th></th>\n",
       "      <th>f8</th>\n",
       "      <th>f9</th>\n",
       "      <th>f10</th>\n",
       "      <th>f11</th>\n",
       "      <th>f12</th>\n",
       "      <th>f13</th>\n",
       "      <th>f14</th>\n",
       "      <th>f15</th>\n",
       "      <th>f16</th>\n",
       "      <th>f17</th>\n",
       "    </tr>\n",
       "  </thead>\n",
       "  <tbody>\n",
       "    <tr>\n",
       "      <th>0</th>\n",
       "      <td>0.590215</td>\n",
       "      <td>yellow</td>\n",
       "      <td>0.08</td>\n",
       "      <td>0.234947</td>\n",
       "      <td>0.108895</td>\n",
       "      <td>0.500000</td>\n",
       "      <td>0.088004</td>\n",
       "      <td>0.470652</td>\n",
       "      <td>1.0</td>\n",
       "      <td>0.411984</td>\n",
       "    </tr>\n",
       "    <tr>\n",
       "      <th>1</th>\n",
       "      <td>0.625974</td>\n",
       "      <td>green</td>\n",
       "      <td>0.00</td>\n",
       "      <td>0.291058</td>\n",
       "      <td>0.362094</td>\n",
       "      <td>0.428571</td>\n",
       "      <td>0.334158</td>\n",
       "      <td>0.114032</td>\n",
       "      <td>NaN</td>\n",
       "      <td>0.268834</td>\n",
       "    </tr>\n",
       "    <tr>\n",
       "      <th>2</th>\n",
       "      <td>0.648969</td>\n",
       "      <td>white</td>\n",
       "      <td>0.28</td>\n",
       "      <td>0.484297</td>\n",
       "      <td>0.942573</td>\n",
       "      <td>0.142857</td>\n",
       "      <td>0.680349</td>\n",
       "      <td>0.717129</td>\n",
       "      <td>2.0</td>\n",
       "      <td>0.330668</td>\n",
       "    </tr>\n",
       "    <tr>\n",
       "      <th>3</th>\n",
       "      <td>0.085286</td>\n",
       "      <td>yellow</td>\n",
       "      <td>0.40</td>\n",
       "      <td>0.120424</td>\n",
       "      <td>0.337501</td>\n",
       "      <td>0.142857</td>\n",
       "      <td>0.526789</td>\n",
       "      <td>0.649460</td>\n",
       "      <td>4.0</td>\n",
       "      <td>NaN</td>\n",
       "    </tr>\n",
       "    <tr>\n",
       "      <th>4</th>\n",
       "      <td>0.702688</td>\n",
       "      <td>yellow</td>\n",
       "      <td>0.96</td>\n",
       "      <td>0.501600</td>\n",
       "      <td>0.334802</td>\n",
       "      <td>0.000000</td>\n",
       "      <td>0.192889</td>\n",
       "      <td>0.470652</td>\n",
       "      <td>1.0</td>\n",
       "      <td>0.236807</td>\n",
       "    </tr>\n",
       "  </tbody>\n",
       "</table>\n",
       "</div>"
      ]
     },
     "metadata": {},
     "execution_count": 12
    }
   ],
   "metadata": {
    "collapsed": false,
    "pycharm": {
     "name": "#%%\n"
    }
   }
  },
  {
   "cell_type": "code",
   "execution_count": 13,
   "source": [
    "df_train['f9'].value_counts()"
   ],
   "outputs": [
    {
     "output_type": "execute_result",
     "data": {
      "text/plain": [
       "red       13429\n",
       "white     11704\n",
       "green      9169\n",
       "yellow     7963\n",
       "black      6246\n",
       "Name: f9, dtype: int64"
      ]
     },
     "metadata": {},
     "execution_count": 13
    }
   ],
   "metadata": {
    "collapsed": false,
    "pycharm": {
     "name": "#%%\n"
    }
   }
  },
  {
   "cell_type": "code",
   "execution_count": 14,
   "source": [
    "df_train['f22'].replace({'R': 0, 'G': 1, 'B': 2})"
   ],
   "outputs": [
    {
     "output_type": "execute_result",
     "data": {
      "text/plain": [
       "0        0.0\n",
       "1        NaN\n",
       "2        1.0\n",
       "3        1.0\n",
       "4        2.0\n",
       "        ... \n",
       "49995    0.0\n",
       "49996    0.0\n",
       "49997    1.0\n",
       "49998    0.0\n",
       "49999    1.0\n",
       "Name: f22, Length: 50000, dtype: float64"
      ]
     },
     "metadata": {},
     "execution_count": 14
    }
   ],
   "metadata": {
    "collapsed": false,
    "pycharm": {
     "name": "#%%\n"
    }
   }
  },
  {
   "cell_type": "code",
   "execution_count": 15,
   "source": [
    "cleaned_df.to_csv('engineered_data.csv')"
   ],
   "outputs": [],
   "metadata": {
    "collapsed": false,
    "pycharm": {
     "name": "#%%\n"
    }
   }
  },
  {
   "cell_type": "code",
   "execution_count": 16,
   "source": [
    "X_tr, X_vl = train_test_split(cleaned_df.drop(['id', 'target', 'f9'], axis=1), test_size=0.1, random_state=0)\r\n",
    "Y_tr, Y_vl = train_test_split(cleaned_df['target'], test_size=0.1, random_state=0)\r\n",
    "\r\n",
    "counter = Counter(cleaned_df['target'])\r\n",
    "imbalancedness = counter[0] / counter[1]\r\n",
    "print(f'Imbalanced by: {imbalancedness}')"
   ],
   "outputs": [
    {
     "output_type": "stream",
     "name": "stdout",
     "text": [
      "Imbalanced by: 4.4019014693172\n"
     ]
    }
   ],
   "metadata": {
    "collapsed": false,
    "pycharm": {
     "name": "#%%\n"
    }
   }
  },
  {
   "cell_type": "code",
   "execution_count": 54,
   "source": [
    "clf = xgb.XGBClassifier(objective=\"binary:logistic\", random_state=0, scale_pos_weight=imbalancedness)\r\n",
    "# clf.fit(X_tr, Y_tr)"
   ],
   "outputs": [],
   "metadata": {
    "collapsed": false,
    "pycharm": {
     "name": "#%%\n"
    }
   }
  },
  {
   "cell_type": "code",
   "execution_count": 56,
   "source": [
    "y_pred = clf.predict(X_vl)\r\n",
    "print(confusion_matrix(y_pred=y_pred, y_true=Y_vl))\r\n"
   ],
   "outputs": [
    {
     "output_type": "error",
     "ename": "NotFittedError",
     "evalue": "need to call fit or load_model beforehand",
     "traceback": [
      "\u001b[0;31m---------------------------------------------------------------------------\u001b[0m",
      "\u001b[0;31mNotFittedError\u001b[0m                            Traceback (most recent call last)",
      "\u001b[0;32m<ipython-input-56-a294554265a8>\u001b[0m in \u001b[0;36m<module>\u001b[0;34m\u001b[0m\n\u001b[0;32m----> 1\u001b[0;31m \u001b[0my_pred\u001b[0m \u001b[0;34m=\u001b[0m \u001b[0mclf\u001b[0m\u001b[0;34m.\u001b[0m\u001b[0mpredict\u001b[0m\u001b[0;34m(\u001b[0m\u001b[0mX_vl\u001b[0m\u001b[0;34m)\u001b[0m\u001b[0;34m\u001b[0m\u001b[0;34m\u001b[0m\u001b[0m\n\u001b[0m\u001b[1;32m      2\u001b[0m \u001b[0mprint\u001b[0m\u001b[0;34m(\u001b[0m\u001b[0mconfusion_matrix\u001b[0m\u001b[0;34m(\u001b[0m\u001b[0my_pred\u001b[0m\u001b[0;34m=\u001b[0m\u001b[0my_pred\u001b[0m\u001b[0;34m,\u001b[0m \u001b[0my_true\u001b[0m\u001b[0;34m=\u001b[0m\u001b[0mY_vl\u001b[0m\u001b[0;34m)\u001b[0m\u001b[0;34m)\u001b[0m\u001b[0;34m\u001b[0m\u001b[0;34m\u001b[0m\u001b[0m\n\u001b[1;32m      3\u001b[0m \u001b[0;34m\u001b[0m\u001b[0m\n",
      "\u001b[0;32m/Library/Frameworks/Python.framework/Versions/3.6/lib/python3.6/site-packages/xgboost/sklearn.py\u001b[0m in \u001b[0;36mpredict\u001b[0;34m(self, X, output_margin, ntree_limit, validate_features, base_margin, iteration_range)\u001b[0m\n\u001b[1;32m   1213\u001b[0m             \u001b[0mvalidate_features\u001b[0m\u001b[0;34m=\u001b[0m\u001b[0mvalidate_features\u001b[0m\u001b[0;34m,\u001b[0m\u001b[0;34m\u001b[0m\u001b[0;34m\u001b[0m\u001b[0m\n\u001b[1;32m   1214\u001b[0m             \u001b[0mbase_margin\u001b[0m\u001b[0;34m=\u001b[0m\u001b[0mbase_margin\u001b[0m\u001b[0;34m,\u001b[0m\u001b[0;34m\u001b[0m\u001b[0;34m\u001b[0m\u001b[0m\n\u001b[0;32m-> 1215\u001b[0;31m             \u001b[0miteration_range\u001b[0m\u001b[0;34m=\u001b[0m\u001b[0miteration_range\u001b[0m\u001b[0;34m,\u001b[0m\u001b[0;34m\u001b[0m\u001b[0;34m\u001b[0m\u001b[0m\n\u001b[0m\u001b[1;32m   1216\u001b[0m         )\n\u001b[1;32m   1217\u001b[0m         \u001b[0;32mif\u001b[0m \u001b[0moutput_margin\u001b[0m\u001b[0;34m:\u001b[0m\u001b[0;34m\u001b[0m\u001b[0;34m\u001b[0m\u001b[0m\n",
      "\u001b[0;32m/Library/Frameworks/Python.framework/Versions/3.6/lib/python3.6/site-packages/xgboost/sklearn.py\u001b[0m in \u001b[0;36mpredict\u001b[0;34m(self, X, output_margin, ntree_limit, validate_features, base_margin, iteration_range)\u001b[0m\n\u001b[1;32m    813\u001b[0m         \"\"\"\n\u001b[1;32m    814\u001b[0m         iteration_range = _convert_ntree_limit(\n\u001b[0;32m--> 815\u001b[0;31m             \u001b[0mself\u001b[0m\u001b[0;34m.\u001b[0m\u001b[0mget_booster\u001b[0m\u001b[0;34m(\u001b[0m\u001b[0;34m)\u001b[0m\u001b[0;34m,\u001b[0m \u001b[0mntree_limit\u001b[0m\u001b[0;34m,\u001b[0m \u001b[0miteration_range\u001b[0m\u001b[0;34m\u001b[0m\u001b[0;34m\u001b[0m\u001b[0m\n\u001b[0m\u001b[1;32m    816\u001b[0m         )\n\u001b[1;32m    817\u001b[0m         \u001b[0miteration_range\u001b[0m \u001b[0;34m=\u001b[0m \u001b[0mself\u001b[0m\u001b[0;34m.\u001b[0m\u001b[0m_get_iteration_range\u001b[0m\u001b[0;34m(\u001b[0m\u001b[0miteration_range\u001b[0m\u001b[0;34m)\u001b[0m\u001b[0;34m\u001b[0m\u001b[0;34m\u001b[0m\u001b[0m\n",
      "\u001b[0;32m/Library/Frameworks/Python.framework/Versions/3.6/lib/python3.6/site-packages/xgboost/sklearn.py\u001b[0m in \u001b[0;36mget_booster\u001b[0;34m(self)\u001b[0m\n\u001b[1;32m    395\u001b[0m         \u001b[0;32mif\u001b[0m \u001b[0;32mnot\u001b[0m \u001b[0mhasattr\u001b[0m\u001b[0;34m(\u001b[0m\u001b[0mself\u001b[0m\u001b[0;34m,\u001b[0m \u001b[0;34m'_Booster'\u001b[0m\u001b[0;34m)\u001b[0m\u001b[0;34m:\u001b[0m\u001b[0;34m\u001b[0m\u001b[0;34m\u001b[0m\u001b[0m\n\u001b[1;32m    396\u001b[0m             \u001b[0;32mfrom\u001b[0m \u001b[0msklearn\u001b[0m\u001b[0;34m.\u001b[0m\u001b[0mexceptions\u001b[0m \u001b[0;32mimport\u001b[0m \u001b[0mNotFittedError\u001b[0m\u001b[0;34m\u001b[0m\u001b[0;34m\u001b[0m\u001b[0m\n\u001b[0;32m--> 397\u001b[0;31m             \u001b[0;32mraise\u001b[0m \u001b[0mNotFittedError\u001b[0m\u001b[0;34m(\u001b[0m\u001b[0;34m'need to call fit or load_model beforehand'\u001b[0m\u001b[0;34m)\u001b[0m\u001b[0;34m\u001b[0m\u001b[0;34m\u001b[0m\u001b[0m\n\u001b[0m\u001b[1;32m    398\u001b[0m         \u001b[0;32mreturn\u001b[0m \u001b[0mself\u001b[0m\u001b[0;34m.\u001b[0m\u001b[0m_Booster\u001b[0m\u001b[0;34m\u001b[0m\u001b[0;34m\u001b[0m\u001b[0m\n\u001b[1;32m    399\u001b[0m \u001b[0;34m\u001b[0m\u001b[0m\n",
      "\u001b[0;31mNotFittedError\u001b[0m: need to call fit or load_model beforehand"
     ]
    }
   ],
   "metadata": {
    "collapsed": false,
    "pycharm": {
     "name": "#%%\n"
    }
   }
  },
  {
   "cell_type": "code",
   "execution_count": 49,
   "source": [
    "# define evaluation procedure\r\n",
    "cv = RepeatedStratifiedKFold(n_splits=10, n_repeats=3, random_state=1)\r\n",
    "# evaluate model\r\n",
    "scores = cross_val_score(clf, X_tr, Y_tr, scoring='roc_auc', cv=cv, n_jobs=-1)\r\n",
    "# summarize performance\r\n",
    "print('Mean ROC AUC: %.5f' % np.mean(scores))"
   ],
   "outputs": [
    {
     "output_type": "stream",
     "name": "stdout",
     "text": [
      "Mean ROC AUC: 0.72247\n"
     ]
    }
   ],
   "metadata": {
    "collapsed": false,
    "pycharm": {
     "name": "#%%\n"
    }
   }
  },
  {
   "cell_type": "code",
   "execution_count": 55,
   "source": [
    "cv = RepeatedStratifiedKFold(n_splits=10, n_repeats=3, random_state=1)\r\n",
    "# evaluate model\r\n",
    "scores = cross_val_score(clf, X_tr, Y_tr, scoring='roc_auc', cv=cv, n_jobs=-1)\r\n",
    "# summarize performance\r\n",
    "print('Mean ROC AUC: %.5f' % np.mean(scores))"
   ],
   "outputs": [
    {
     "output_type": "stream",
     "name": "stdout",
     "text": [
      "Mean ROC AUC: 0.71809\n"
     ]
    }
   ],
   "metadata": {
    "collapsed": false,
    "pycharm": {
     "name": "#%%\n"
    }
   }
  },
  {
   "cell_type": "code",
   "execution_count": 60,
   "source": [
    "clf.fit(X_tr, Y_tr, verbose=True)\r\n",
    "y_pred = clf.predict(X_vl)\r\n",
    "print(confusion_matrix(y_pred=y_pred, y_true=Y_vl))"
   ],
   "outputs": [
    {
     "output_type": "stream",
     "name": "stderr",
     "text": [
      "/Library/Frameworks/Python.framework/Versions/3.6/lib/python3.6/site-packages/xgboost/sklearn.py:1146: UserWarning: The use of label encoder in XGBClassifier is deprecated and will be removed in a future release. To remove this warning, do the following: 1) Pass option use_label_encoder=False when constructing XGBClassifier object; and 2) Encode your labels (y) as integers starting with 0, i.e. 0, 1, 2, ..., [num_class - 1].\n",
      "  warnings.warn(label_encoder_deprecation_msg, UserWarning)\n"
     ]
    },
    {
     "output_type": "stream",
     "name": "stdout",
     "text": [
      "[11:56:26] WARNING: /Users/travis/build/dmlc/xgboost/src/learner.cc:1095: Starting in XGBoost 1.3.0, the default evaluation metric used with the objective 'binary:logistic' was changed from 'error' to 'logloss'. Explicitly set eval_metric if you'd like to restore the old behavior.\n",
      "[[3122  927]\n",
      " [ 434  517]]\n"
     ]
    }
   ],
   "metadata": {
    "collapsed": false,
    "pycharm": {
     "name": "#%%\n"
    }
   }
  },
  {
   "cell_type": "code",
   "execution_count": 49,
   "source": [
    "def clean_and_feature_engineer(filepath_x:str):\r\n",
    "    \"\"\"\r\n",
    "    Takes in the dataset, and does the feature engineering on the data. If it is a training set (containing a target\r\n",
    "    column, it should extract this, and return it with the cleaned and feture engineered dataset.\r\n",
    "    :param filepath_X: relative filepath to the dataset csv file\r\n",
    "    :return: the tuple of (X, y) if a target col exists, else (X,)\r\n",
    "\r\n",
    "    ToDo:\r\n",
    "    - Currently it normalizes over largest recorded in whatever it sends in, meaning the normalization is different for\r\n",
    "    train and test. Make this function based on constants or adapt to allow running both through at same time.\r\n",
    "    - Maybe we do not need normalization.\r\n",
    "    \"\"\"\r\n",
    "\r\n",
    "    original_df = pd.read_csv(filepath_x).copy(deep=True)\r\n",
    "    df_x = original_df.copy(deep=True)\r\n",
    "    df_y = None\r\n",
    "    training_bool = 'target' in df_x\r\n",
    "    if training_bool:\r\n",
    "        df_y = df_x['target'].apply(lambda x: float(x) if pd.notnull(x) else x)\r\n",
    "        df_x.drop(['target'], axis=1, inplace=True)\r\n",
    "    df_x.drop(['id'], axis=1, inplace=True)\r\n",
    "\r\n",
    "\r\n",
    "    # FEATURE ENGINEERING\r\n",
    "\r\n",
    "    # f0 is left unaltered\r\n",
    "\r\n",
    "    # f1_temp is converted to its value, but need helper function for it\r\n",
    "    def ord_multi(x):\r\n",
    "        '''\r\n",
    "        Takes inn a string with two letters, takes ordinal of each and assumes base 26\r\n",
    "        :param x: string of two letters, can be both cap an low-case\r\n",
    "        :return: float\r\n",
    "        '''\r\n",
    "        if pd.isnull(x):\r\n",
    "            return x\r\n",
    "        num = ord(x[0])\r\n",
    "        if x[0].islower():\r\n",
    "            num -= 6\r\n",
    "        num = num * 52 # 26*2\r\n",
    "\r\n",
    "        num += ord(x[1])\r\n",
    "        if x[1].islower():\r\n",
    "            num -= 6\r\n",
    "        return num\r\n",
    "\r\n",
    "    f1_temp = original_df['f1'].apply(ord_multi)\r\n",
    "    df_x['f1'] = (f1_temp - f1_temp.min()) / (f1_temp.max() - f1_temp.min()) # Normalized\r\n",
    "\r\n",
    "\r\n",
    "    # f2 is converted to its corresponding number\r\n",
    "    df_x['f2'] = original_df['f2'].apply(lambda x: ord(x) - ord('a') if pd.notnull(x) else x)\r\n",
    "\r\n",
    "    # f3 is kept as is\r\n",
    "\r\n",
    "    # f4 is converted to number\r\n",
    "    df_x['f4'] = original_df['f4'].apply(lambda x: (x=='B')*1. if pd.notnull(x) else x)\r\n",
    "\r\n",
    "    # f5 and f6 are nums but -1 must be removed\r\n",
    "    df_x['f5'] = original_df['f5'].apply(lambda x: None if x == -1 else x)\r\n",
    "    df_x['f6'] = original_df['f6'].apply(lambda x: None if x == -1 else x)\r\n",
    "\r\n",
    "    # f7 is kept as is\r\n",
    "\r\n",
    "    # f8 is hex, convert and normalize\r\n",
    "    f8_temp = original_df['f8'].apply(lambda x: int(x, base=16) if pd.notnull(x) else x)\r\n",
    "    df_x['f8'] = (f8_temp - f8_temp.min())/(f8_temp.max() - f8_temp.min())  # NORMALIZING\r\n",
    "\r\n",
    "    # no idea what to do with this, drop it.\r\n",
    "    df_x.drop(['f9'], axis=1, inplace=True)\r\n",
    "\r\n",
    "    # convert and normalize, from earlier \"# F10 sin correlasjonsmatrise med løsningen indikerer at bokstaver har nær relasjon til de i nærheten alfabetisk.\r\n",
    "    # også i f13. Usikker om disse trenger å normaliseres.\"\r\n",
    "    f10_temp = original_df['f10'].apply(lambda x: ord(x) - ord('A') if pd.notnull(x) else x)\r\n",
    "    df_x['f10'] = (f10_temp - f10_temp.min())/(f10_temp.max() - f10_temp.min())\r\n",
    "\r\n",
    "    # f11 seems normally distributed. Could be an idea to push onto uniform. Is fine as is, but we normalize.\r\n",
    "    f11_temp = original_df['f11']\r\n",
    "    df_x['f11'] = (f11_temp - f11_temp.min())/(f11_temp.max() - f11_temp.min())\r\n",
    "\r\n",
    "    # F12 is hex, convert and normalize\r\n",
    "    f12_temp = original_df['f12'].apply(lambda x: int(x, base=16) if pd.notnull(x) else x)\r\n",
    "    df_x['f12'] = (f12_temp - f12_temp.min())/(f12_temp.max() - f12_temp.min())  # NORMALIZING\r\n",
    "\r\n",
    "    # f13 is alpha, convert and normalize\r\n",
    "    f13_temp = original_df['f13'].apply(lambda x: ord(x) - ord('a') if pd.notnull(x) else x)\r\n",
    "    df_x['f13'] = (f13_temp - ord('a'))/(ord('0') - ord('a'))\r\n",
    "\r\n",
    "    # F14 is hex, convert and normalize\r\n",
    "    f14_temp = original_df['f14'].apply(lambda x: int(x, base=16) if pd.notnull(x) else x)\r\n",
    "    df_x['f14'] = (f14_temp - f14_temp.min())/(f14_temp.max() - f14_temp.min())  # NORMALIZING\r\n",
    "\r\n",
    "    # F15 is hex, convert and normalize\r\n",
    "    f15_temp = original_df['f15'].apply(lambda x: int(x, base=16) if pd.notnull(x) else x)\r\n",
    "    df_x['f15'] = (f15_temp - f15_temp.min())/(f15_temp.max() - f15_temp.min())  # NORMALIZING\r\n",
    "\r\n",
    "    df_x['f16'] = original_df['f16'] - original_df['f16'].min()\r\n",
    "\r\n",
    "    #f17: long tail distribution. Do quantile binning / log-it\r\n",
    "    f17_temp = np.log(original_df['f17'])\r\n",
    "    df_x['f17'] = (f17_temp - f17_temp.min())/(f17_temp.max() - f17_temp.min())\r\n",
    "\r\n",
    "    # f18 is capital Alpha, convert.\r\n",
    "    df_x['f18'] = original_df['f18'].apply(lambda x: ord(x) - ord('A') if pd.notnull(x) else x)\r\n",
    "\r\n",
    "    # f19 is decimals, upscale.\r\n",
    "    df_x['f19'] = original_df['f19'].apply(lambda x: 10*x if pd.notnull(x) else x)\r\n",
    "\r\n",
    "    # binary\r\n",
    "    df_x['f20'] = original_df['f20'].apply(lambda x: int(str(int(x)), base=2) if pd.notnull(x) else x)\r\n",
    "\r\n",
    "    #f21 is kept as is\r\n",
    "\r\n",
    "    # f22 is color (RGB), but how to convert?\r\n",
    "    df_x['f22'] = original_df['f22'].replace({'R': 0, 'G': 1, 'B': 2})\r\n",
    "\r\n",
    "    # f23 is hex again, same procedure ...\r\n",
    "    f23_temp = original_df['f23'].apply(lambda x: int(x, base=16) if pd.notnull(x) else x)\r\n",
    "    df_x['f23'] = (f23_temp - f23_temp.min())/(f23_temp.max() - f23_temp.min())  # NORMALIZING\r\n",
    "\r\n",
    "    # f24 is kept as is\r\n",
    "\r\n",
    "    #f25 and f26 are bools, convert\r\n",
    "    df_x['f25'] = original_df['f25'].apply(lambda x: (x=='T')*1. if pd.notnull(x) else x)\r\n",
    "    df_x['f26'] = original_df['f26'].apply(lambda x: (x=='S')*1. if pd.notnull(x) else x)\r\n",
    "\r\n",
    "    # f27 is the same as f20, dropping it as it contributes nothing\r\n",
    "    df_x.drop(['f27'], axis=1, inplace=True)\r\n",
    "\r\n",
    "    # f28: normally distributed.\r\n",
    "    f28_temp = original_df['f28']\r\n",
    "    df_x['f28'] = (f28_temp - f28_temp.min())/(f28_temp.max() - f28_temp.min())\r\n",
    "\r\n",
    "    return df_x, df_y"
   ],
   "outputs": [],
   "metadata": {
    "collapsed": false,
    "pycharm": {
     "name": "#%%\n"
    }
   }
  },
  {
   "cell_type": "code",
   "execution_count": 92,
   "source": [
    "X, Y = clean_and_feature_engineer(fp_train)\r\n",
    "test, _ = clean_and_feature_engineer(fp_test)\r\n",
    "\r\n",
    "X_tr, X_val, y_tr, y_val = train_test_split(X, Y, test_size=0.2)"
   ],
   "outputs": [],
   "metadata": {
    "collapsed": false,
    "pycharm": {
     "name": "#%%\n"
    }
   }
  },
  {
   "cell_type": "code",
   "execution_count": 102,
   "source": [
    "counter = Counter(Y)\r\n",
    "imbalancedness = counter[0] / counter[1]\r\n",
    "clf = xgb.XGBRegressor(objective=\"binary:logistic\", scale_pos_weight=imbalancedness, eval_metric='auc')\r\n",
    "clf.fit(X_tr, y_tr, eval_set=[(X_val, y_val)], eval_metric='auc', early_stopping_rounds=20)"
   ],
   "outputs": [
    {
     "output_type": "stream",
     "name": "stdout",
     "text": [
      "[0]\tvalidation_0-auc:0.68857\n",
      "[1]\tvalidation_0-auc:0.70100\n",
      "[2]\tvalidation_0-auc:0.71542\n",
      "[3]\tvalidation_0-auc:0.71796\n",
      "[4]\tvalidation_0-auc:0.72037\n",
      "[5]\tvalidation_0-auc:0.72180\n",
      "[6]\tvalidation_0-auc:0.72603\n",
      "[7]\tvalidation_0-auc:0.72775\n",
      "[8]\tvalidation_0-auc:0.72901\n",
      "[9]\tvalidation_0-auc:0.72985\n",
      "[10]\tvalidation_0-auc:0.73255\n",
      "[11]\tvalidation_0-auc:0.73176\n",
      "[12]\tvalidation_0-auc:0.73183\n",
      "[13]\tvalidation_0-auc:0.73261\n",
      "[14]\tvalidation_0-auc:0.73311\n",
      "[15]\tvalidation_0-auc:0.73447\n",
      "[16]\tvalidation_0-auc:0.73398\n",
      "[17]\tvalidation_0-auc:0.73328\n",
      "[18]\tvalidation_0-auc:0.73389\n",
      "[19]\tvalidation_0-auc:0.73395\n",
      "[20]\tvalidation_0-auc:0.73409\n",
      "[21]\tvalidation_0-auc:0.73486\n",
      "[22]\tvalidation_0-auc:0.73558\n",
      "[23]\tvalidation_0-auc:0.73597\n",
      "[24]\tvalidation_0-auc:0.73650\n",
      "[25]\tvalidation_0-auc:0.73612\n",
      "[26]\tvalidation_0-auc:0.73632\n",
      "[27]\tvalidation_0-auc:0.73630\n",
      "[28]\tvalidation_0-auc:0.73673\n",
      "[29]\tvalidation_0-auc:0.73709\n",
      "[30]\tvalidation_0-auc:0.73708\n",
      "[31]\tvalidation_0-auc:0.73702\n",
      "[32]\tvalidation_0-auc:0.73736\n",
      "[33]\tvalidation_0-auc:0.73711\n",
      "[34]\tvalidation_0-auc:0.73735\n",
      "[35]\tvalidation_0-auc:0.73752\n",
      "[36]\tvalidation_0-auc:0.73827\n",
      "[37]\tvalidation_0-auc:0.73831\n",
      "[38]\tvalidation_0-auc:0.73747\n",
      "[39]\tvalidation_0-auc:0.73689\n",
      "[40]\tvalidation_0-auc:0.73665\n",
      "[41]\tvalidation_0-auc:0.73693\n",
      "[42]\tvalidation_0-auc:0.73672\n",
      "[43]\tvalidation_0-auc:0.73581\n",
      "[44]\tvalidation_0-auc:0.73572\n",
      "[45]\tvalidation_0-auc:0.73575\n",
      "[46]\tvalidation_0-auc:0.73602\n",
      "[47]\tvalidation_0-auc:0.73600\n",
      "[48]\tvalidation_0-auc:0.73597\n",
      "[49]\tvalidation_0-auc:0.73577\n",
      "[50]\tvalidation_0-auc:0.73517\n",
      "[51]\tvalidation_0-auc:0.73556\n",
      "[52]\tvalidation_0-auc:0.73545\n",
      "[53]\tvalidation_0-auc:0.73520\n",
      "[54]\tvalidation_0-auc:0.73553\n",
      "[55]\tvalidation_0-auc:0.73597\n",
      "[56]\tvalidation_0-auc:0.73634\n"
     ]
    },
    {
     "output_type": "execute_result",
     "data": {
      "text/plain": [
       "XGBRegressor(base_score=0.5, booster='gbtree', colsample_bylevel=1,\n",
       "             colsample_bynode=1, colsample_bytree=1, eval_metric='auc', gamma=0,\n",
       "             gpu_id=-1, importance_type='gain', interaction_constraints='',\n",
       "             learning_rate=0.300000012, max_delta_step=0, max_depth=6,\n",
       "             min_child_weight=1, missing=nan, monotone_constraints='()',\n",
       "             n_estimators=100, n_jobs=4, num_parallel_tree=1,\n",
       "             objective='binary:logistic', random_state=0, reg_alpha=0,\n",
       "             reg_lambda=1, scale_pos_weight=4.4019014693172, subsample=1,\n",
       "             tree_method='exact', validate_parameters=1, verbosity=None)"
      ]
     },
     "metadata": {},
     "execution_count": 102
    }
   ],
   "metadata": {
    "collapsed": false,
    "pycharm": {
     "name": "#%%\n"
    }
   }
  },
  {
   "cell_type": "code",
   "execution_count": 103,
   "source": [
    "clf.best_iteration"
   ],
   "outputs": [
    {
     "output_type": "execute_result",
     "data": {
      "text/plain": [
       "37"
      ]
     },
     "metadata": {},
     "execution_count": 103
    }
   ],
   "metadata": {
    "collapsed": false,
    "pycharm": {
     "name": "#%%\n"
    }
   }
  },
  {
   "cell_type": "code",
   "execution_count": 104,
   "source": [
    "y_pred = clf.predict(test, ntree_limit=clf.best_ntree_limit)"
   ],
   "outputs": [
    {
     "output_type": "stream",
     "name": "stderr",
     "text": [
      "/Library/Frameworks/Python.framework/Versions/3.6/lib/python3.6/site-packages/xgboost/core.py:104: UserWarning: ntree_limit is deprecated, use `iteration_range` or model slicing instead.\n",
      "  UserWarning\n"
     ]
    }
   ],
   "metadata": {
    "collapsed": false,
    "pycharm": {
     "name": "#%%\n"
    }
   }
  },
  {
   "cell_type": "code",
   "execution_count": 105,
   "source": [
    "r = pd.DataFrame(y_pred)\r\n",
    "r['id'] = r.index + 50000\r\n",
    "r.rename({0:'target'}, axis=1, inplace=True)\r\n",
    "r.head()\r\n",
    "r.to_csv('Results_simple_xgboost.csv', index=False)"
   ],
   "outputs": [],
   "metadata": {
    "collapsed": false,
    "pycharm": {
     "name": "#%%\n"
    }
   }
  },
  {
   "cell_type": "code",
   "execution_count": 106,
   "source": [
    "clf.best_ntree_limit"
   ],
   "outputs": [
    {
     "output_type": "execute_result",
     "data": {
      "text/plain": [
       "38"
      ]
     },
     "metadata": {},
     "execution_count": 106
    }
   ],
   "metadata": {
    "collapsed": false,
    "pycharm": {
     "name": "#%%\n"
    }
   }
  },
  {
   "cell_type": "code",
   "execution_count": null,
   "source": [],
   "outputs": [],
   "metadata": {
    "collapsed": false,
    "pycharm": {
     "name": "#%%\n"
    }
   }
  }
 ],
 "metadata": {
  "kernelspec": {
   "name": "python3",
   "display_name": "Python 3.8.10 64-bit ('TDT05': conda)"
  },
  "language_info": {
   "codemirror_mode": {
    "name": "ipython",
    "version": 3
   },
   "file_extension": ".py",
   "mimetype": "text/x-python",
   "name": "python",
   "nbconvert_exporter": "python",
   "pygments_lexer": "ipython3",
   "version": "3.8.10"
  },
  "interpreter": {
   "hash": "d663a46a6f865b9fff65a8e55487c0a7a7e2a38a4bb32e474e4d414e81b5a643"
  }
 },
 "nbformat": 4,
 "nbformat_minor": 5
}